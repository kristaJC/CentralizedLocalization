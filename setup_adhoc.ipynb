{
 "cells": [
  {
   "cell_type": "code",
   "execution_count": 0,
   "metadata": {
    "application/vnd.databricks.v1+cell": {
     "cellMetadata": {},
     "inputWidgets": {},
     "nuid": "3aa24d11-db47-4bfd-99f8-80adeb9e48e2",
     "showTitle": false,
     "tableResultSettingsMap": {},
     "title": ""
    }
   },
   "outputs": [],
   "source": []
  },
  {
   "cell_type": "code",
   "execution_count": 0,
   "metadata": {
    "application/vnd.databricks.v1+cell": {
     "cellMetadata": {
      "byteLimit": 2048000,
      "rowLimit": 10000
     },
     "inputWidgets": {},
     "nuid": "ad83042b-467a-4929-919e-5a2c2e45c334",
     "showTitle": false,
     "tableResultSettingsMap": {},
     "title": ""
    }
   },
   "outputs": [],
   "source": [
    "def setup_widgets():\n",
    "    #dbutils.widgets.text('WorkbookID',\"\") #OR just the WorkbookURL...\n",
    "    dbutils.widgets.text(\"Timestamp\",\"\")\n",
    "    dbutils.widgets.text(\"SubmitterEmail\",\"\")\n",
    "    dbutils.widgets.text(\"DueDate\",\"\")\n",
    "    dbutils.widgets.text(\"Game\",\"\")\n",
    "    dbutils.widgets.text(\"URL\",\"\")\n",
    "    dbutils.widgets.text(\"TargetLanguages\",\"\")\n",
    "    dbutils.widgets.text(\"QAFlag\",\"\")\n",
    "\n",
    "    ### These are others...\n",
    "    dbutils.widgets.text(\"JsonJobSlug\",\"\")\n",
    "    dbutils.widgets.text(\"RowFingerprint\",\"\")\n",
    "    dbutils.widgets.text(\"SourceCD\",\"\")\n",
    "    #dbutils.widgets.text(\"SubmittedDate\",\"\")"
   ]
  },
  {
   "cell_type": "code",
   "execution_count": 0,
   "metadata": {
    "application/vnd.databricks.v1+cell": {
     "cellMetadata": {},
     "inputWidgets": {},
     "nuid": "24e180ee-1543-4d49-80ab-6771e536beec",
     "showTitle": false,
     "tableResultSettingsMap": {},
     "title": ""
    }
   },
   "outputs": [],
   "source": [
    "#setup_widgets()"
   ]
  },
  {
   "cell_type": "code",
   "execution_count": 0,
   "metadata": {
    "application/vnd.databricks.v1+cell": {
     "cellMetadata": {
      "byteLimit": 2048000,
      "rowLimit": 10000
     },
     "inputWidgets": {},
     "nuid": "0459039a-bed6-4b5b-8b27-afb8431abe38",
     "showTitle": false,
     "tableResultSettingsMap": {},
     "title": ""
    }
   },
   "outputs": [],
   "source": [
    "def load_configs(source_cd):\n",
    "    if source_cd == \"ASO Monthly\":\n",
    "        from ProjectConfigs.aso_monthly_config import LANG_MAP #Others, like game specific instructions\n",
    "        print(\"Getting all allowed languages/codes from the config for 'ASO Monthly'\")\n",
    "        all_languages = None\n",
    "        all_language_cds = None\n",
    "        all_language_map = LANG_MAP\n",
    "        #print(source_cd)\n",
    "    if source_cd == \"ASO Ad-Hoc\":\n",
    "        print(\"Getting all allowed languages/codes from the config for 'ASO Ad-Hoc'\")\n",
    "        from ProjectConfigs.aso_adhoc_config import LANG_MAP\n",
    "        all_languages = None\n",
    "        all_language_cds = None\n",
    "        all_language_map = LANG_MAP\n",
    "        #print(source_cd)\n",
    "    if source_cd == \"PP\":\n",
    "        print(\"Getting all allowed languages/codes from the config for 'Panda Pop'\")\n",
    "        from ProjectConfigs.pp_config import ALL_LANGUAGES, ALL_LANGUAGE_CDS, ALL_LANG_MAP\n",
    "        all_languages = ALL_LANGUAGES\n",
    "        all_language_cds = ALL_LANGUAGE_CDS\n",
    "        all_language_map = ALL_LANG_MAP\n",
    "        #print(source_cd)\n",
    "    if source_cd == \"CS\":\n",
    "        print(\"Getting all allowed languages/codes from the config for 'Creatives/Marketing'\")\n",
    "        print(source_cd)\n",
    "        from ProjectConfigs.pp_config import ALL_LANGUAGES, ALL_LANGUAGE_CDS, ALL_LANG_MAP\n",
    "        all_languages = ALL_LANGUAGES\n",
    "        all_language_cds = ALL_LANGUAGE_CDS\n",
    "        all_language_map = ALL_LANG_MAP\n",
    "    #else:\n",
    "\n",
    "    return all_languages, all_language_cds, all_language_map\n",
    "\n",
    "\n",
    "def handle_languages(source_cd, languages=\"\"):\n",
    "    if isinstance(languages,str):\n",
    "        if languages == \"\":\n",
    "            all_languages, all_language_cds, all_language_map = load_configs(source_cd)\n",
    "        else:\n",
    "            #Split the languages, and make sure they align with the language map\n",
    "            _, _, all_language_map = load_configs(source_cd)\n",
    "            split_languages = languages.split(\",\")\n",
    "            all_languages = [s.lstrip() for s in split_languages]\n",
    "            all_language_cds = [all_language_map[lang] for lang in all_languages]\n",
    "            all_language_map = {lang:all_language_map[lang] for lang in all_languages}\n",
    "\n",
    "    return all_languages, all_language_cds, all_language_map \n",
    "\n",
    "\n",
    "def get_widgets():\n",
    "\n",
    "    setup_widgets()\n",
    "\n",
    "    json_job_slug = dbutils.widgets.get(\"JsonJobSlug\")\n",
    "    if json_job_slug !=\"\":\n",
    "        temp_job_dict = json.loads(json_job_slug)#might have to do some parsing\n",
    "        source_cd = temp_job_dict['SourceCD']\n",
    "        languages = temp_job_dict['TargetLanguages']##whatever this is \n",
    "        job_dict = {\n",
    "                'workbook_id':\"\",\n",
    "                'submitted_date':temp_job_dict['Timestamp'],\n",
    "                'submitter_email':temp_job_dict['SubmitterEmail'],\n",
    "                'due_date':temp_job_dict['DueDate'],\n",
    "                'game_name': temp_job_dict['Game'],\n",
    "                'workbook_url':temp_job_dict['URL'],\n",
    "                'qa_flag':temp_job_dict['QAFlag'],\n",
    "                'row_fingerprint':temp_job_dict['RowFingerprint'],\n",
    "                'source_cd':temp_job_dict['SourceCD'],\n",
    "                }\n",
    "    else:\n",
    "\n",
    "        #workbook_id = dbutils.widgets.get(\"WorkbookID\") #\"1PK2eEqNqX276YBgOOWz7MHWpWXAyKo5J1Bil7BgmsCs\"\n",
    "        timestamp = dbutils.widgets.get(\"Timestamp\")\n",
    "        submitter_email=dbutils.widgets.get('SubmitterEmail')\n",
    "        due_date = dbutils.widgets.get('DueDate')\n",
    "        game_name = dbutils.widgets.get(\"Game\")\n",
    "        languages = dbutils.widgets.get(\"TargetLanguages\")\n",
    "        workbook_url = dbutils.widgets.get(\"URL\")\n",
    "        qa_flag = dbutils.widgets.get('QAFlag')\n",
    "        #\n",
    "        row_fingerprint = dbutils.widgets.get(\"RowFingerprint\")\n",
    "        json_job_slug = dbutils.widgets.get(\"JsonJobSlug\")\n",
    "        source_cd = dbutils.widgets.get(\"SourceCD\")\n",
    "        #submitted_date = dbutils.widgets.get(\"SubmittedDate\")\n",
    "        job_dict = {\n",
    "                'workbook_id':\"\",\n",
    "                'timestamp':timestamp,\n",
    "                'submitter_email':submitter_email,\n",
    "                'game_name':game_name,\n",
    "                'workbook_url':workbook_url,\n",
    "                'due_date':due_date,\n",
    "                'qa_flag':qa_flag,\n",
    "                'row_fingerprint':row_fingerprint,\n",
    "                'source_cd':source_cd,\n",
    "                }\n",
    "        \n",
    "         #'submitted_date':submitted_date,\n",
    "\n",
    "    if source_cd not in [\"ASO Monthly\",\"ASO Ad-Hoc\",\"PP\",\"CS\"]:\n",
    "        print('cannot process this type of workflow!!')\n",
    "        return None\n",
    "\n",
    "    # Now handle the language inputs\n",
    "    #all_languages, all_language_cds, all_language_map = handle_languages(source_cd, languages)\n",
    "\n",
    "    #job_dict['all_languages'] = all_languages\n",
    "    #job_dict['all_language_cds'] = all_language_cds\n",
    "    #job_dict['all_language_map'] = all_language_map\n",
    "    \n",
    "\n",
    "    return job_dict\n"
   ]
  },
  {
   "cell_type": "code",
   "execution_count": 0,
   "metadata": {
    "application/vnd.databricks.v1+cell": {
     "cellMetadata": {},
     "inputWidgets": {},
     "nuid": "a953426b-527c-4264-b19f-045593eecdd8",
     "showTitle": false,
     "tableResultSettingsMap": {},
     "title": ""
    }
   },
   "outputs": [],
   "source": []
  }
 ],
 "metadata": {
  "application/vnd.databricks.v1+notebook": {
   "computePreferences": null,
   "dashboards": [],
   "environmentMetadata": {
    "base_environment": "",
    "environment_version": "2"
   },
   "inputWidgetPreferences": null,
   "language": "python",
   "notebookMetadata": {
    "pythonIndentUnit": 4
   },
   "notebookName": "setup_adhoc",
   "widgets": {}
  },
  "language_info": {
   "name": "python"
  }
 },
 "nbformat": 4,
 "nbformat_minor": 0
}
