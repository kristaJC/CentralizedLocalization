{
 "cells": [
  {
   "cell_type": "code",
   "execution_count": 0,
   "metadata": {
    "application/vnd.databricks.v1+cell": {
     "cellMetadata": {
      "byteLimit": 2048000,
      "rowLimit": 10000
     },
     "inputWidgets": {},
     "nuid": "642cd1db-58b0-4032-9e06-61b32609d47f",
     "showTitle": false,
     "tableResultSettingsMap": {},
     "title": ""
    }
   },
   "outputs": [],
   "source": [
    "%pip install -r requirements_base.txt\n",
    "\n",
    "%restart_python"
   ]
  },
  {
   "cell_type": "code",
   "execution_count": 0,
   "metadata": {
    "application/vnd.databricks.v1+cell": {
     "cellMetadata": {
      "byteLimit": 2048000,
      "rowLimit": 10000
     },
     "inputWidgets": {},
     "nuid": "e74b7d5d-6a39-44f6-8fbd-07e8e5c731ac",
     "showTitle": false,
     "tableResultSettingsMap": {},
     "title": ""
    }
   },
   "outputs": [],
   "source": [
    "%load_ext autoreload\n",
    "%autoreload 2 "
   ]
  },
  {
   "cell_type": "code",
   "execution_count": 0,
   "metadata": {
    "application/vnd.databricks.v1+cell": {
     "cellMetadata": {
      "byteLimit": 2048000,
      "rowLimit": 10000
     },
     "inputWidgets": {},
     "nuid": "c31cc893-8e9d-4ac6-a062-9bf752a44976",
     "showTitle": false,
     "tableResultSettingsMap": {},
     "title": ""
    }
   },
   "outputs": [],
   "source": [
    "#url = \"https://docs.google.com/spreadsheets/d/1PK2eEqNqX276YBgOOWz7MHWpWXAyKo5J1Bil7BgmsCs/edit?gid=0#gid=0\"\n",
    "\n",
    "#languages = \"Spanish (Spain), German\""
   ]
  },
  {
   "cell_type": "code",
   "execution_count": 0,
   "metadata": {
    "application/vnd.databricks.v1+cell": {
     "cellMetadata": {
      "byteLimit": 2048000,
      "rowLimit": 10000
     },
     "inputWidgets": {},
     "nuid": "2b1ff8b8-e9ea-405a-a7bc-6157e083b9eb",
     "showTitle": false,
     "tableResultSettingsMap": {},
     "title": ""
    }
   },
   "outputs": [],
   "source": [
    "import pandas as pd\n",
    "import json\n",
    "import random\n",
    "import openai\n",
    "from openai import OpenAI\n",
    "from pathlib import Path\n",
    "from unidecode import unidecode\n",
    "import gspread\n",
    "import os\n",
    "\n",
    "\n",
    "import pyspark\n",
    "from pyspark.sql.functions import *\n",
    "from functools import reduce\n",
    "from typing import *\n",
    "\n",
    "import time\n",
    "import datetime\n",
    "import re\n",
    "import tiktoken\n",
    "\n",
    "from bert_score import score as bert_score\n",
    "\n",
    "\n",
    "import mlflow"
   ]
  },
  {
   "cell_type": "code",
   "execution_count": 0,
   "metadata": {
    "application/vnd.databricks.v1+cell": {
     "cellMetadata": {
      "byteLimit": 2048000,
      "rowLimit": 10000
     },
     "inputWidgets": {},
     "nuid": "abc3b248-4962-42c2-b36c-8bcb08044388",
     "showTitle": false,
     "tableResultSettingsMap": {},
     "title": ""
    }
   },
   "outputs": [],
   "source": [
    "%run \"./setup\""
   ]
  },
  {
   "cell_type": "code",
   "execution_count": 0,
   "metadata": {
    "application/vnd.databricks.v1+cell": {
     "cellMetadata": {
      "byteLimit": 2048000,
      "rowLimit": 10000
     },
     "collapsed": true,
     "inputWidgets": {},
     "nuid": "c063a7df-38dc-4739-8b6a-61cdd4afae9a",
     "showTitle": false,
     "tableResultSettingsMap": {},
     "title": ""
    }
   },
   "outputs": [],
   "source": [
    "#test_json = \"{\"Timestamp\": \"6/23/2025 9:42:44\", \"SubmitterEmail\": \"vanessa.mendoza@jamcity.com\", \"DueDate\": \"7/11/2025\", \"Game\": \"Harry Potter: Hogwarts Mystery\", \"TargetLanguages\": \"Spanish (Latin America), French (France), German, Korean, Italian, Japanese, Simplified Chinese, Traditional Chinese (Taiwan), Portuguese (Brazil)\", \"URL\": \"https://docs.google.com/spreadsheets/d/1T-bKc0iLwmnsUYRhv3nGoDBkJyBdOi8euyaDuHyYTtE/edit?usp=sharing\", \"QAFlag\": \"Yes\", \"ShareStatus\": \"Shared\", \"SyncedAt\": \"2025-07-03T20:24:22.704Z\", \"PermissionStatus\": \"\", \"DataValid\": \"\", \"InternalStatus\": \"\", \"LongResultSheetURL\": \"\", \"FormattedResultSheetURL\": \"\", \"ProofreadSheetURL\": \"\", \"ProofreadCompletedSheetURL\": \"\", \"JobStatus\": \"NotStarted\", \"RowFingerprint\": \"1XkcFnA9LvoEe8xt64Edtg==\", \"JobCompletedTimestamp\": \"\", \"JobRetryFlag\": \"\", \"SourceCD\": \"ASO Monthly\"}\""
   ]
  },
  {
   "cell_type": "code",
   "execution_count": 0,
   "metadata": {
    "application/vnd.databricks.v1+cell": {
     "cellMetadata": {
      "byteLimit": 2048000,
      "rowLimit": 10000
     },
     "inputWidgets": {},
     "nuid": "3c61c96b-9eda-4571-b36c-1c38ba721ad3",
     "showTitle": false,
     "tableResultSettingsMap": {},
     "title": ""
    }
   },
   "outputs": [],
   "source": [
    "job_dict = handle_json_parsing()"
   ]
  },
  {
   "cell_type": "code",
   "execution_count": 0,
   "metadata": {
    "application/vnd.databricks.v1+cell": {
     "cellMetadata": {
      "byteLimit": 2048000,
      "rowLimit": 10000
     },
     "inputWidgets": {},
     "nuid": "66b2068f-3ece-417c-8a94-49c9122d00f5",
     "showTitle": false,
     "tableResultSettingsMap": {},
     "title": ""
    }
   },
   "outputs": [],
   "source": [
    "%run \"./authenticationScript\""
   ]
  },
  {
   "cell_type": "code",
   "execution_count": 0,
   "metadata": {
    "application/vnd.databricks.v1+cell": {
     "cellMetadata": {
      "byteLimit": 2048000,
      "rowLimit": 10000
     },
     "inputWidgets": {},
     "nuid": "2c1e99c0-c062-4054-b2f8-27aee15392d5",
     "showTitle": false,
     "tableResultSettingsMap": {},
     "title": ""
    }
   },
   "outputs": [],
   "source": [
    "def get_aso_data(job_dict, platform, sh): \n",
    "\n",
    "    def get_values_from_sheet(sh, platform):\n",
    "        if platform == 'ios':\n",
    "            return sh.worksheet(platform).get_all_values()\n",
    "        if platform == 'android':\n",
    "            return sh.worksheet(platform).get_all_values()\n",
    "    # Helper \n",
    "    def check_values_get_inputs(sh, platform, job_dict):\n",
    "\n",
    "        values = get_values_from_sheet(sh, platform)\n",
    "        if len(values)<4:\n",
    "            return None\n",
    "        \n",
    "        headers, data = values[0:3],values[3:]\n",
    "        if platform=='ios':\n",
    "            df = pd.DataFrame(data,columns = ['en_US_30','en_US_50','en_US_120'])\n",
    "        if platform=='android':\n",
    "            df = pd.DataFrame(data, columns = ['en_US_80','en_US_500'])\n",
    "\n",
    "        df['row_id'] = df.index\n",
    "        df['RowFingerprint'] = job_dict['row_fingerprint']\n",
    "        df['platform'] = platform\n",
    "        df['game'] = job_dict['game_name']  \n",
    "        return df\n",
    "    \n",
    "    df = check_values_get_inputs(sh, platform,job_dict)\n",
    "    if df is not None:\n",
    "            return df\n",
    "\n",
    "    return None\n",
    "\n",
    "\n",
    "def get_data(job_dict):\n",
    "\n",
    "    gc = get_gspread_client_from_secret()\n",
    "    try:\n",
    "        sheet = gc.open_by_url(job_dict['workbook_url'])\n",
    "    except:\n",
    "        raise Exception(\"Cannot open workbook url!\")\n",
    "    \n",
    "    if job_dict['source_cd'] == \"ASO Monthly\":\n",
    "        print('getting aso monthly data')\n",
    "        ios_df = get_aso_data(job_dict, 'ios', sheet) \n",
    "        android_df = get_aso_data(job_dict, 'android', sheet)\n",
    "        # Get long data from both input sheets\n",
    "        df = process_aso_to_long(ios_df, android_df)\n",
    "        return df\n",
    "\n",
    "    if job_dict['source_cd']==\"ASO Ad-Hoc\":\n",
    "        print('getting aso adhoc data')\n",
    "        #df = get_aso_adhoc(sheet)\n",
    "        return None\n",
    "    \n",
    "    if job_dict['source_cd'] == \"PP\" or job_dict['source_cd'] == \"CS\":\n",
    "        print('getting pp or cs data')\n",
    "        wksht = sheet.worksheet(\"input\")\n",
    "        vals = source_wksht.get_all_values()\n",
    "        headers, data = vals[0], vals[1:]\n",
    "        df = pd.DataFrame(data, columns=headers)\n",
    "        return df\n",
    "    \n",
    "    return None"
   ]
  },
  {
   "cell_type": "code",
   "execution_count": 0,
   "metadata": {
    "application/vnd.databricks.v1+cell": {
     "cellMetadata": {
      "byteLimit": 2048000,
      "rowLimit": 10000
     },
     "inputWidgets": {},
     "nuid": "7550aa5a-1d40-4f6c-b295-fada662c7d4e",
     "showTitle": false,
     "tableResultSettingsMap": {},
     "title": ""
    }
   },
   "outputs": [],
   "source": [
    "df = get_data(job_dict)"
   ]
  },
  {
   "cell_type": "code",
   "execution_count": 0,
   "metadata": {
    "application/vnd.databricks.v1+cell": {
     "cellMetadata": {
      "byteLimit": 2048000,
      "rowLimit": 10000
     },
     "inputWidgets": {},
     "nuid": "a287594f-c31e-4dd3-b090-0fd81ecc56fd",
     "showTitle": false,
     "tableResultSettingsMap": {},
     "title": ""
    }
   },
   "outputs": [],
   "source": [
    "df.display()"
   ]
  },
  {
   "cell_type": "code",
   "execution_count": 0,
   "metadata": {
    "application/vnd.databricks.v1+cell": {
     "cellMetadata": {
      "byteLimit": 2048000,
      "rowLimit": 10000
     },
     "inputWidgets": {},
     "nuid": "1fef4f5d-8e75-4fbf-a476-4145b9c4f2c5",
     "showTitle": false,
     "tableResultSettingsMap": {},
     "title": ""
    }
   },
   "outputs": [],
   "source": [
    "ios_inputs"
   ]
  },
  {
   "cell_type": "code",
   "execution_count": 0,
   "metadata": {
    "application/vnd.databricks.v1+cell": {
     "cellMetadata": {
      "byteLimit": 2048000,
      "rowLimit": 10000
     },
     "inputWidgets": {},
     "nuid": "d2573df8-c2b0-426b-9ca4-a265f2db7254",
     "showTitle": false,
     "tableResultSettingsMap": {},
     "title": ""
    }
   },
   "outputs": [],
   "source": [
    "process_aso_to_long(ios_inputs, android_inputs)"
   ]
  },
  {
   "cell_type": "code",
   "execution_count": 0,
   "metadata": {
    "application/vnd.databricks.v1+cell": {
     "cellMetadata": {
      "byteLimit": 2048000,
      "rowLimit": 10000
     },
     "inputWidgets": {},
     "nuid": "96c4926e-dd09-4a89-bfc2-91495b74773e",
     "showTitle": false,
     "tableResultSettingsMap": {},
     "title": ""
    }
   },
   "outputs": [],
   "source": [
    "def process_aso_to_long(ios_inputs, android_inputs): \n",
    " \n",
    "    q_ios = f\"\"\"\n",
    "            select \n",
    "                game,\n",
    "                platform,\n",
    "                RowFingerprint,\n",
    "                row_id,\n",
    "                'title' as type_desc,\n",
    "                en_US_30 as en_US,\n",
    "                30 as en_char_limit\n",
    "            from df\n",
    "            union all\n",
    "            select \n",
    "                game,\n",
    "                platform,\n",
    "                RowFingerprint,\n",
    "                row_id,\n",
    "                'short_description' as type_desc,\n",
    "                en_US_50 as en_US,\n",
    "                50 as en_char_limit\n",
    "            from df\n",
    "            union all\n",
    "            select \n",
    "                game,\n",
    "                platform,\n",
    "                RowFingerprint,\n",
    "                row_id,\n",
    "                'long_description' as type_desc,\n",
    "                en_US_120 as en_US,\n",
    "                120 as en_char_limit\n",
    "            from df\n",
    "    \"\"\"\n",
    "\n",
    "\n",
    "    #TODO: TEST THIS\n",
    "    q_android= f\"\"\" select \n",
    "                game,\n",
    "                platform,\n",
    "                RowFingerprint,\n",
    "                row_id,\n",
    "                'short_description' as type_desc,\n",
    "                en_US_80 as en_US,\n",
    "                80 as en_char_limit\n",
    "            from df\n",
    "            union all\n",
    "            select \n",
    "                game,\n",
    "                platform,\n",
    "                RowFingerprint,\n",
    "                row_id,\n",
    "                'long_description' as type_desc,\n",
    "                en_US_500 as en_US,\n",
    "                500 as en_char_limit\n",
    "            from df\n",
    "        \"\"\"\n",
    "\n",
    "    dfs_to_unions = []\n",
    "\n",
    "    if ios_inputs is not None:\n",
    "        spark.createDataFrame(ios_inputs).createOrReplaceTempView('df')\n",
    "        long_ios = spark.sql(q_ios).toPandas()\n",
    "        dfs_to_unions.append(long_ios)\n",
    "\n",
    "\n",
    "    if android_inputs is not None:\n",
    "        spark.createDataFrame(android_inputs).createOrReplaceTempView('df')\n",
    "        long_android = spark.sql(q_android).toPandas()\n",
    "        dfs_to_unions.append(long_android)\n",
    "\n",
    "        #pdf = pd.concat([])\n",
    "    pdf = pd.concat(dfs_to_unions) \n",
    "    \n",
    "    return pdf"
   ]
  },
  {
   "cell_type": "code",
   "execution_count": 0,
   "metadata": {
    "application/vnd.databricks.v1+cell": {
     "cellMetadata": {
      "byteLimit": 2048000,
      "rowLimit": 10000
     },
     "inputWidgets": {},
     "nuid": "77ed7a32-88fc-4fa4-9049-4ebc51275b8a",
     "showTitle": false,
     "tableResultSettingsMap": {},
     "title": ""
    }
   },
   "outputs": [],
   "source": [
    "dfs_to_unions = []\n",
    "\n",
    "if ios_inputs is not None:\n",
    "    spark.createDataFrame(ios_inputs).createOrReplaceTempView('df')\n",
    "    long_ios = spark.sql(q_ios).toPandas()\n",
    "    dfs_to_unions.append(long_ios)\n",
    "\n",
    "\n",
    "if android_inputs is not None:\n",
    "    spark.createDataFrame(android_inputs).createOrReplaceTempView('df')\n",
    "    long_android = spark.sql(q_android).toPandas()\n",
    "    dfs_to_unions.append(long_android)\n",
    "\n",
    "    #pdf = pd.concat([])\n",
    "pdf = pd.concat(dfs_to_unions)    \n"
   ]
  },
  {
   "cell_type": "code",
   "execution_count": 0,
   "metadata": {
    "application/vnd.databricks.v1+cell": {
     "cellMetadata": {
      "byteLimit": 2048000,
      "rowLimit": 10000
     },
     "inputWidgets": {},
     "nuid": "43799db4-2aba-41d9-9e33-30ec6605fd5a",
     "showTitle": false,
     "tableResultSettingsMap": {},
     "title": ""
    }
   },
   "outputs": [],
   "source": [
    "pdf.display()"
   ]
  },
  {
   "cell_type": "code",
   "execution_count": 0,
   "metadata": {
    "application/vnd.databricks.v1+cell": {
     "cellMetadata": {
      "byteLimit": 2048000,
      "rowLimit": 10000
     },
     "inputWidgets": {},
     "nuid": "298c6305-728d-4301-8f52-e26675f8f243",
     "showTitle": false,
     "tableResultSettingsMap": {},
     "title": ""
    }
   },
   "outputs": [],
   "source": [
    "long_ios.display()"
   ]
  },
  {
   "cell_type": "code",
   "execution_count": 0,
   "metadata": {
    "application/vnd.databricks.v1+cell": {
     "cellMetadata": {},
     "inputWidgets": {},
     "nuid": "a9f3ac4b-b69c-4173-8332-16fe98924d8f",
     "showTitle": false,
     "tableResultSettingsMap": {},
     "title": ""
    }
   },
   "outputs": [],
   "source": []
  },
  {
   "cell_type": "code",
   "execution_count": 0,
   "metadata": {
    "application/vnd.databricks.v1+cell": {
     "cellMetadata": {
      "byteLimit": 2048000,
      "rowLimit": 10000
     },
     "inputWidgets": {},
     "nuid": "fe17aa61-8a95-46e2-a13b-4fca32272663",
     "showTitle": false,
     "tableResultSettingsMap": {},
     "title": ""
    }
   },
   "outputs": [],
   "source": [
    "def get_aso_data(job_dict, platform, sh): \n",
    "\n",
    "    def get_values_from_sheet(sh, platform):\n",
    "        if platform == 'ios':\n",
    "            return sh.worksheet(platform).get_all_values()\n",
    "        if platform == 'android':\n",
    "            return sh.worksheet(platform).get_all_values()\n",
    "    # Helper \n",
    "    def check_values_get_inputs(sh, platform, job_dict):\n",
    "\n",
    "        values = get_values_from_sheet(sh, platform)\n",
    "        if len(values)<4:\n",
    "            return None\n",
    "        \n",
    "        headers, data = values[0:3],values[3:]\n",
    "        if platform=='ios':\n",
    "            df = pd.DataFrame(data,columns = ['en_US_30','en_US_50','en_US_120'])\n",
    "        if platform=='android':\n",
    "            df = pd.DataFrame(data, columns = ['en_US_80','en_US_500'])\n",
    "\n",
    "        df['row_id'] = df.index\n",
    "        df['RowFingerprint'] = job_dict['row_fingerprint']\n",
    "        df['platform'] = platform\n",
    "        df['game'] = job_dict['game_name']  \n",
    "        return df\n",
    "    \n",
    "    df = check_values_get_inputs(sh, platform,job_dict)\n",
    "    if df is not None:\n",
    "            return df\n",
    "\n",
    "    return None"
   ]
  },
  {
   "cell_type": "code",
   "execution_count": 0,
   "metadata": {
    "application/vnd.databricks.v1+cell": {
     "cellMetadata": {
      "byteLimit": 2048000,
      "rowLimit": 10000
     },
     "inputWidgets": {},
     "nuid": "0717e2aa-88dc-49e8-b216-775dccd9aebc",
     "showTitle": false,
     "tableResultSettingsMap": {},
     "title": ""
    }
   },
   "outputs": [],
   "source": [
    "def process_to_long(df, platform, job_dict):\n",
    "\n",
    "    df = spark.createDataFrame(df)\n",
    "\n",
    "    def helper_by_platform_language(df, platform, language,job_dict):\n",
    "        lang_cd = job_dict['all_language_map'][language]\n",
    "        if platform == 'android' and lang_cd in ['ja_JP','ko_KR','zh_CN','zh_TW']:\n",
    "            altered = df.withColumn(\"target_char_limit\", \n",
    "                                (col('en_char_limit')/2).cast(IntegerType()))\n",
    "        else:\n",
    "            altered = df.withColumn(\"target_char_limit\", col('en_char_limit'))\n",
    "            \n",
    "        altered = altered.withColumn(\"language_cd\", \n",
    "                                    lit(lang_cd))\\\n",
    "                        .withColumn('language',lit(language))\\\n",
    "                        .withColumn(\n",
    "                                \"row_idx\",\n",
    "                                concat_ws(\n",
    "                                    \"::\",\n",
    "                                    concat_ws(\"_\", lit(\"row\"), col(\"row_id\").cast(\"string\")),\n",
    "                                    col(\"game\"),\n",
    "                                    col(\"platform\"),\n",
    "                                    col(\"language_cd\"),\n",
    "                                    col(\"en_char_limit\").cast(\"string\")\n",
    "                                )\n",
    "                            )\n",
    "        return altered.toPandas()\n",
    "    \n",
    "    df_holder = []\n",
    "    for lang in job_dict['all_languages']:\n",
    "        lang_df = helper_by_platform_language(df, platform, lang,job_dict)\n",
    "        df_holder.append(df_holder)\n",
    "\n",
    "    return pd.concat(df_holder)\n",
    "\n"
   ]
  },
  {
   "cell_type": "code",
   "execution_count": 0,
   "metadata": {
    "application/vnd.databricks.v1+cell": {
     "cellMetadata": {
      "byteLimit": 2048000,
      "rowLimit": 10000
     },
     "inputWidgets": {},
     "nuid": "c3e72b4c-f5dc-4330-b90f-718bd09941bd",
     "showTitle": false,
     "tableResultSettingsMap": {},
     "title": ""
    }
   },
   "outputs": [],
   "source": [
    "ios_inputs, android = get_data(job_dict)"
   ]
  },
  {
   "cell_type": "code",
   "execution_count": 0,
   "metadata": {
    "application/vnd.databricks.v1+cell": {
     "cellMetadata": {},
     "inputWidgets": {},
     "nuid": "2b3adecb-a47b-424c-9c42-0fba21499f11",
     "showTitle": false,
     "tableResultSettingsMap": {},
     "title": ""
    }
   },
   "outputs": [],
   "source": []
  },
  {
   "cell_type": "code",
   "execution_count": 0,
   "metadata": {
    "application/vnd.databricks.v1+cell": {
     "cellMetadata": {
      "byteLimit": 2048000,
      "rowLimit": 10000
     },
     "inputWidgets": {},
     "nuid": "21bebf5f-e812-4e0c-98d0-9333f60944d0",
     "showTitle": false,
     "tableResultSettingsMap": {},
     "title": ""
    }
   },
   "outputs": [],
   "source": [
    "job_dict['all_language_map']"
   ]
  },
  {
   "cell_type": "code",
   "execution_count": 0,
   "metadata": {
    "application/vnd.databricks.v1+cell": {
     "cellMetadata": {
      "byteLimit": 2048000,
      "rowLimit": 10000
     },
     "inputWidgets": {},
     "nuid": "946d8e6b-1bb2-4ac0-bfcb-b979c3315835",
     "showTitle": false,
     "tableResultSettingsMap": {},
     "title": ""
    }
   },
   "outputs": [],
   "source": [
    "ios_inputs"
   ]
  },
  {
   "cell_type": "code",
   "execution_count": 0,
   "metadata": {
    "application/vnd.databricks.v1+cell": {
     "cellMetadata": {
      "byteLimit": 2048000,
      "rowLimit": 10000
     },
     "inputWidgets": {},
     "nuid": "5edf0170-bc64-4799-93fa-140344f903bd",
     "showTitle": false,
     "tableResultSettingsMap": {},
     "title": ""
    }
   },
   "outputs": [],
   "source": [
    "process_to_long(ios_inputs,'ios',job_dict)"
   ]
  },
  {
   "cell_type": "code",
   "execution_count": 0,
   "metadata": {
    "application/vnd.databricks.v1+cell": {
     "cellMetadata": {
      "byteLimit": 2048000,
      "rowLimit": 10000
     },
     "inputWidgets": {},
     "nuid": "ada19bbd-03a0-4061-9596-93c650f152ed",
     "showTitle": false,
     "tableResultSettingsMap": {},
     "title": ""
    }
   },
   "outputs": [],
   "source": [
    "get_aso_data(job_dict,'android', source_ss)"
   ]
  },
  {
   "cell_type": "code",
   "execution_count": 0,
   "metadata": {
    "application/vnd.databricks.v1+cell": {
     "cellMetadata": {
      "byteLimit": 2048000,
      "rowLimit": 10000
     },
     "inputWidgets": {},
     "nuid": "eeb501f5-a575-44a8-bd58-3b49ea074409",
     "showTitle": false,
     "tableResultSettingsMap": {},
     "title": ""
    }
   },
   "outputs": [],
   "source": [
    "get_aso_data(job_dict,'ios', source_ss)"
   ]
  },
  {
   "cell_type": "code",
   "execution_count": 0,
   "metadata": {
    "application/vnd.databricks.v1+cell": {
     "cellMetadata": {
      "byteLimit": 2048000,
      "rowLimit": 10000
     },
     "inputWidgets": {},
     "nuid": "a95126d1-46c6-4bde-af8b-7ada471a154e",
     "showTitle": false,
     "tableResultSettingsMap": {},
     "title": ""
    }
   },
   "outputs": [],
   "source": [
    "ios, android = get_data(job_dict)"
   ]
  },
  {
   "cell_type": "code",
   "execution_count": 0,
   "metadata": {
    "application/vnd.databricks.v1+cell": {
     "cellMetadata": {
      "byteLimit": 2048000,
      "rowLimit": 10000
     },
     "inputWidgets": {},
     "nuid": "c8cc7969-21ba-418e-be8f-cb4ec6afdecd",
     "showTitle": false,
     "tableResultSettingsMap": {},
     "title": ""
    }
   },
   "outputs": [],
   "source": [
    "#"
   ]
  },
  {
   "cell_type": "code",
   "execution_count": 0,
   "metadata": {
    "application/vnd.databricks.v1+cell": {
     "cellMetadata": {
      "byteLimit": 2048000,
      "rowLimit": 10000
     },
     "inputWidgets": {},
     "nuid": "d3315df6-d62b-4708-9ced-004e2d3128df",
     "showTitle": false,
     "tableResultSettingsMap": {},
     "title": ""
    }
   },
   "outputs": [],
   "source": [
    "ios"
   ]
  },
  {
   "cell_type": "code",
   "execution_count": 0,
   "metadata": {
    "application/vnd.databricks.v1+cell": {
     "cellMetadata": {
      "byteLimit": 2048000,
      "rowLimit": 10000
     },
     "inputWidgets": {},
     "nuid": "00c92731-cd4d-456f-b851-9620a515aa78",
     "showTitle": false,
     "tableResultSettingsMap": {},
     "title": ""
    }
   },
   "outputs": [],
   "source": [
    "#basically... get_aso_data()\n",
    "\n",
    "#url=job_dict['workbook_url']\n",
    "#ss =gc.open_by_url(url)\n",
    "#ss.worksheet('ios').get_all_values()"
   ]
  },
  {
   "cell_type": "code",
   "execution_count": 0,
   "metadata": {
    "application/vnd.databricks.v1+cell": {
     "cellMetadata": {
      "byteLimit": 2048000,
      "rowLimit": 10000
     },
     "inputWidgets": {},
     "nuid": "e1147fac-a8f2-41d8-816f-999c4fe42f77",
     "showTitle": false,
     "tableResultSettingsMap": {},
     "title": ""
    }
   },
   "outputs": [],
   "source": [
    "job_dict"
   ]
  },
  {
   "cell_type": "code",
   "execution_count": 0,
   "metadata": {
    "application/vnd.databricks.v1+cell": {
     "cellMetadata": {
      "byteLimit": 2048000,
      "rowLimit": 10000
     },
     "inputWidgets": {},
     "nuid": "15bef37c-4a35-4d3d-9903-a0a3e203f8f3",
     "showTitle": false,
     "tableResultSettingsMap": {},
     "title": ""
    }
   },
   "outputs": [],
   "source": [
    "#get job dict for ASO Monthly\n",
    "gc = get_gspread_client_from_secret()\n",
    "\n",
    "\n",
    "source_ss = gc.open_by_url(\"https://docs.google.com/spreadsheets/d/1WnCBGk1V1nEUeU7aPWBqrQXczmaMop6AbGmkDKkAQcE/edit?gid=1033119277#gid=1033119277\")\n",
    "\n",
    "#\n",
    "\n",
    "source_wksht = source_ss.worksheet('Validation and Url Tracking')\n",
    "vals = source_wksht.get_all_values()\n",
    "\n",
    "\n",
    "headers, data = vals[0],vals[1:]\n",
    "df = pd.DataFrame(data, columns=headers)"
   ]
  },
  {
   "cell_type": "code",
   "execution_count": 0,
   "metadata": {
    "application/vnd.databricks.v1+cell": {
     "cellMetadata": {
      "byteLimit": 2048000,
      "rowLimit": 10000
     },
     "inputWidgets": {},
     "nuid": "69b1f591-460f-4c68-b5ba-896cf4456c95",
     "showTitle": false,
     "tableResultSettingsMap": {},
     "title": ""
    }
   },
   "outputs": [],
   "source": [
    "to_process_df = df[df.JobStatus == 'NotStarted']\n",
    "\n",
    "\n",
    "row_dict = to_process_df.iloc[0].to_dict()\n",
    "row_dict['SourceCD'] = 'ASO Monthly'\n",
    "\n",
    "JsonJobSlug = json.dumps(row_dict)\n",
    "\n",
    "\n",
    "JsonJobSlug\n",
    "\n",
    "\n",
    "#for every json row dict\n",
    "#### So would then pass this to dbutils.notebook.run(\"\", {'JsonJobSlug':JsonJobSlug})"
   ]
  },
  {
   "cell_type": "code",
   "execution_count": 0,
   "metadata": {
    "application/vnd.databricks.v1+cell": {
     "cellMetadata": {
      "byteLimit": 2048000,
      "rowLimit": 10000
     },
     "inputWidgets": {},
     "nuid": "6d8728d7-c24a-4021-9829-a9cf4d8a5986",
     "showTitle": false,
     "tableResultSettingsMap": {},
     "title": ""
    }
   },
   "outputs": [],
   "source": [
    "job_dict"
   ]
  },
  {
   "cell_type": "code",
   "execution_count": 0,
   "metadata": {
    "application/vnd.databricks.v1+cell": {
     "cellMetadata": {
      "byteLimit": 2048000,
      "rowLimit": 10000
     },
     "inputWidgets": {},
     "nuid": "87ef930c-9c25-48b3-9dd9-c218e424b129",
     "showTitle": false,
     "tableResultSettingsMap": {},
     "title": ""
    }
   },
   "outputs": [],
   "source": [
    "#PP Specific validation\n",
    "\n",
    "def validate_sheet_wksht_format_return_df(workbook_url):\n",
    "    try:\n",
    "       ss = gc.open_by_url(workbook_url)\n",
    "    except:\n",
    "        raise Exception(f'Unable to open workbook {workbook_url}')\n",
    "\n",
    "    worksheets = ss.worksheets()\n",
    "    worksheet_titles = [x.title for x in worksheets]\n",
    "    if 'input' not in worksheet_titles:\n",
    "        raise Exception(f\"Unable to find 'input' worksheet in workbook {workbook_url}\")\n",
    "    else:\n",
    "        input_wksht = ss.worksheet('input')\n",
    "        ### Validate data\n",
    "        input_values = input_wksht.get_all_values()\n",
    "        in_header, in_data = input_values[0], input_values[1:]\n",
    "        \n",
    "        if len(in_header) != 3:\n",
    "            raise Exception(f\"Invalid number of columns in input worksheet. Expected 3, found {len(in_header)}\")\n",
    "\n",
    "        expected_cols = ['token', 'context', 'en_US']\n",
    "        for col in in_header:\n",
    "            if col not in expected_cols:\n",
    "                raise Exception(f\"Invalid column name '{col}' in input worksheet. Expecting columns['token','context','en_US']\")\n",
    "        #print(\"Num rows in input data:\", len(in_data))\n",
    "\n",
    "        if len(in_data) == 0:\n",
    "            raise Exception(f\"Invalid number of rows in input worksheet. Expected at least 1, found 0\")\n",
    "\n",
    "        init_df = spark.createDataFrame(in_data, ['token','context','en_US'])\n",
    "\n",
    "    if 'output' not in worksheet_titles:\n",
    "        print(\"Not finding 'output' worksheet in workbook {workbook_url}...\")\n",
    "        print(\"creating 'output' worksheet\")\n",
    "        ss.add_worksheet('output', 400, 50)\n",
    "        output_wksht = ss.worksheet('output')\n",
    "        output_wksht.update([['token', 'en_US', *cds]],\"A1:Q1\")\n",
    "    if 'summary_stats' not in worksheet_titles:\n",
    "        print(\"Not finding 'summary_stats' worksheet in workbook {workbook_url}...\")\n",
    "        print(\"creating 'summary_stats' worksheet\")\n",
    "        ss.add_worksheet('summary_stats', 50, 50)\n",
    "        #header_line = ['Metric', *cds]\n",
    "        summary_stats_sheet = ss.worksheet('summary_stats')\n",
    "        summary_stats_sheet.update([['Metric', *cds]],\"A1:P1\")\n",
    "\n",
    "    return init_df.toPandas()\n",
    "\n",
    "def get_data_slug(df):\n",
    "    data_to_print = df.to_dict('records')\n",
    "    slug = json.dumps(data_to_print, ensure_ascii=False, separators=(\",\", \":\"))\n",
    "    return slug"
   ]
  },
  {
   "cell_type": "code",
   "execution_count": 0,
   "metadata": {
    "application/vnd.databricks.v1+cell": {
     "cellMetadata": {
      "byteLimit": 2048000,
      "rowLimit": 10000
     },
     "inputWidgets": {},
     "nuid": "be4ca21d-3d79-498a-ace0-7117d73afc48",
     "showTitle": false,
     "tableResultSettingsMap": {},
     "title": ""
    }
   },
   "outputs": [],
   "source": [
    "%run \"./authenticationScript\""
   ]
  },
  {
   "cell_type": "code",
   "execution_count": 0,
   "metadata": {
    "application/vnd.databricks.v1+cell": {
     "cellMetadata": {
      "byteLimit": 2048000,
      "rowLimit": 10000
     },
     "inputWidgets": {},
     "nuid": "001d75d9-1961-48da-86c5-5d682352e775",
     "showTitle": false,
     "tableResultSettingsMap": {},
     "title": ""
    }
   },
   "outputs": [],
   "source": [
    "gc = get_gspread_client_from_secret()"
   ]
  },
  {
   "cell_type": "code",
   "execution_count": 0,
   "metadata": {
    "application/vnd.databricks.v1+cell": {
     "cellMetadata": {
      "byteLimit": 2048000,
      "rowLimit": 10000
     },
     "inputWidgets": {},
     "nuid": "43334aeb-5c47-48d9-92a5-bf60aa486dad",
     "showTitle": false,
     "tableResultSettingsMap": {},
     "title": ""
    }
   },
   "outputs": [],
   "source": [
    "from config import *\n",
    "#from language import *\n",
    "#from translation import *\n",
    "#from scoring import *"
   ]
  },
  {
   "cell_type": "code",
   "execution_count": 0,
   "metadata": {
    "application/vnd.databricks.v1+cell": {
     "cellMetadata": {
      "byteLimit": 2048000,
      "rowLimit": 10000
     },
     "inputWidgets": {},
     "nuid": "c5aca8c3-e1ab-4495-9e4e-54e8775a9ee8",
     "showTitle": false,
     "tableResultSettingsMap": {},
     "title": ""
    }
   },
   "outputs": [],
   "source": [
    "def get_data(job_dict:dict)->pd.DataFrame:\n",
    "\n",
    "    source_cd = job_dict['source_cd']\n",
    "    if source_cd == \"PP\":\n",
    "       #TODO: prob import this function from a specific PP module\n",
    "       data = validate_sheet_wksht_format_return_df(job_dict['workbook_url'])\n",
    "       data_slug = get_data_slug(data)\n",
    "        \n",
    "#   if source_cd == \"ASO Ad-Hoc\":\n",
    "#        #data = ..\n",
    "#        #data_slug = ..\n",
    "#  \n",
    "#   #if source_cd == \"ASO Monthly\":\n",
    "#       #data = ..\n",
    "#       #data_slug=..\n",
    "#   \n",
    "#   #if source_cd ==\"CS\":\n",
    "#       #data = ...\n",
    "#       #data_slug = ...\n",
    "\n",
    "\n",
    "    job_dict['inputs_df'] = data\n",
    "    job_dict['data_slug']= data_slug\n",
    "\n",
    "    return job_dict"
   ]
  },
  {
   "cell_type": "code",
   "execution_count": 0,
   "metadata": {
    "application/vnd.databricks.v1+cell": {
     "cellMetadata": {
      "byteLimit": 2048000,
      "rowLimit": 10000
     },
     "inputWidgets": {},
     "nuid": "b888e6fe-4f61-4e95-b4a1-90054381a9f9",
     "showTitle": false,
     "tableResultSettingsMap": {},
     "title": ""
    }
   },
   "outputs": [],
   "source": [
    "job_dict = get_data(job_dict)"
   ]
  },
  {
   "cell_type": "code",
   "execution_count": 0,
   "metadata": {
    "application/vnd.databricks.v1+cell": {
     "cellMetadata": {
      "byteLimit": 2048000,
      "rowLimit": 10000
     },
     "inputWidgets": {},
     "nuid": "b19e8d9d-6532-45ed-8ea5-df77ebf5d0f3",
     "showTitle": false,
     "tableResultSettingsMap": {},
     "title": ""
    }
   },
   "outputs": [],
   "source": [
    "job_dict"
   ]
  },
  {
   "cell_type": "code",
   "execution_count": 0,
   "metadata": {
    "application/vnd.databricks.v1+cell": {
     "cellMetadata": {},
     "inputWidgets": {},
     "nuid": "5a2127b9-19d8-4cf2-9dbc-f16168ac677c",
     "showTitle": false,
     "tableResultSettingsMap": {},
     "title": ""
    }
   },
   "outputs": [],
   "source": [
    "## ASO will be different... \n",
    "\n",
    "\n",
    "\n",
    "# CS - will need to get ['network','character_limit','en_US']"
   ]
  },
  {
   "cell_type": "code",
   "execution_count": 0,
   "metadata": {
    "application/vnd.databricks.v1+cell": {
     "cellMetadata": {
      "byteLimit": 2048000,
      "rowLimit": 10000
     },
     "inputWidgets": {},
     "nuid": "fa05fce3-4cbf-43e2-a8be-b936cea50138",
     "showTitle": false,
     "tableResultSettingsMap": {},
     "title": ""
    }
   },
   "outputs": [],
   "source": [
    "# Get Data for PP\n",
    "#df = validate_sheet_wksht_format_return_df(job_dict['workbook_url'])\n",
    "# And the Input Slug for PP\n",
    "#data_slug = get_data_slug(df)"
   ]
  },
  {
   "cell_type": "code",
   "execution_count": 0,
   "metadata": {
    "application/vnd.databricks.v1+cell": {
     "cellMetadata": {
      "byteLimit": 2048000,
      "rowLimit": 10000
     },
     "inputWidgets": {},
     "nuid": "0f09a911-2932-4a81-8196-f5d0160cc3e9",
     "showTitle": false,
     "tableResultSettingsMap": {},
     "title": ""
    }
   },
   "outputs": [],
   "source": [
    "for lang,lang_cd in job_dict['all_language_map'].items():\n",
    "    print(f\"lang: {lang},lang_cd: {lang_cd}\")\n",
    "    #get_PP_prompt(lang, job_dict['data_slug'])"
   ]
  },
  {
   "cell_type": "code",
   "execution_count": 0,
   "metadata": {
    "application/vnd.databricks.v1+cell": {
     "cellMetadata": {},
     "inputWidgets": {},
     "nuid": "c874396d-c1ba-4838-bbbe-7e68776c132b",
     "showTitle": false,
     "tableResultSettingsMap": {},
     "title": ""
    }
   },
   "outputs": [],
   "source": [
    "####"
   ]
  },
  {
   "cell_type": "code",
   "execution_count": 0,
   "metadata": {
    "application/vnd.databricks.v1+cell": {
     "cellMetadata": {},
     "inputWidgets": {},
     "nuid": "c6119490-1b15-4792-9261-53d4ece1a206",
     "showTitle": false,
     "tableResultSettingsMap": {},
     "title": ""
    }
   },
   "outputs": [],
   "source": [
    "# Preproces for ASO Monthly"
   ]
  },
  {
   "cell_type": "code",
   "execution_count": 0,
   "metadata": {
    "application/vnd.databricks.v1+cell": {
     "cellMetadata": {},
     "inputWidgets": {},
     "nuid": "9267c478-7d37-4101-85c9-f8279abb6d16",
     "showTitle": false,
     "tableResultSettingsMap": {},
     "title": ""
    }
   },
   "outputs": [],
   "source": [
    "#Preprocess for ASO AdHoc"
   ]
  },
  {
   "cell_type": "code",
   "execution_count": 0,
   "metadata": {
    "application/vnd.databricks.v1+cell": {
     "cellMetadata": {},
     "inputWidgets": {},
     "nuid": "0f510b50-afd9-4e00-92bf-6fcc58305969",
     "showTitle": false,
     "tableResultSettingsMap": {},
     "title": ""
    }
   },
   "outputs": [],
   "source": [
    "#Preprocess for CS"
   ]
  },
  {
   "cell_type": "code",
   "execution_count": 0,
   "metadata": {
    "application/vnd.databricks.v1+cell": {
     "cellMetadata": {
      "byteLimit": 2048000,
      "rowLimit": 10000
     },
     "inputWidgets": {},
     "nuid": "972def13-6207-4e3c-895e-cb84a99f17d7",
     "showTitle": false,
     "tableResultSettingsMap": {},
     "title": ""
    }
   },
   "outputs": [],
   "source": [
    "#Preprocess for Other\n",
    "\n",
    "\n",
    "\n",
    "\n"
   ]
  },
  {
   "cell_type": "code",
   "execution_count": 0,
   "metadata": {
    "application/vnd.databricks.v1+cell": {
     "cellMetadata": {},
     "inputWidgets": {},
     "nuid": "c38e1568-8fec-46fe-89e6-f316f1808a32",
     "showTitle": false,
     "tableResultSettingsMap": {},
     "title": ""
    }
   },
   "outputs": [],
   "source": []
  }
 ],
 "metadata": {
  "application/vnd.databricks.v1+notebook": {
   "computePreferences": null,
   "dashboards": [],
   "environmentMetadata": {
    "base_environment": "",
    "environment_version": "2"
   },
   "inputWidgetPreferences": null,
   "language": "python",
   "notebookMetadata": {
    "pythonIndentUnit": 4
   },
   "notebookName": "Centralized Main Translation",
   "widgets": {
    "JsonJobSlug": {
     "currentValue": "{\"Timestamp\": \"6/23/2025 9:42:44\", \"SubmitterEmail\": \"vanessa.mendoza@jamcity.com\", \"DueDate\": \"7/11/2025\", \"Game\": \"Harry Potter: Hogwarts Mystery\", \"TargetLanguages\": \"Spanish (Latin America), French (France), German, Korean, Italian, Japanese, Simplified Chinese, Traditional Chinese (Taiwan), Portuguese (Brazil)\", \"URL\": \"https://docs.google.com/spreadsheets/d/1T-bKc0iLwmnsUYRhv3nGoDBkJyBdOi8euyaDuHyYTtE/edit?usp=sharing\", \"QAFlag\": \"Yes\", \"ShareStatus\": \"Shared\", \"SyncedAt\": \"2025-07-03T20:24:22.704Z\", \"PermissionStatus\": \"\", \"DataValid\": \"\", \"InternalStatus\": \"\", \"LongResultSheetURL\": \"\", \"FormattedResultSheetURL\": \"\", \"ProofreadSheetURL\": \"\", \"ProofreadCompletedSheetURL\": \"\", \"JobStatus\": \"NotStarted\", \"RowFingerprint\": \"1XkcFnA9LvoEe8xt64Edtg==\", \"JobCompletedTimestamp\": \"\", \"JobRetryFlag\": \"\", \"SourceCD\": \"ASO Monthly\"}",
     "nuid": "5396e565-6ec9-4770-85de-77f7e499c840",
     "typedWidgetInfo": {
      "autoCreated": false,
      "defaultValue": "",
      "label": null,
      "name": "JsonJobSlug",
      "options": {
       "widgetDisplayType": "Text",
       "validationRegex": null
      },
      "parameterDataType": "String"
     },
     "widgetInfo": {
      "widgetType": "text",
      "defaultValue": "",
      "label": null,
      "name": "JsonJobSlug",
      "options": {
       "widgetType": "text",
       "autoCreated": null,
       "validationRegex": null
      }
     }
    },
    "SourceCD": {
     "currentValue": "ASO Monthly",
     "nuid": "7807c227-9e47-47f5-a1da-a4305f1f7865",
     "typedWidgetInfo": {
      "autoCreated": false,
      "defaultValue": "",
      "label": null,
      "name": "SourceCD",
      "options": {
       "widgetDisplayType": "Text",
       "validationRegex": null
      },
      "parameterDataType": "String"
     },
     "widgetInfo": {
      "widgetType": "text",
      "defaultValue": "",
      "label": null,
      "name": "SourceCD",
      "options": {
       "widgetType": "text",
       "autoCreated": null,
       "validationRegex": null
      }
     }
    }
   }
  },
  "language_info": {
   "name": "python"
  }
 },
 "nbformat": 4,
 "nbformat_minor": 0
}
