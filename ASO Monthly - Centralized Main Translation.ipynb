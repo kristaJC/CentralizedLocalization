{
 "cells": [
  {
   "cell_type": "code",
   "execution_count": 0,
   "metadata": {
    "application/vnd.databricks.v1+cell": {
     "cellMetadata": {
      "byteLimit": 2048000,
      "rowLimit": 10000
     },
     "inputWidgets": {},
     "nuid": "642cd1db-58b0-4032-9e06-61b32609d47f",
     "showTitle": false,
     "tableResultSettingsMap": {},
     "title": ""
    }
   },
   "outputs": [],
   "source": [
    "%pip install -r requirements_base.txt\n",
    "\n",
    "%restart_python"
   ]
  },
  {
   "cell_type": "code",
   "execution_count": 0,
   "metadata": {
    "application/vnd.databricks.v1+cell": {
     "cellMetadata": {
      "byteLimit": 2048000,
      "rowLimit": 10000
     },
     "inputWidgets": {},
     "nuid": "e74b7d5d-6a39-44f6-8fbd-07e8e5c731ac",
     "showTitle": false,
     "tableResultSettingsMap": {},
     "title": ""
    }
   },
   "outputs": [],
   "source": [
    "%load_ext autoreload\n",
    "%autoreload 2 "
   ]
  },
  {
   "cell_type": "code",
   "execution_count": 0,
   "metadata": {
    "application/vnd.databricks.v1+cell": {
     "cellMetadata": {
      "byteLimit": 2048000,
      "rowLimit": 10000
     },
     "inputWidgets": {},
     "nuid": "c31cc893-8e9d-4ac6-a062-9bf752a44976",
     "showTitle": false,
     "tableResultSettingsMap": {},
     "title": ""
    }
   },
   "outputs": [],
   "source": [
    "#url = \"https://docs.google.com/spreadsheets/d/1PK2eEqNqX276YBgOOWz7MHWpWXAyKo5J1Bil7BgmsCs/edit?gid=0#gid=0\"\n",
    "\n",
    "#languages = \"Spanish (Spain), German\""
   ]
  },
  {
   "cell_type": "code",
   "execution_count": 0,
   "metadata": {
    "application/vnd.databricks.v1+cell": {
     "cellMetadata": {
      "byteLimit": 2048000,
      "rowLimit": 10000
     },
     "inputWidgets": {},
     "nuid": "2b1ff8b8-e9ea-405a-a7bc-6157e083b9eb",
     "showTitle": false,
     "tableResultSettingsMap": {},
     "title": ""
    }
   },
   "outputs": [],
   "source": [
    "import pandas as pd\n",
    "import json\n",
    "import random\n",
    "import openai\n",
    "from openai import OpenAI\n",
    "from pathlib import Path\n",
    "from unidecode import unidecode\n",
    "import gspread\n",
    "import os\n",
    "\n",
    "\n",
    "import pyspark\n",
    "from pyspark.sql.functions import *\n",
    "from functools import reduce\n",
    "from typing import *\n",
    "\n",
    "import time\n",
    "import datetime\n",
    "import re\n",
    "import tiktoken\n",
    "\n",
    "from bert_score import score as bert_score\n",
    "\n",
    "\n",
    "import mlflow"
   ]
  },
  {
   "cell_type": "code",
   "execution_count": 0,
   "metadata": {
    "application/vnd.databricks.v1+cell": {
     "cellMetadata": {
      "byteLimit": 2048000,
      "rowLimit": 10000
     },
     "inputWidgets": {},
     "nuid": "abc3b248-4962-42c2-b36c-8bcb08044388",
     "showTitle": false,
     "tableResultSettingsMap": {},
     "title": ""
    }
   },
   "outputs": [],
   "source": [
    "%run \"./setup\""
   ]
  },
  {
   "cell_type": "code",
   "execution_count": 0,
   "metadata": {
    "application/vnd.databricks.v1+cell": {
     "cellMetadata": {
      "byteLimit": 2048000,
      "rowLimit": 10000
     },
     "inputWidgets": {},
     "nuid": "a948c394-20f7-4491-b78b-5993f6665e21",
     "showTitle": false,
     "tableResultSettingsMap": {},
     "title": ""
    }
   },
   "outputs": [],
   "source": [
    "#from ProjectConfigs.aso_monthly_config import LANG_MAP, get_processing_rows_from_sheet_aso_monthly, get_row_dicts"
   ]
  },
  {
   "cell_type": "code",
   "execution_count": 0,
   "metadata": {
    "application/vnd.databricks.v1+cell": {
     "cellMetadata": {
      "byteLimit": 2048000,
      "rowLimit": 10000
     },
     "inputWidgets": {},
     "nuid": "4f5bdf3e-32f1-452f-b4c7-1b512b5b3976",
     "showTitle": false,
     "tableResultSettingsMap": {},
     "title": ""
    }
   },
   "outputs": [],
   "source": [
    "%run \"./authenticationScript\""
   ]
  },
  {
   "cell_type": "code",
   "execution_count": 0,
   "metadata": {
    "application/vnd.databricks.v1+cell": {
     "cellMetadata": {
      "byteLimit": 2048000,
      "rowLimit": 10000
     },
     "inputWidgets": {},
     "nuid": "b5def86d-5b19-4331-b0a2-040dabfb199e",
     "showTitle": false,
     "tableResultSettingsMap": {},
     "title": ""
    }
   },
   "outputs": [],
   "source": [
    "gc = get_gspread_client_from_secret()\n",
    "\n",
    "def get_processing_rows_from_sheet_aso_monthly():\n",
    "\n",
    "    #WORKBOOK_ID = \"1WnCBGk1V1nEUeU7aPWBqrQXczmaMop6AbGmkDKkAQcE\"\n",
    "    ASO_MONTHLY_SS_URL = \"https://docs.google.com/spreadsheets/d/1WnCBGk1V1nEUeU7aPWBqrQXczmaMop6AbGmkDKkAQcE/edit?gid=1033119277#gid=1033119277\"\n",
    "\n",
    "    WKSHT_NAME = \"Validation and Url Tracking\"\n",
    "\n",
    "    source_ss = gc.open_by_url(ASO_MONTHLY_SS_URL)\n",
    "\n",
    "    source_wksht = source_ss.worksheet(WKSHT_NAME)\n",
    "    vals = source_wksht.get_all_values()\n",
    "\n",
    "    headers, data = vals[0],vals[1:]\n",
    "    df = pd.DataFrame(data, columns=headers)\n",
    "\n",
    "    to_process_df = df[df.JobStatus == 'NotStarted']\n",
    "\n",
    "\n",
    "    return to_process_df\n",
    "\n",
    "\n",
    "to_process_df = get_processing_rows_from_sheet_aso_monthly()\n",
    "\n",
    "def get_row_dicts(to_process_df:pd.DataFrame, \n",
    "                  source_cd:str = 'ASO Monthly')->list:\n",
    "\n",
    "    list_slugs = []\n",
    "    for i,row in to_process_df.iterrows():\n",
    "        row_dict = row.to_dict()\n",
    "        row_dict['source_cd'] = source_cd\n",
    "        json_job_slug = json.dumps(row_dict)\n",
    "        list_slugs.append(json_job_slug)\n",
    "\n",
    "    return list_slugs\n",
    "\n",
    "row_slugs = get_row_dicts(to_process_df)\n"
   ]
  },
  {
   "cell_type": "code",
   "execution_count": 0,
   "metadata": {
    "application/vnd.databricks.v1+cell": {
     "cellMetadata": {
      "byteLimit": 2048000,
      "rowLimit": 10000
     },
     "inputWidgets": {},
     "nuid": "9f77f615-70cb-462d-b504-c82d2492f4af",
     "showTitle": false,
     "tableResultSettingsMap": {},
     "title": ""
    }
   },
   "outputs": [],
   "source": [
    "row_slugs"
   ]
  },
  {
   "cell_type": "code",
   "execution_count": 0,
   "metadata": {
    "application/vnd.databricks.v1+cell": {
     "cellMetadata": {
      "byteLimit": 2048000,
      "rowLimit": 10000
     },
     "inputWidgets": {},
     "nuid": "b387300c-1346-43cb-bf80-85261e429340",
     "showTitle": false,
     "tableResultSettingsMap": {},
     "title": ""
    }
   },
   "outputs": [],
   "source": [
    "#load_configs()"
   ]
  },
  {
   "cell_type": "code",
   "execution_count": 0,
   "metadata": {
    "application/vnd.databricks.v1+cell": {
     "cellMetadata": {
      "byteLimit": 2048000,
      "rowLimit": 10000
     },
     "inputWidgets": {},
     "nuid": "b5162c77-b4d9-4950-bc00-323c8d41add5",
     "showTitle": false,
     "tableResultSettingsMap": {},
     "title": ""
    }
   },
   "outputs": [],
   "source": [
    "#job_dict = get_widgets()"
   ]
  },
  {
   "cell_type": "code",
   "execution_count": 0,
   "metadata": {
    "application/vnd.databricks.v1+cell": {
     "cellMetadata": {
      "byteLimit": 2048000,
      "rowLimit": 10000
     },
     "inputWidgets": {},
     "nuid": "3ea6cce9-58fb-47c3-bfad-0c6a356264fd",
     "showTitle": false,
     "tableResultSettingsMap": {},
     "title": ""
    }
   },
   "outputs": [],
   "source": [
    "#job_dict"
   ]
  },
  {
   "cell_type": "code",
   "execution_count": 0,
   "metadata": {
    "application/vnd.databricks.v1+cell": {
     "cellMetadata": {
      "byteLimit": 2048000,
      "rowLimit": 10000
     },
     "inputWidgets": {},
     "nuid": "15bef37c-4a35-4d3d-9903-a0a3e203f8f3",
     "showTitle": false,
     "tableResultSettingsMap": {},
     "title": ""
    }
   },
   "outputs": [],
   "source": [
    "#get job dict for ASO Monthly\n",
    "gc = get_gspread_client_from_secret()\n",
    "\n",
    "\n",
    "source_ss = gc.open_by_url(\"https://docs.google.com/spreadsheets/d/1WnCBGk1V1nEUeU7aPWBqrQXczmaMop6AbGmkDKkAQcE/edit?gid=1033119277#gid=1033119277\")\n",
    "\n",
    "#\n",
    "\n",
    "source_wksht = source_ss.worksheet('Validation and Url Tracking')\n",
    "vals = source_wksht.get_all_values()\n",
    "\n",
    "\n",
    "headers, data = vals[0],vals[1:]\n",
    "df = pd.DataFrame(data, columns=headers)"
   ]
  },
  {
   "cell_type": "code",
   "execution_count": 0,
   "metadata": {
    "application/vnd.databricks.v1+cell": {
     "cellMetadata": {
      "byteLimit": 2048000,
      "rowLimit": 10000
     },
     "inputWidgets": {},
     "nuid": "69b1f591-460f-4c68-b5ba-896cf4456c95",
     "showTitle": false,
     "tableResultSettingsMap": {},
     "title": ""
    }
   },
   "outputs": [],
   "source": [
    "to_process_df = df[df.JobStatus == 'NotStarted']\n",
    "\n",
    "\n",
    "row_dict = to_process_df.iloc[0].to_dict()\n",
    "row_dict['SourceCD'] = 'ASO Monthly'\n",
    "\n",
    "JsonJobSlug = json.dumps(row_dict)\n",
    "\n",
    "\n",
    "JsonJobSlug"
   ]
  },
  {
   "cell_type": "code",
   "execution_count": 0,
   "metadata": {
    "application/vnd.databricks.v1+cell": {
     "cellMetadata": {
      "byteLimit": 2048000,
      "rowLimit": 10000
     },
     "inputWidgets": {},
     "nuid": "6d8728d7-c24a-4021-9829-a9cf4d8a5986",
     "showTitle": false,
     "tableResultSettingsMap": {},
     "title": ""
    }
   },
   "outputs": [],
   "source": [
    "job_dict"
   ]
  },
  {
   "cell_type": "code",
   "execution_count": 0,
   "metadata": {
    "application/vnd.databricks.v1+cell": {
     "cellMetadata": {
      "byteLimit": 2048000,
      "rowLimit": 10000
     },
     "inputWidgets": {},
     "nuid": "87ef930c-9c25-48b3-9dd9-c218e424b129",
     "showTitle": false,
     "tableResultSettingsMap": {},
     "title": ""
    }
   },
   "outputs": [],
   "source": [
    "#PP Specific validation\n",
    "\n",
    "def validate_sheet_wksht_format_return_df(workbook_url):\n",
    "    try:\n",
    "       ss = gc.open_by_url(workbook_url)\n",
    "    except:\n",
    "        raise Exception(f'Unable to open workbook {workbook_url}')\n",
    "\n",
    "    worksheets = ss.worksheets()\n",
    "    worksheet_titles = [x.title for x in worksheets]\n",
    "    if 'input' not in worksheet_titles:\n",
    "        raise Exception(f\"Unable to find 'input' worksheet in workbook {workbook_url}\")\n",
    "    else:\n",
    "        input_wksht = ss.worksheet('input')\n",
    "        ### Validate data\n",
    "        input_values = input_wksht.get_all_values()\n",
    "        in_header, in_data = input_values[0], input_values[1:]\n",
    "        \n",
    "        if len(in_header) != 3:\n",
    "            raise Exception(f\"Invalid number of columns in input worksheet. Expected 3, found {len(in_header)}\")\n",
    "\n",
    "        expected_cols = ['token', 'context', 'en_US']\n",
    "        for col in in_header:\n",
    "            if col not in expected_cols:\n",
    "                raise Exception(f\"Invalid column name '{col}' in input worksheet. Expecting columns['token','context','en_US']\")\n",
    "        #print(\"Num rows in input data:\", len(in_data))\n",
    "\n",
    "        if len(in_data) == 0:\n",
    "            raise Exception(f\"Invalid number of rows in input worksheet. Expected at least 1, found 0\")\n",
    "\n",
    "        init_df = spark.createDataFrame(in_data, ['token','context','en_US'])\n",
    "\n",
    "    if 'output' not in worksheet_titles:\n",
    "        print(\"Not finding 'output' worksheet in workbook {workbook_url}...\")\n",
    "        print(\"creating 'output' worksheet\")\n",
    "        ss.add_worksheet('output', 400, 50)\n",
    "        output_wksht = ss.worksheet('output')\n",
    "        output_wksht.update([['token', 'en_US', *cds]],\"A1:Q1\")\n",
    "    if 'summary_stats' not in worksheet_titles:\n",
    "        print(\"Not finding 'summary_stats' worksheet in workbook {workbook_url}...\")\n",
    "        print(\"creating 'summary_stats' worksheet\")\n",
    "        ss.add_worksheet('summary_stats', 50, 50)\n",
    "        #header_line = ['Metric', *cds]\n",
    "        summary_stats_sheet = ss.worksheet('summary_stats')\n",
    "        summary_stats_sheet.update([['Metric', *cds]],\"A1:P1\")\n",
    "\n",
    "    return init_df.toPandas()\n",
    "\n",
    "def get_data_slug(df):\n",
    "    data_to_print = df.to_dict('records')\n",
    "    slug = json.dumps(data_to_print, ensure_ascii=False, separators=(\",\", \":\"))\n",
    "    return slug"
   ]
  },
  {
   "cell_type": "code",
   "execution_count": 0,
   "metadata": {
    "application/vnd.databricks.v1+cell": {
     "cellMetadata": {
      "byteLimit": 2048000,
      "rowLimit": 10000
     },
     "inputWidgets": {},
     "nuid": "be4ca21d-3d79-498a-ace0-7117d73afc48",
     "showTitle": false,
     "tableResultSettingsMap": {},
     "title": ""
    }
   },
   "outputs": [],
   "source": [
    "%run \"./authenticationScript\""
   ]
  },
  {
   "cell_type": "code",
   "execution_count": 0,
   "metadata": {
    "application/vnd.databricks.v1+cell": {
     "cellMetadata": {
      "byteLimit": 2048000,
      "rowLimit": 10000
     },
     "inputWidgets": {},
     "nuid": "001d75d9-1961-48da-86c5-5d682352e775",
     "showTitle": false,
     "tableResultSettingsMap": {},
     "title": ""
    }
   },
   "outputs": [],
   "source": [
    "gc = get_gspread_client_from_secret()"
   ]
  },
  {
   "cell_type": "code",
   "execution_count": 0,
   "metadata": {
    "application/vnd.databricks.v1+cell": {
     "cellMetadata": {
      "byteLimit": 2048000,
      "rowLimit": 10000
     },
     "inputWidgets": {},
     "nuid": "43334aeb-5c47-48d9-92a5-bf60aa486dad",
     "showTitle": false,
     "tableResultSettingsMap": {},
     "title": ""
    }
   },
   "outputs": [],
   "source": [
    "from config import *\n",
    "#from language import *\n",
    "#from translation import *\n",
    "#from scoring import *"
   ]
  },
  {
   "cell_type": "code",
   "execution_count": 0,
   "metadata": {
    "application/vnd.databricks.v1+cell": {
     "cellMetadata": {
      "byteLimit": 2048000,
      "rowLimit": 10000
     },
     "inputWidgets": {},
     "nuid": "c5aca8c3-e1ab-4495-9e4e-54e8775a9ee8",
     "showTitle": false,
     "tableResultSettingsMap": {},
     "title": ""
    }
   },
   "outputs": [],
   "source": [
    "def get_data(job_dict:dict)->pd.DataFrame:\n",
    "\n",
    "    source_cd = job_dict['source_cd']\n",
    "    if source_cd == \"PP\":\n",
    "       #TODO: prob import this function from a specific PP module\n",
    "       data = validate_sheet_wksht_format_return_df(job_dict['workbook_url'])\n",
    "       data_slug = get_data_slug(data)\n",
    "        \n",
    "#   if source_cd == \"ASO Ad-Hoc\":\n",
    "#        #data = ..\n",
    "#        #data_slug = ..\n",
    "#  \n",
    "#   #if source_cd == \"ASO Monthly\":\n",
    "#       #data = ..\n",
    "#       #data_slug=..\n",
    "#   \n",
    "#   #if source_cd ==\"CS\":\n",
    "#       #data = ...\n",
    "#       #data_slug = ...\n",
    "\n",
    "\n",
    "    job_dict['inputs_df'] = data\n",
    "    job_dict['data_slug']= data_slug\n",
    "\n",
    "    return job_dict"
   ]
  },
  {
   "cell_type": "code",
   "execution_count": 0,
   "metadata": {
    "application/vnd.databricks.v1+cell": {
     "cellMetadata": {
      "byteLimit": 2048000,
      "rowLimit": 10000
     },
     "inputWidgets": {},
     "nuid": "b888e6fe-4f61-4e95-b4a1-90054381a9f9",
     "showTitle": false,
     "tableResultSettingsMap": {},
     "title": ""
    }
   },
   "outputs": [],
   "source": [
    "job_dict = get_data(job_dict)"
   ]
  },
  {
   "cell_type": "code",
   "execution_count": 0,
   "metadata": {
    "application/vnd.databricks.v1+cell": {
     "cellMetadata": {
      "byteLimit": 2048000,
      "rowLimit": 10000
     },
     "inputWidgets": {},
     "nuid": "b19e8d9d-6532-45ed-8ea5-df77ebf5d0f3",
     "showTitle": false,
     "tableResultSettingsMap": {},
     "title": ""
    }
   },
   "outputs": [],
   "source": [
    "job_dict"
   ]
  },
  {
   "cell_type": "code",
   "execution_count": 0,
   "metadata": {
    "application/vnd.databricks.v1+cell": {
     "cellMetadata": {},
     "inputWidgets": {},
     "nuid": "5a2127b9-19d8-4cf2-9dbc-f16168ac677c",
     "showTitle": false,
     "tableResultSettingsMap": {},
     "title": ""
    }
   },
   "outputs": [],
   "source": [
    "## ASO will be different... \n",
    "\n",
    "\n",
    "\n",
    "# CS - will need to get ['network','character_limit','en_US']"
   ]
  },
  {
   "cell_type": "code",
   "execution_count": 0,
   "metadata": {
    "application/vnd.databricks.v1+cell": {
     "cellMetadata": {
      "byteLimit": 2048000,
      "rowLimit": 10000
     },
     "inputWidgets": {},
     "nuid": "fa05fce3-4cbf-43e2-a8be-b936cea50138",
     "showTitle": false,
     "tableResultSettingsMap": {},
     "title": ""
    }
   },
   "outputs": [],
   "source": [
    "# Get Data for PP\n",
    "#df = validate_sheet_wksht_format_return_df(job_dict['workbook_url'])\n",
    "# And the Input Slug for PP\n",
    "#data_slug = get_data_slug(df)"
   ]
  },
  {
   "cell_type": "code",
   "execution_count": 0,
   "metadata": {
    "application/vnd.databricks.v1+cell": {
     "cellMetadata": {
      "byteLimit": 2048000,
      "rowLimit": 10000
     },
     "inputWidgets": {},
     "nuid": "0f09a911-2932-4a81-8196-f5d0160cc3e9",
     "showTitle": false,
     "tableResultSettingsMap": {},
     "title": ""
    }
   },
   "outputs": [],
   "source": [
    "for lang,lang_cd in job_dict['all_language_map'].items():\n",
    "    print(f\"lang: {lang},lang_cd: {lang_cd}\")\n",
    "    #get_PP_prompt(lang, job_dict['data_slug'])"
   ]
  },
  {
   "cell_type": "code",
   "execution_count": 0,
   "metadata": {
    "application/vnd.databricks.v1+cell": {
     "cellMetadata": {},
     "inputWidgets": {},
     "nuid": "c874396d-c1ba-4838-bbbe-7e68776c132b",
     "showTitle": false,
     "tableResultSettingsMap": {},
     "title": ""
    }
   },
   "outputs": [],
   "source": [
    "####"
   ]
  },
  {
   "cell_type": "code",
   "execution_count": 0,
   "metadata": {
    "application/vnd.databricks.v1+cell": {
     "cellMetadata": {},
     "inputWidgets": {},
     "nuid": "c6119490-1b15-4792-9261-53d4ece1a206",
     "showTitle": false,
     "tableResultSettingsMap": {},
     "title": ""
    }
   },
   "outputs": [],
   "source": [
    "# Preproces for ASO Monthly"
   ]
  },
  {
   "cell_type": "code",
   "execution_count": 0,
   "metadata": {
    "application/vnd.databricks.v1+cell": {
     "cellMetadata": {},
     "inputWidgets": {},
     "nuid": "9267c478-7d37-4101-85c9-f8279abb6d16",
     "showTitle": false,
     "tableResultSettingsMap": {},
     "title": ""
    }
   },
   "outputs": [],
   "source": [
    "#Preprocess for ASO AdHoc"
   ]
  },
  {
   "cell_type": "code",
   "execution_count": 0,
   "metadata": {
    "application/vnd.databricks.v1+cell": {
     "cellMetadata": {},
     "inputWidgets": {},
     "nuid": "0f510b50-afd9-4e00-92bf-6fcc58305969",
     "showTitle": false,
     "tableResultSettingsMap": {},
     "title": ""
    }
   },
   "outputs": [],
   "source": [
    "#Preprocess for CS"
   ]
  },
  {
   "cell_type": "code",
   "execution_count": 0,
   "metadata": {
    "application/vnd.databricks.v1+cell": {
     "cellMetadata": {
      "byteLimit": 2048000,
      "rowLimit": 10000
     },
     "inputWidgets": {},
     "nuid": "972def13-6207-4e3c-895e-cb84a99f17d7",
     "showTitle": false,
     "tableResultSettingsMap": {},
     "title": ""
    }
   },
   "outputs": [],
   "source": [
    "#Preprocess for Other\n",
    "\n",
    "\n",
    "\n",
    "\n"
   ]
  },
  {
   "cell_type": "code",
   "execution_count": 0,
   "metadata": {
    "application/vnd.databricks.v1+cell": {
     "cellMetadata": {},
     "inputWidgets": {},
     "nuid": "c38e1568-8fec-46fe-89e6-f316f1808a32",
     "showTitle": false,
     "tableResultSettingsMap": {},
     "title": ""
    }
   },
   "outputs": [],
   "source": []
  }
 ],
 "metadata": {
  "application/vnd.databricks.v1+notebook": {
   "computePreferences": null,
   "dashboards": [],
   "environmentMetadata": {
    "base_environment": "",
    "environment_version": "2"
   },
   "inputWidgetPreferences": null,
   "language": "python",
   "notebookMetadata": {
    "pythonIndentUnit": 4
   },
   "notebookName": "ASO Monthly - Centralized Main Translation",
   "widgets": {
    "DueDate": {
     "currentValue": "",
     "nuid": "b24173cd-bd43-4348-8f54-66d4d7182dd8",
     "typedWidgetInfo": {
      "autoCreated": false,
      "defaultValue": "",
      "label": null,
      "name": "DueDate",
      "options": {
       "widgetDisplayType": "Text",
       "validationRegex": null
      },
      "parameterDataType": "String"
     },
     "widgetInfo": {
      "widgetType": "text",
      "defaultValue": "",
      "label": null,
      "name": "DueDate",
      "options": {
       "widgetType": "text",
       "autoCreated": null,
       "validationRegex": null
      }
     }
    },
    "Game": {
     "currentValue": "Panda Pop",
     "nuid": "a59dce8a-cbb2-41c9-aa52-26d6dae1c98c",
     "typedWidgetInfo": {
      "autoCreated": false,
      "defaultValue": "",
      "label": null,
      "name": "Game",
      "options": {
       "widgetDisplayType": "Text",
       "validationRegex": null
      },
      "parameterDataType": "String"
     },
     "widgetInfo": {
      "widgetType": "text",
      "defaultValue": "",
      "label": null,
      "name": "Game",
      "options": {
       "widgetType": "text",
       "autoCreated": null,
       "validationRegex": null
      }
     }
    },
    "JsonJobSlug": {
     "currentValue": "{\"Timestamp\": \"6/23/2025 9:42:44\", \"SubmitterEmail\": \"vanessa.mendoza@jamcity.com\", \"DueDate\": \"7/11/2025\", \"Game\": \"Harry Potter: Hogwarts Mystery\", \"TargetLanguages\": \"Spanish (Latin America), French (France), German, Korean, Italian, Japanese, Simplified Chinese, Traditional Chinese (Taiwan), Portuguese (Brazil)\", \"URL\": \"https://docs.google.com/spreadsheets/d/1T-bKc0iLwmnsUYRhv3nGoDBkJyBdOi8euyaDuHyYTtE/edit?usp=sharing\", \"QAFlag\": \"Yes\", \"ShareStatus\": \"Shared\", \"SyncedAt\": \"2025-07-03T20:24:22.704Z\", \"PermissionStatus\": \"\", \"DataValid\": \"\", \"InternalStatus\": \"\", \"LongResultSheetURL\": \"\", \"FormattedResultSheetURL\": \"\", \"ProofreadSheetURL\": \"\", \"ProofreadCompletedSheetURL\": \"\", \"JobStatus\": \"NotStarted\", \"RowFingerprint\": \"1XkcFnA9LvoEe8xt64Edtg==\", \"JobCompletedTimestamp\": \"\", \"JobRetryFlag\": \"\", \"SourceCD\": \"ASO Monthly\"}",
     "nuid": "5396e565-6ec9-4770-85de-77f7e499c840",
     "typedWidgetInfo": {
      "autoCreated": false,
      "defaultValue": "",
      "label": null,
      "name": "JsonJobSlug",
      "options": {
       "widgetDisplayType": "Text",
       "validationRegex": null
      },
      "parameterDataType": "String"
     },
     "widgetInfo": {
      "widgetType": "text",
      "defaultValue": "",
      "label": null,
      "name": "JsonJobSlug",
      "options": {
       "widgetType": "text",
       "autoCreated": null,
       "validationRegex": null
      }
     }
    },
    "QAFlag": {
     "currentValue": "",
     "nuid": "2d5ca3a4-4e43-40a0-a7e4-ffd45c724ca8",
     "typedWidgetInfo": {
      "autoCreated": false,
      "defaultValue": "",
      "label": null,
      "name": "QAFlag",
      "options": {
       "widgetDisplayType": "Text",
       "validationRegex": null
      },
      "parameterDataType": "String"
     },
     "widgetInfo": {
      "widgetType": "text",
      "defaultValue": "",
      "label": null,
      "name": "QAFlag",
      "options": {
       "widgetType": "text",
       "autoCreated": null,
       "validationRegex": null
      }
     }
    },
    "RowFingerprint": {
     "currentValue": "",
     "nuid": "7775fedd-6d97-4f9a-b3f7-5596aff7a7cf",
     "typedWidgetInfo": {
      "autoCreated": false,
      "defaultValue": "",
      "label": null,
      "name": "RowFingerprint",
      "options": {
       "widgetDisplayType": "Text",
       "validationRegex": null
      },
      "parameterDataType": "String"
     },
     "widgetInfo": {
      "widgetType": "text",
      "defaultValue": "",
      "label": null,
      "name": "RowFingerprint",
      "options": {
       "widgetType": "text",
       "autoCreated": null,
       "validationRegex": null
      }
     }
    },
    "SourceCD": {
     "currentValue": "ASO Monthly",
     "nuid": "7807c227-9e47-47f5-a1da-a4305f1f7865",
     "typedWidgetInfo": {
      "autoCreated": false,
      "defaultValue": "",
      "label": null,
      "name": "SourceCD",
      "options": {
       "widgetDisplayType": "Text",
       "validationRegex": null
      },
      "parameterDataType": "String"
     },
     "widgetInfo": {
      "widgetType": "text",
      "defaultValue": "",
      "label": null,
      "name": "SourceCD",
      "options": {
       "widgetType": "text",
       "autoCreated": null,
       "validationRegex": null
      }
     }
    },
    "SubmitterEmail": {
     "currentValue": "krista@jamcity.com",
     "nuid": "1bb3f1aa-4c5e-41ab-98ca-52b1bc7d2133",
     "typedWidgetInfo": {
      "autoCreated": false,
      "defaultValue": "",
      "label": null,
      "name": "SubmitterEmail",
      "options": {
       "widgetDisplayType": "Text",
       "validationRegex": null
      },
      "parameterDataType": "String"
     },
     "widgetInfo": {
      "widgetType": "text",
      "defaultValue": "",
      "label": null,
      "name": "SubmitterEmail",
      "options": {
       "widgetType": "text",
       "autoCreated": null,
       "validationRegex": null
      }
     }
    },
    "TargetLanguages": {
     "currentValue": "Spanish (Spain), German",
     "nuid": "f3cb35da-d025-41f4-a1ed-bfbe5f5d8bb1",
     "typedWidgetInfo": {
      "autoCreated": false,
      "defaultValue": "",
      "label": null,
      "name": "TargetLanguages",
      "options": {
       "widgetDisplayType": "Text",
       "validationRegex": null
      },
      "parameterDataType": "String"
     },
     "widgetInfo": {
      "widgetType": "text",
      "defaultValue": "",
      "label": null,
      "name": "TargetLanguages",
      "options": {
       "widgetType": "text",
       "autoCreated": null,
       "validationRegex": null
      }
     }
    },
    "Timestamp": {
     "currentValue": "",
     "nuid": "589c52f0-b384-47c2-bb3b-ed0db581da3d",
     "typedWidgetInfo": {
      "autoCreated": false,
      "defaultValue": "",
      "label": null,
      "name": "Timestamp",
      "options": {
       "widgetDisplayType": "Text",
       "validationRegex": null
      },
      "parameterDataType": "String"
     },
     "widgetInfo": {
      "widgetType": "text",
      "defaultValue": "",
      "label": null,
      "name": "Timestamp",
      "options": {
       "widgetType": "text",
       "autoCreated": null,
       "validationRegex": null
      }
     }
    },
    "URL": {
     "currentValue": "",
     "nuid": "d6a90843-f152-4f37-872d-16c566368087",
     "typedWidgetInfo": {
      "autoCreated": false,
      "defaultValue": "",
      "label": null,
      "name": "URL",
      "options": {
       "widgetDisplayType": "Text",
       "validationRegex": null
      },
      "parameterDataType": "String"
     },
     "widgetInfo": {
      "widgetType": "text",
      "defaultValue": "",
      "label": null,
      "name": "URL",
      "options": {
       "widgetType": "text",
       "autoCreated": null,
       "validationRegex": null
      }
     }
    }
   }
  },
  "language_info": {
   "name": "python"
  }
 },
 "nbformat": 4,
 "nbformat_minor": 0
}
