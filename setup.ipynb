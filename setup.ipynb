{
 "cells": [
  {
   "cell_type": "code",
   "execution_count": 0,
   "metadata": {
    "application/vnd.databricks.v1+cell": {
     "cellMetadata": {},
     "inputWidgets": {},
     "nuid": "3aa24d11-db47-4bfd-99f8-80adeb9e48e2",
     "showTitle": false,
     "tableResultSettingsMap": {},
     "title": ""
    }
   },
   "outputs": [],
   "source": [
    "import json"
   ]
  },
  {
   "cell_type": "code",
   "execution_count": 0,
   "metadata": {
    "application/vnd.databricks.v1+cell": {
     "cellMetadata": {
      "byteLimit": 2048000,
      "rowLimit": 10000
     },
     "inputWidgets": {},
     "nuid": "ad83042b-467a-4929-919e-5a2c2e45c334",
     "showTitle": false,
     "tableResultSettingsMap": {},
     "title": ""
    }
   },
   "outputs": [],
   "source": [
    "def setup_widgets():\n",
    "    dbutils.widgets.removeAll()\n",
    "    #dbutils.widgets.text('WorkbookID',\"\") #OR just the WorkbookURL...\n",
    "    #dbutils.widgets.text(\"Timestamp\",\"\")\n",
    "    #dbutils.widgets.text(\"SubmitterEmail\",\"\")\n",
    "    #dbutils.widgets.text(\"DueDate\",\"\")\n",
    "    #dbutils.widgets.text(\"Game\",\"\")\n",
    "    #dbutils.widgets.text(\"URL\",\"\")\n",
    "    #dbutils.widgets.text(\"TargetLanguages\",\"\")\n",
    "    #dbutils.widgets.text(\"QAFlag\",\"\")\n",
    "\n",
    "    ### These are others...\n",
    "    dbutils.widgets.text(\"JsonJobSlug\",\"\")\n",
    "    #dbutils.widgets.text(\"RowFingerprint\",\"\")\n",
    "    dbutils.widgets.text(\"SourceCD\",\"\")\n",
    "    #dbutils.widgets.text(\"SubmittedDate\",\"\")"
   ]
  },
  {
   "cell_type": "code",
   "execution_count": 0,
   "metadata": {
    "application/vnd.databricks.v1+cell": {
     "cellMetadata": {},
     "inputWidgets": {},
     "nuid": "24e180ee-1543-4d49-80ab-6771e536beec",
     "showTitle": false,
     "tableResultSettingsMap": {},
     "title": ""
    }
   },
   "outputs": [],
   "source": [
    "#setup_widgets()"
   ]
  },
  {
   "cell_type": "code",
   "execution_count": 0,
   "metadata": {
    "application/vnd.databricks.v1+cell": {
     "cellMetadata": {},
     "inputWidgets": {},
     "nuid": "720ef5f1-2698-48ec-807c-cd1fdd897e64",
     "showTitle": false,
     "tableResultSettingsMap": {},
     "title": ""
    }
   },
   "outputs": [],
   "source": [
    "#TODO - Make sure mapping is correct \n",
    "##{'Spanish (Latin America)':\"Spanish (Latin America)\",\n",
    "# 'Traditional Chinese':'Traditional Chinese (Taiwan)', \n",
    "# 'Portuguese (Brazil)':\"Portuguese (Brazil)\", \n",
    "# 'French (France)':\"French (France)\"}\n",
    "\n"
   ]
  },
  {
   "cell_type": "code",
   "execution_count": 0,
   "metadata": {
    "application/vnd.databricks.v1+cell": {
     "cellMetadata": {
      "byteLimit": 2048000,
      "rowLimit": 10000
     },
     "inputWidgets": {},
     "nuid": "24e1b0ab-04ee-4360-9ced-08a71e9ca294",
     "showTitle": false,
     "tableResultSettingsMap": {},
     "title": ""
    }
   },
   "outputs": [],
   "source": []
  },
  {
   "cell_type": "code",
   "execution_count": 0,
   "metadata": {
    "application/vnd.databricks.v1+cell": {
     "cellMetadata": {
      "byteLimit": 2048000,
      "rowLimit": 10000
     },
     "inputWidgets": {},
     "nuid": "e2d1cafc-928a-4f15-afec-7199d220b8c3",
     "showTitle": false,
     "tableResultSettingsMap": {},
     "title": ""
    }
   },
   "outputs": [],
   "source": [
    "#monthly = FORM_PROJECT_DICTS['ASO Monthly'].get('ALL_LANG_MAP')\n",
    "#pp = FORM_PROJECT_DICTS['PP'][\"ALL_LANG_MAP\"]\n",
    "#all_language_map = monthly | pp"
   ]
  },
  {
   "cell_type": "code",
   "execution_count": 0,
   "metadata": {
    "application/vnd.databricks.v1+cell": {
     "cellMetadata": {
      "byteLimit": 2048000,
      "rowLimit": 10000
     },
     "inputWidgets": {},
     "nuid": "964d15cc-6b27-4ab8-bb53-da126e00f740",
     "showTitle": false,
     "tableResultSettingsMap": {},
     "title": ""
    }
   },
   "outputs": [],
   "source": [
    "#TODO: For ASO Monthly, make sure the language names are as follows\n",
    "\n",
    "\n",
    "FORM_PROJECT_DICTS = {\n",
    "    \"ASO Monthly\":\n",
    "        {\n",
    "            \"ALL_LANGUAGES\":['Spanish (Latin America)','Portuguese (Brazil)','Italian','Japanese','French (France)','German','Simplified Chinese', 'Traditional Chinese (Taiwan)','Korean','Russian'],\n",
    "            \"ALL_LANGUAGE_CDS\":['es-419','pt-BR','it','ja','fr','de','zh-CN','zh-TW','ko','ru'],\n",
    "            \"ALL_LANG_MAP\":\n",
    "                {\n",
    "                    'Spanish (Latin America)': 'es-419',\n",
    "                    'Portuguese (Brazil)': 'pt-BR',\n",
    "                    'Italian': 'it',\n",
    "                    'Japanese': 'ja',\n",
    "                    'French (France)': 'fr',\n",
    "                    'German': 'de',\n",
    "                    'Simplified Chinese': 'zh-CN',\n",
    "                    'Traditional Chinese (Taiwan)': 'zh-TW',\n",
    "                    'Korean': 'ko',\n",
    "                    'Russian': 'ru'\n",
    "                }\n",
    "        },\n",
    "    \"PP\" :\n",
    "        {\n",
    "            \"ALL_LANGUAGES\":['Japanese', 'French', 'Italian', 'German', 'Spanish (Spain)', 'Korean', 'Danish', 'Swedish', 'Norwegian', 'Traditional Chinese (Taiwan)', 'Simplified Chinese', 'Portuguese (Brazil)', 'Russian', 'Arabic', 'Turkish'],\n",
    "            \"ALL_LANGUAGE_CDS\":['ja', 'fr', 'it', 'de', 'es', 'ko', 'da', 'sv', 'no', 'zh-TW', 'zh-CN', 'pt-BR', 'ru', 'ar', 'tr'],\n",
    "            \"ALL_LANG_MAP\":\n",
    "                {\n",
    "                    'Japanese': 'ja',\n",
    "                    'French': 'fr',\n",
    "                    'Italian': 'it',\n",
    "                    'German': 'de',\n",
    "                    'Spanish (Spain)': 'es',\n",
    "                    'Korean': 'ko',\n",
    "                    'Danish': 'da',\n",
    "                    'Swedish': 'sv',\n",
    "                    'Norwegian': 'no',\n",
    "                    'Traditional Chinese (Taiwan)': 'zh-TW',\n",
    "                    'Simplified Chinese': 'zh-CN',\n",
    "                    'Portuguese (Brazil)': 'pt-BR',\n",
    "                    'Russian': 'ru',\n",
    "                    'Arabic': 'ar',\n",
    "                    'Turkish': 'tr'\n",
    "                },\n",
    "            \"Game\":\"Panda Pop\",\n",
    "            \"QAFlag\":\"Yes\"\n",
    "        },\n",
    "    \"CS\" :\n",
    "        {\n",
    "            \"ALL_LANGUAGES\":[],# ADD HERE\n",
    "            \"ALL_LANGUAGE_CDS\":[],# ADD HERE\n",
    "            \"ALL_LANG_MAP\":{\n",
    "                \"Spanish (Latin America)\": \"es-419\",\n",
    "                \"French (France)\": \"fr\",\n",
    "                \"Italian\": \"it\",\n",
    "                \"German\": \"de\",\n",
    "                \"Russian\": \"ru\",\n",
    "                \"Korean\": \"ko\",\n",
    "                \"Japanese\": \"ja\",\n",
    "                \"Simplified Chinese\": \"zh-CN\",\n",
    "                \"Traditional Chinese (Taiwan)\": \"zh-HK\",\n",
    "                \"Traditional Chinese (Hong Kong)\": \"zh-TW\",\n",
    "                \"Portuguese (Brazil)\": \"pt\",\n",
    "                \"Spanish (Spain)\": \"es\",\n",
    "                \"French (Canada)\": \"fr\",\n",
    "                \"Malay (Malaysia)\": \"ms\",\n",
    "                \"Filipino\": \"fil\",\n",
    "                \"Thai\": \"th\",\n",
    "                \"Turkish\": \"tr\",\n",
    "                \"Indonesian\": \"id\",\n",
    "                \"Norwegian\": \"no\",\n",
    "                \"Swedish\": \"sv\",\n",
    "                \"Finnish\": \"fi\",\n",
    "                \"Danish\": \"da\",\n",
    "                \"Arabic\": \"ar\"\n",
    "            }\n",
    "        },\n",
    "    \"ASO Ad-Hoc\" :\n",
    "        {\n",
    "            \"ALL_LANGUAGES\":None,\n",
    "            \"ALL_LANGUAGE_CDS\":None,\n",
    "            \"ALL_LANG_MAP\":{\n",
    "                \"Spanish (Latin America)\": \"es-419\",\n",
    "                \"French (France)\": \"fr\",\n",
    "                \"Italian\": \"it\",\n",
    "                \"German\": \"de\",\n",
    "                \"Russian\": \"ru\",\n",
    "                \"Korean\": \"ko\",\n",
    "                \"Japanese\": \"ja\",\n",
    "                \"Simplified Chinese\": \"zh-CN\",\n",
    "                \"Traditional Chinese (Taiwan)\": \"zh-TW\",\n",
    "                \"Traditional Chinese (Hong Kong)\": \"zh-HK\",\n",
    "                \"Portuguese (Brazil)\": \"pt-BR\",\n",
    "                \"Spanish (Spain)\": \"es\",\n",
    "                \"French (Canada)\": \"fr-CA\",\n",
    "                \"Malay (Malaysia)\": \"ms\",\n",
    "                \"Filipino\": \"fil\",\n",
    "                \"Thai\": \"th\",\n",
    "                \"Turkish\": \"tr\",\n",
    "                \"Indonesian\": \"id\",\n",
    "                \"Norwegian\": \"no\",\n",
    "                \"Swedish\": \"sv\",\n",
    "                \"Finnish\": \"fi\",\n",
    "                \"Danish\": \"da\",\n",
    "                \"Arabic\": \"ar\"\n",
    "            }\n",
    "        },           \n",
    "}"
   ]
  },
  {
   "cell_type": "code",
   "execution_count": 0,
   "metadata": {
    "application/vnd.databricks.v1+cell": {
     "cellMetadata": {},
     "inputWidgets": {},
     "nuid": "355860d8-ca42-4506-bb04-4a322c664eb1",
     "showTitle": false,
     "tableResultSettingsMap": {},
     "title": ""
    }
   },
   "outputs": [],
   "source": []
  },
  {
   "cell_type": "code",
   "execution_count": 0,
   "metadata": {
    "application/vnd.databricks.v1+cell": {
     "cellMetadata": {},
     "inputWidgets": {},
     "nuid": "432b0556-9f71-4769-91da-9267891ea849",
     "showTitle": false,
     "tableResultSettingsMap": {},
     "title": ""
    }
   },
   "outputs": [],
   "source": []
  },
  {
   "cell_type": "code",
   "execution_count": 0,
   "metadata": {
    "application/vnd.databricks.v1+cell": {
     "cellMetadata": {},
     "inputWidgets": {},
     "nuid": "2a4ff528-e653-48a3-9e63-c072bc13ad72",
     "showTitle": false,
     "tableResultSettingsMap": {},
     "title": ""
    }
   },
   "outputs": [],
   "source": [
    "def handle_json_parsing():\n",
    "\n",
    "    def get_form_widgets():\n",
    "        setup_widgets()\n",
    "\n",
    "        json_job_slug = dbutils.widgets.get(\"JsonJobSlug\")\n",
    "        source_cd = dbutils.widgets.get(\"SourceCD\")\n",
    "\n",
    "        additional_dict = FORM_PROJECT_DICTS[source_cd]\n",
    "\n",
    "        temp_job_dict = json.loads(json_job_slug)\n",
    "        return {**additional_dict, **temp_job_dict}\n",
    "\n",
    "    job_dict = get_form_widgets()\n",
    "    if job_dict['SourceCD']== \"ASO Monthly\" or job_dict['SourceCD']==\"ASO Ad-Hoc\":\n",
    "        langs_str = job_dict['TargetLanguages'].split(',')\n",
    "        langs = [lang.lstrip() for lang in langs_str]\n",
    "    else:\n",
    "        langs = job_dict['ALL_LANGUAGES']\n",
    "\n",
    "    lang_map = {}\n",
    "    lang_cds = []\n",
    "    for lang in langs:\n",
    "        if lang in job_dict['ALL_LANG_MAP']:\n",
    "            lang_cd = job_dict['ALL_LANG_MAP'][lang]\n",
    "            lang_map[lang] = lang_cd\n",
    "            lang_cds.append(lang_cd)\n",
    "\n",
    "    #job_dict['ALL_LANG_MAP'] = lang_map\n",
    "    #job_dict['ALL_LANGUAGE_CDS'] = lang_cds\n",
    "    #job_dict['ALL_LANGUAGES'] = langs\n",
    "\n",
    "    out_dict = {'workbook_id': '',\n",
    "        'submitted_date': job_dict['Timestamp'],\n",
    "        'submitter_email': job_dict['SubmitterEmail'],\n",
    "        'workbook_url':job_dict['URL'],\n",
    "        'due_date': job_dict['DueDate'],\n",
    "        'game_name': job_dict['Game'],\n",
    "        'qa_flag': job_dict['QAFlag'],\n",
    "        'row_fingerprint': job_dict['RowFingerprint'],\n",
    "        'source_cd': job_dict['SourceCD'],\n",
    "        'all_languages': langs,\n",
    "        'all_language_cds': lang_cds,\n",
    "        'all_language_map': lang_map}\n",
    "\n",
    "\n",
    "    return out_dict"
   ]
  }
 ],
 "metadata": {
  "application/vnd.databricks.v1+notebook": {
   "computePreferences": null,
   "dashboards": [],
   "environmentMetadata": {
    "base_environment": "",
    "environment_version": "2"
   },
   "inputWidgetPreferences": null,
   "language": "python",
   "notebookMetadata": {
    "pythonIndentUnit": 4
   },
   "notebookName": "setup",
   "widgets": {}
  },
  "language_info": {
   "name": "python"
  }
 },
 "nbformat": 4,
 "nbformat_minor": 0
}
