{
 "cells": [
  {
   "cell_type": "code",
   "execution_count": 0,
   "metadata": {
    "application/vnd.databricks.v1+cell": {
     "cellMetadata": {
      "byteLimit": 2048000,
      "rowLimit": 10000
     },
     "inputWidgets": {},
     "nuid": "aa181d97-557d-450b-a934-9233da0f0a00",
     "showTitle": false,
     "tableResultSettingsMap": {},
     "title": ""
    }
   },
   "outputs": [],
   "source": [
    "%pip install gspread==5.12.4 \n",
    "\n",
    "%restart_python"
   ]
  },
  {
   "cell_type": "code",
   "execution_count": 0,
   "metadata": {
    "application/vnd.databricks.v1+cell": {
     "cellMetadata": {
      "byteLimit": 2048000,
      "rowLimit": 10000
     },
     "inputWidgets": {},
     "nuid": "13fa18a2-9a9b-4e26-87ee-cc7ebfeff06a",
     "showTitle": false,
     "tableResultSettingsMap": {},
     "title": ""
    }
   },
   "outputs": [],
   "source": [
    "%load_ext autoreload\n",
    "%autoreload 2 "
   ]
  },
  {
   "cell_type": "code",
   "execution_count": 0,
   "metadata": {
    "application/vnd.databricks.v1+cell": {
     "cellMetadata": {
      "byteLimit": 2048000,
      "rowLimit": 10000
     },
     "inputWidgets": {},
     "nuid": "a8793928-423a-4143-92dc-8a9dcdd531a2",
     "showTitle": false,
     "tableResultSettingsMap": {},
     "title": ""
    }
   },
   "outputs": [],
   "source": [
    "import pandas as pd\n",
    "import json\n",
    "import gspread"
   ]
  },
  {
   "cell_type": "code",
   "execution_count": 0,
   "metadata": {
    "application/vnd.databricks.v1+cell": {
     "cellMetadata": {
      "byteLimit": 2048000,
      "rowLimit": 10000
     },
     "inputWidgets": {},
     "nuid": "3852ed7d-ab0d-42ef-9071-5d01cf66b842",
     "showTitle": false,
     "tableResultSettingsMap": {},
     "title": ""
    }
   },
   "outputs": [],
   "source": [
    "def get_gspread_client_from_secret(scope='krista-ds-loc-scope',\n",
    "                                   key = 'crafty_json_key'):\n",
    "    \n",
    "    try:\n",
    "        crafty_json = dbutils.secrets.get(scope = 'krista-ds-loc-scope', key = 'crafty_json_key')\n",
    "    except:\n",
    "        print(\"Cannot get secret from scope for gspread!!\")\n",
    "\n",
    "    gc = gspread.service_account_from_dict(json.loads(crafty_json))\n",
    "\n",
    "    print(\"Getting gspread client...\")\n",
    "    return gc"
   ]
  },
  {
   "cell_type": "code",
   "execution_count": 0,
   "metadata": {
    "application/vnd.databricks.v1+cell": {
     "cellMetadata": {
      "byteLimit": 2048000,
      "rowLimit": 10000
     },
     "inputWidgets": {},
     "nuid": "2440dec3-cbf1-4f27-a60c-81a066001c81",
     "showTitle": false,
     "tableResultSettingsMap": {},
     "title": ""
    }
   },
   "outputs": [],
   "source": [
    "gc = get_gspread_client_from_secret()\n",
    "\n",
    "def get_processing_rows_from_sheet_aso_monthly():\n",
    "\n",
    "    #WORKBOOK_ID = \"1WnCBGk1V1nEUeU7aPWBqrQXczmaMop6AbGmkDKkAQcE\"\n",
    "    ASO_MONTHLY_SS_URL = \"https://docs.google.com/spreadsheets/d/1WnCBGk1V1nEUeU7aPWBqrQXczmaMop6AbGmkDKkAQcE/edit?gid=1033119277#gid=1033119277\"\n",
    "\n",
    "    WKSHT_NAME = \"Validation and Url Tracking\"\n",
    "\n",
    "    source_ss = gc.open_by_url(ASO_MONTHLY_SS_URL)\n",
    "\n",
    "    source_wksht = source_ss.worksheet(WKSHT_NAME)\n",
    "    vals = source_wksht.get_all_values()\n",
    "\n",
    "    headers, data = vals[0],vals[1:]\n",
    "    df = pd.DataFrame(data, columns=headers)\n",
    "\n",
    "    to_process_df = df[df.JobStatus == 'NotStarted']\n",
    "\n",
    "\n",
    "    return to_process_df\n",
    "\n",
    "\n",
    "def get_row_dicts(to_process_df:pd.DataFrame, \n",
    "                  source_cd:str )->list:\n",
    "\n",
    "    list_slugs = []\n",
    "    for i,row in to_process_df.iterrows():\n",
    "        row_dict = row.to_dict()\n",
    "        row_dict['source_cd'] = source_cd\n",
    "        json_job_slug = json.dumps(row_dict)\n",
    "        row['JsonJobSlug'] = json_job_slug\n",
    "        list_slugs.append(row['JsonJobSlug'])\n",
    "\n",
    "    return list_slugs"
   ]
  },
  {
   "cell_type": "code",
   "execution_count": 0,
   "metadata": {
    "application/vnd.databricks.v1+cell": {
     "cellMetadata": {
      "byteLimit": 2048000,
      "rowLimit": 10000
     },
     "inputWidgets": {},
     "nuid": "b9fadaea-9627-48d1-8749-dc7f4b4e4c96",
     "showTitle": false,
     "tableResultSettingsMap": {},
     "title": ""
    }
   },
   "outputs": [],
   "source": [
    "SOURCE_CD =  'ASO Monthly'\n",
    "\n",
    "to_process_df = get_processing_rows_from_sheet_aso_monthly()\n",
    "\n",
    "row_slugs= pd.DataFrame(get_row_dicts(to_process_df, SOURCE_CD),columns = ['JsonJobSlug'])\n",
    "\n",
    "OUT_JSON = json.dumps(row_slugs.to_dict('records'))\n"
   ]
  },
  {
   "cell_type": "code",
   "execution_count": 0,
   "metadata": {
    "application/vnd.databricks.v1+cell": {
     "cellMetadata": {},
     "inputWidgets": {},
     "nuid": "72fb16de-8ce3-4947-8118-f967d01e3f4f",
     "showTitle": false,
     "tableResultSettingsMap": {},
     "title": ""
    }
   },
   "outputs": [],
   "source": [
    "#TODO: Process Languages "
   ]
  },
  {
   "cell_type": "code",
   "execution_count": 0,
   "metadata": {
    "application/vnd.databricks.v1+cell": {
     "cellMetadata": {},
     "inputWidgets": {},
     "nuid": "c0f5cbca-a174-4c44-a1dc-c4707eebe073",
     "showTitle": false,
     "tableResultSettingsMap": {},
     "title": ""
    }
   },
   "outputs": [],
   "source": [
    "dbutils.notebook.exit(OUT_JSON)"
   ]
  }
 ],
 "metadata": {
  "application/vnd.databricks.v1+notebook": {
   "computePreferences": null,
   "dashboards": [],
   "environmentMetadata": {
    "base_environment": "",
    "environment_version": "2"
   },
   "inputWidgetPreferences": null,
   "language": "python",
   "notebookMetadata": {
    "pythonIndentUnit": 4
   },
   "notebookName": "ASO_Monthly",
   "widgets": {}
  },
  "language_info": {
   "name": "python"
  }
 },
 "nbformat": 4,
 "nbformat_minor": 0
}
