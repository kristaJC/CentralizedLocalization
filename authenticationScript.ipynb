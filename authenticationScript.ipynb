{
 "cells": [
  {
   "cell_type": "code",
   "execution_count": 0,
   "metadata": {
    "application/vnd.databricks.v1+cell": {
     "cellMetadata": {},
     "inputWidgets": {},
     "nuid": "54077781-5e63-4e0e-add3-1bcf1342a067",
     "showTitle": false,
     "tableResultSettingsMap": {},
     "title": ""
    }
   },
   "outputs": [],
   "source": [
    "import json\n",
    "import gspread\n",
    "#from config import *\n",
    "#from kp_scope_config import * \n",
    "\n",
    "def get_gspread_client_from_secret(scope='krista-ds-loc-scope',\n",
    "                                   key = 'crafty_json_key'):\n",
    "    \n",
    "    try:\n",
    "        crafty_json = dbutils.secrets.get(scope = 'krista-ds-loc-scope', key = 'crafty_json_key')\n",
    "    except:\n",
    "        print(\"Cannot get secret from scope for gspread!!\")\n",
    "\n",
    "    gc = gspread.service_account_from_dict(json.loads(crafty_json))\n",
    "\n",
    "    print(\"Getting gspread client...\")\n",
    "    return gc\n",
    "\n",
    "\n",
    "def get_gpt_secret_keys():\n",
    "\n",
    "    \"\"\"\n",
    "    Get the secret open ai api keys for the current user.\n",
    "    \"\"\"\n",
    "\n",
    "    try:\n",
    "        current_user = dbutils.notebook.entry_point.getDbutils().notebook().getContext().userName().get().split(\"@\")[0]\n",
    "        scope_name = f'openai-{current_user}'\n",
    "        api_user_key = dbutils.secrets.get(scope = scope_name, key = \"token\")\n",
    "    except Exception as e:\n",
    "        raise Exception(str(e))\n",
    "\n",
    "    try:\n",
    "        dbutils.secrets.list(scope = \"openai\")\n",
    "        org_key = dbutils.secrets.get(scope = \"openai\", key = \"token_org\")\n",
    "        return (current_user, api_user_key, org_key)\n",
    "    except Exception as e:\n",
    "        raise Exception(str(e))\n",
    "\n",
    "\n",
    "def get_model_client(model_type:str = 'gpt'):\n",
    "    \n",
    "    if model_type not in ['gpt','gemini']:\n",
    "        print(f\"\"\" The model type: {model_type} is not supported. Please choose either 'gpt' or 'gemini'\"\"\")\n",
    "        return None\n",
    "\n",
    "    if model_type == 'gpt':\n",
    "        CURRENT_USER, PROJECT_API_KEY, ORGANIZATION_API_KEY =   get_gpt_secret_keys()\n",
    "        client = OpenAI(\n",
    "            api_key=PROJECT_API_KEY,\n",
    "            organization=ORGANIZATION_API_KEY\n",
    "        )\n",
    "\n",
    "        print('Getting gpt client...')\n",
    "        return client\n",
    "    \n",
    "    #if model_type=='gemini':\n",
    "\n",
    "    return"
   ]
  }
 ],
 "metadata": {
  "application/vnd.databricks.v1+notebook": {
   "computePreferences": null,
   "dashboards": [],
   "environmentMetadata": {
    "base_environment": "",
    "environment_version": "2"
   },
   "inputWidgetPreferences": null,
   "language": "python",
   "notebookMetadata": {
    "pythonIndentUnit": 4
   },
   "notebookName": "authenticationScript",
   "widgets": {}
  },
  "language_info": {
   "name": "python"
  }
 },
 "nbformat": 4,
 "nbformat_minor": 0
}
