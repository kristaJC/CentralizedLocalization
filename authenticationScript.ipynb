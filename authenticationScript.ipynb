{
 "cells": [
  {
   "cell_type": "code",
   "execution_count": 0,
   "metadata": {
    "application/vnd.databricks.v1+cell": {
     "cellMetadata": {
      "byteLimit": 2048000,
      "rowLimit": 10000
     },
     "inputWidgets": {},
     "nuid": "54077781-5e63-4e0e-add3-1bcf1342a067",
     "showTitle": false,
     "tableResultSettingsMap": {},
     "title": ""
    }
   },
   "outputs": [],
   "source": [
    "import json\n",
    "import gspread\n",
    "#from config import *\n",
    "#from kp_scope_config import * \n",
    "\n",
    "def get_gspread_client_from_secret_old(scope='krista-ds-loc-scope',\n",
    "                                   key = 'crafty_json_key'):\n",
    "    \n",
    "    try:\n",
    "        crafty_json = dbutils.secrets.get(scope = 'krista-ds-loc-scope', key = 'crafty_json_key')\n",
    "    except:\n",
    "        print(\"Cannot get secret from scope for gspread!!\")\n",
    "\n",
    "    gc = gspread.service_account_from_dict(json.loads(crafty_json))\n",
    "\n",
    "    print(\"Getting gspread client...\")\n",
    "    return gc\n",
    "\n",
    "\n",
    "\n",
    "### Edited to have new key\n",
    "def get_gspread_client_from_secret(scope = f\"krista-ds-gspread-access\",\n",
    "                                   key=\"authentication\"):\n",
    "    auth_json = dbutils.secrets.get(scope = scope, key = key)\n",
    "    gc = gspread.service_account_from_dict(json.loads(auth_json))\n",
    "\n",
    "    print(\"Getting gspread client...\")\n",
    "    return gc\n",
    "\n",
    "\n",
    "def get_gpt_secret_keys():\n",
    "\n",
    "    \"\"\"\n",
    "    Get the secret open ai api keys for the current user.\n",
    "    \"\"\"\n",
    "\n",
    "    try:\n",
    "        current_user = dbutils.notebook.entry_point.getDbutils().notebook().getContext().userName().get().split(\"@\")[0]\n",
    "        scope_name = f'openai-{current_user}'\n",
    "        api_user_key = dbutils.secrets.get(scope = scope_name, key = \"token\")\n",
    "    except Exception as e:\n",
    "        raise Exception(str(e))\n",
    "\n",
    "    try:\n",
    "        dbutils.secrets.list(scope = \"openai\")\n",
    "        org_key = dbutils.secrets.get(scope = \"openai\", key = \"token_org\")\n",
    "        return (current_user, api_user_key, org_key)\n",
    "    except Exception as e:\n",
    "        raise Exception(str(e))\n",
    "\n",
    "\n",
    "def get_model_client(model_type:str = 'gpt'):\n",
    "    \n",
    "    if model_type not in ['gpt','gemini']:\n",
    "        print(f\"\"\" The model type: {model_type} is not supported. Please choose either 'gpt' or 'gemini'\"\"\")\n",
    "        return None\n",
    "\n",
    "    if model_type == 'gpt':\n",
    "        CURRENT_USER, PROJECT_API_KEY, ORGANIZATION_API_KEY =   get_gpt_secret_keys()\n",
    "        client = OpenAI(\n",
    "            api_key=PROJECT_API_KEY,\n",
    "            organization=ORGANIZATION_API_KEY\n",
    "        )\n",
    "\n",
    "        print('Getting gpt client...')\n",
    "        return client\n",
    "    \n",
    "    #if model_type=='gemini':\n",
    "\n",
    "    return\n",
    "\n",
    "\n",
    "def setup_widgets():\n",
    "    dbutils.widgets.text('RowFingerprint',\"\")\n",
    "    dbutils.widgets.text(\"Timestamp\",\"\")\n",
    "    dbutils.widgets.text(\"SubmitterEmail\",\"\")\n",
    "    dbutils.widgets.text(\"DueDate\",\"\")\n",
    "    dbutils.widgets.text('LocType',\"\")\n",
    "    dbutils.widgets.text(\"Game\",\"\")\n",
    "    dbutils.widgets.text(\"TargetLanguages\",\"\")\n",
    "    dbutils.widgets.text(\"URL\",\"\")\n",
    "    dbutils.widgets.text(\"QAFlag\",\"\")\n",
    "    dbutils.widgets.text(\"Status\",\"\")\n",
    "    dbutils.widgets.text(\"LastStatusUpdate\",\"\")\n",
    "\n",
    "def get_request():\n",
    "    return {'Timestamp':dbutils.widgets.get('Timestamp'), \n",
    "       'SubmitterEmail':dbutils.widgets.get('SubmitterEmail'),\n",
    "       'DueDate': dbutils.widgets.get(\"DueDate\"), \n",
    "       'Game':  dbutils.widgets.get(\"Game\"),\n",
    "       'TargetLanguages':  dbutils.widgets.get(\"TargetLanguages\"), \n",
    "       'URL': dbutils.widgets.get(\"URL\"), \n",
    "       'LocType': dbutils.widgets.get(\"LocType\"), \n",
    "       'RowFingerprint': dbutils.widgets.get(\"RowFingerprint\")}\n",
    "    \n",
    "setup_widgets()"
   ]
  },
  {
   "cell_type": "code",
   "execution_count": 0,
   "metadata": {
    "application/vnd.databricks.v1+cell": {
     "cellMetadata": {},
     "inputWidgets": {},
     "nuid": "98a21816-4cf5-48f3-b5a7-79494c11029f",
     "showTitle": false,
     "tableResultSettingsMap": {},
     "title": ""
    }
   },
   "outputs": [],
   "source": []
  }
 ],
 "metadata": {
  "application/vnd.databricks.v1+notebook": {
   "computePreferences": null,
   "dashboards": [],
   "environmentMetadata": {
    "base_environment": "",
    "environment_version": "2"
   },
   "inputWidgetPreferences": null,
   "language": "python",
   "notebookMetadata": {
    "pythonIndentUnit": 4
   },
   "notebookName": "authenticationScript",
   "widgets": {}
  },
  "language_info": {
   "name": "python"
  }
 },
 "nbformat": 4,
 "nbformat_minor": 0
}
