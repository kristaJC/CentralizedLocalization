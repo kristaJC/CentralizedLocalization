{
 "cells": [
  {
   "cell_type": "code",
   "execution_count": 0,
   "metadata": {
    "application/vnd.databricks.v1+cell": {
     "cellMetadata": {
      "byteLimit": 2048000,
      "rowLimit": 10000
     },
     "inputWidgets": {},
     "nuid": "3e679078-7fbc-461b-ad86-2355a428ff49",
     "showTitle": false,
     "tableResultSettingsMap": {},
     "title": ""
    }
   },
   "outputs": [],
   "source": [
    "%pip install openai unidecode gspread==5.12.4 tiktoken mlflow\n",
    "%restart_python\n",
    "%load_ext autoreload\n",
    "%autoreload 2 "
   ]
  },
  {
   "cell_type": "code",
   "execution_count": 0,
   "metadata": {
    "application/vnd.databricks.v1+cell": {
     "cellMetadata": {
      "byteLimit": 2048000,
      "rowLimit": 10000
     },
     "inputWidgets": {},
     "nuid": "0e4a9783-8bd4-48c1-aa9b-6b8eb165b2cb",
     "showTitle": false,
     "tableResultSettingsMap": {},
     "title": ""
    }
   },
   "outputs": [],
   "source": [
    "%restart_python\n",
    "%load_ext autoreload\n",
    "%autoreload 2 "
   ]
  },
  {
   "cell_type": "code",
   "execution_count": 0,
   "metadata": {
    "application/vnd.databricks.v1+cell": {
     "cellMetadata": {
      "byteLimit": 2048000,
      "rowLimit": 10000
     },
     "inputWidgets": {},
     "nuid": "1077ecb0-4ac8-4e58-9f37-a5875012903d",
     "showTitle": false,
     "tableResultSettingsMap": {},
     "title": ""
    }
   },
   "outputs": [],
   "source": [
    "from abc import ABC, abstractmethod\n",
    "import time\n",
    "import mlflow\n",
    "from contextlib import contextmanager\n",
    "import json\n",
    "import pandas as pd\n",
    "import datetime\n",
    "import re\n",
    "import openai\n",
    "from openai import OpenAI\n",
    "import gspread\n",
    "import random\n",
    "import logging\n",
    "import os\n",
    "from unidecode import unidecode\n",
    "from pathlib import Path\n",
    "import pyspark\n",
    "from pyspark.sql.functions import *\n",
    "from pyspark.sql.types import *\n",
    "from functools import reduce\n",
    "from typing import *\n",
    "import tiktoken\n",
    "import io\n",
    "\n",
    "\n",
    "from general_config import *\n",
    "from ml_tracker import MLTracker\n",
    "from aso_config import *\n",
    "from aso_localizer import *\n",
    "import numpy as np\n",
    "#from in_game_localizer import InGameLocalizer\n",
    "#from InGame_Config import * "
   ]
  },
  {
   "cell_type": "code",
   "execution_count": 0,
   "metadata": {
    "application/vnd.databricks.v1+cell": {
     "cellMetadata": {
      "byteLimit": 2048000,
      "rowLimit": 10000
     },
     "inputWidgets": {},
     "nuid": "2238e9c8-cfba-49fc-b523-a2290043f567",
     "showTitle": false,
     "tableResultSettingsMap": {},
     "title": ""
    }
   },
   "outputs": [],
   "source": [
    "%run \"./authenticationScript\""
   ]
  },
  {
   "cell_type": "code",
   "execution_count": 0,
   "metadata": {
    "application/vnd.databricks.v1+cell": {
     "cellMetadata": {
      "byteLimit": 2048000,
      "rowLimit": 10000
     },
     "inputWidgets": {},
     "nuid": "0a8bc068-fdbf-43cd-a097-ab2c56746c91",
     "showTitle": false,
     "tableResultSettingsMap": {},
     "title": ""
    }
   },
   "outputs": [],
   "source": [
    "#TODO update authenticatinon script and secrets!!\n",
    "gsheet_client = get_gspread_client_from_secret_old()\n",
    "gpt_client = get_model_client() "
   ]
  },
  {
   "cell_type": "code",
   "execution_count": 0,
   "metadata": {
    "application/vnd.databricks.v1+cell": {
     "cellMetadata": {
      "byteLimit": 2048000,
      "rowLimit": 10000
     },
     "inputWidgets": {},
     "nuid": "b076b05c-c765-4096-997b-d25172063ac4",
     "showTitle": false,
     "tableResultSettingsMap": {},
     "title": ""
    }
   },
   "outputs": [],
   "source": [
    "## TEST\n",
    "\n",
    "october_urls = [{'Game':'Cookie Jam', \"URL\": \"https://docs.google.com/spreadsheets/d/1rhG8J_qsGzntrUu4BoI4kOCqrUY80xmm_jl7b7SPcss/edit?gid=980819314#gid=980819314\"}]"
   ]
  },
  {
   "cell_type": "code",
   "execution_count": 0,
   "metadata": {
    "application/vnd.databricks.v1+cell": {
     "cellMetadata": {
      "byteLimit": 2048000,
      "rowLimit": 10000
     },
     "inputWidgets": {},
     "nuid": "e95a7698-83e9-4f37-95a7-ff2c13e53b3f",
     "showTitle": false,
     "tableResultSettingsMap": {},
     "title": ""
    }
   },
   "outputs": [],
   "source": [
    "base_request = {\"RowFingerprint\":\"aso_october_cj\",\n",
    "                    \"Timestamp\":datetime.datetime.now().strftime(\"%Y-%m-%d %H:%M:%S\"),\n",
    "                    \"SubmitterEmail\":\"krista@jamcity.com\",\n",
    "                    \"DueDate\":\"9/4/25\",\n",
    "                    'LocType':\"ASO\", \n",
    "                    'TargetLanguages':\"\",\n",
    "                    \"QAFlag\":\"\"}\n",
    "\n",
    "cfg = {\n",
    "    \"input\": \n",
    "        {\n",
    "            \"required_tabs\": [\"ios\",\"android\"],\n",
    "            \"ios_header_rows\": 3, \n",
    "            \"android_header_rows\": 3\n",
    "        },\n",
    "    ##add more formatting data for header rows\n",
    "    \"char_limit_policy\": \"strict\",\n",
    "    \"output_sheets\":\n",
    "        [\"formatted ios\", \"formatted android\", \"long results\",'wide results'],\n",
    "    ##add more formatting info for output sheets\n",
    "    \"log_full_artifacts\":True,\n",
    "    \"qc\": {\"enabled\": True, \"max_retries\": 15,},\n",
    "}\n",
    "localizers= []\n",
    "for i in october_urls:\n",
    "    i = {**base_request, **i}\n",
    "    localizer = ASOLocalizer(request = i, gsheet_client =gsheet_client, gpt_client = gpt_client, cfg=cfg)\n",
    "    localizers.append(localizer)"
   ]
  },
  {
   "cell_type": "code",
   "execution_count": 0,
   "metadata": {
    "application/vnd.databricks.v1+cell": {
     "cellMetadata": {
      "byteLimit": 2048000,
      "rowLimit": 10000
     },
     "inputWidgets": {},
     "nuid": "230798e4-c54c-4bb5-8f3f-f6773aedb302",
     "showTitle": false,
     "tableResultSettingsMap": {},
     "title": ""
    }
   },
   "outputs": [],
   "source": [
    "localizer = localizers[0] # for testing this"
   ]
  },
  {
   "cell_type": "code",
   "execution_count": 0,
   "metadata": {
    "application/vnd.databricks.v1+cell": {
     "cellMetadata": {
      "byteLimit": 2048000,
      "rowLimit": 10000
     },
     "inputWidgets": {},
     "nuid": "2efef49c-3555-4467-848b-808435b1354f",
     "showTitle": false,
     "tableResultSettingsMap": {},
     "title": ""
    }
   },
   "outputs": [],
   "source": [
    "## QC loop not quite working"
   ]
  },
  {
   "cell_type": "code",
   "execution_count": 0,
   "metadata": {
    "application/vnd.databricks.v1+cell": {
     "cellMetadata": {
      "byteLimit": 2048000,
      "rowLimit": 10000
     },
     "inputWidgets": {},
     "nuid": "e05f349b-ff2c-4ef6-8514-1caf3caf6146",
     "showTitle": false,
     "tableResultSettingsMap": {},
     "title": ""
    }
   },
   "outputs": [],
   "source": [
    "output = localizer.run()"
   ]
  },
  {
   "cell_type": "code",
   "execution_count": 0,
   "metadata": {
    "application/vnd.databricks.v1+cell": {
     "cellMetadata": {},
     "inputWidgets": {},
     "nuid": "d15c1416-f3ee-4282-bf04-6e68e027107c",
     "showTitle": false,
     "tableResultSettingsMap": {},
     "title": ""
    }
   },
   "outputs": [],
   "source": [
    "#maybe add a note about QC flag not completing it all\n",
    "\n",
    "output = {'status': 'SUCCEEDED', 'run_id': '1f5484e426e749f38b4c111d1f1daef5'}"
   ]
  },
  {
   "cell_type": "code",
   "execution_count": 0,
   "metadata": {
    "application/vnd.databricks.v1+cell": {
     "cellMetadata": {
      "byteLimit": 2048000,
      "rowLimit": 10000
     },
     "inputWidgets": {},
     "nuid": "12e74fd4-66e8-477b-ab55-852d901efab6",
     "showTitle": false,
     "tableResultSettingsMap": {},
     "title": ""
    }
   },
   "outputs": [],
   "source": [
    "# ok lastly, write to the table\n",
    "#output = {'status': 'SUCCEEDED', 'run_id': '1f5484e426e749f38b4c111d1f1daef5'}\n",
    "#localizer.request ... input\n"
   ]
  },
  {
   "cell_type": "code",
   "execution_count": 0,
   "metadata": {
    "application/vnd.databricks.v1+cell": {
     "cellMetadata": {
      "byteLimit": 2048000,
      "rowLimit": 10000
     },
     "inputWidgets": {},
     "nuid": "a1cea33c-c1e8-4fd4-b49d-e7ec8252b0d4",
     "showTitle": false,
     "tableResultSettingsMap": {},
     "title": ""
    }
   },
   "outputs": [],
   "source": [
    "#localizer."
   ]
  },
  {
   "cell_type": "code",
   "execution_count": 0,
   "metadata": {
    "application/vnd.databricks.v1+cell": {
     "cellMetadata": {},
     "inputWidgets": {},
     "nuid": "22736643-b269-443e-b620-5dc1a2e70e68",
     "showTitle": false,
     "tableResultSettingsMap": {},
     "title": ""
    }
   },
   "outputs": [],
   "source": []
  },
  {
   "cell_type": "code",
   "execution_count": 0,
   "metadata": {
    "application/vnd.databricks.v1+cell": {
     "cellMetadata": {
      "byteLimit": 2048000,
      "rowLimit": 10000
     },
     "inputWidgets": {},
     "nuid": "02d617af-ba2e-4749-9d7b-4a7ded70f0bf",
     "showTitle": false,
     "tableResultSettingsMap": {},
     "title": ""
    }
   },
   "outputs": [],
   "source": [
    "#formatted = (localizer.unioned_long)"
   ]
  },
  {
   "cell_type": "code",
   "execution_count": 0,
   "metadata": {
    "application/vnd.databricks.v1+cell": {
     "cellMetadata": {
      "byteLimit": 2048000,
      "rowLimit": 10000
     },
     "inputWidgets": {},
     "nuid": "d149d893-ad55-46d3-a947-dbfa3e6ff9f9",
     "showTitle": false,
     "tableResultSettingsMap": {},
     "title": ""
    }
   },
   "outputs": [],
   "source": [
    "report = localizer.qc_checks(localizer.unioned_long)"
   ]
  },
  {
   "cell_type": "code",
   "execution_count": 0,
   "metadata": {
    "application/vnd.databricks.v1+cell": {
     "cellMetadata": {
      "byteLimit": 2048000,
      "rowLimit": 10000
     },
     "inputWidgets": {},
     "nuid": "5b36670b-1511-420a-97e2-39ed21d6f482",
     "showTitle": false,
     "tableResultSettingsMap": {},
     "title": ""
    }
   },
   "outputs": [],
   "source": [
    "issues = report.get(\"issues\")\n",
    "\n",
    "\n",
    "by_lang: Dict[str, List[Dict[str, Any]]] = {}\n",
    "for it in issues:\n",
    "    lang = it.get(\"language\") or it.get(\"language_cd\") or \"unknown\"\n",
    "    by_lang.setdefault(lang, []).append(it)\n"
   ]
  },
  {
   "cell_type": "code",
   "execution_count": 0,
   "metadata": {
    "application/vnd.databricks.v1+cell": {
     "cellMetadata": {
      "byteLimit": 2048000,
      "rowLimit": 10000
     },
     "inputWidgets": {},
     "nuid": "cd309909-1b4f-45a7-a96f-730ac6d13bb6",
     "showTitle": false,
     "tableResultSettingsMap": {},
     "title": ""
    }
   },
   "outputs": [],
   "source": [
    "by_lang"
   ]
  },
  {
   "cell_type": "code",
   "execution_count": 0,
   "metadata": {
    "application/vnd.databricks.v1+cell": {
     "cellMetadata": {
      "byteLimit": 2048000,
      "rowLimit": 10000
     },
     "inputWidgets": {},
     "nuid": "113c18c7-7e89-4451-b8f8-246aa08ce29b",
     "showTitle": false,
     "tableResultSettingsMap": {},
     "title": ""
    }
   },
   "outputs": [],
   "source": [
    "\n",
    "new_rows: List[Dict[str, Any]] = []\n",
    "for lang, items in by_lang.items():\n",
    "    # Build a tiny JSON input of just the broken rows\n",
    "    # Using the *same output schema* you expect: [{row_idx, lang_cd: \"new text\"}]\n",
    "    payload = []\n",
    "    for it in items:\n",
    "        payload.append({\n",
    "            \"row_idx\": it[\"row_idx\"],\n",
    "            \"target_char_limit\": it[\"target_char_limit\"],\n",
    "            \"en_US\": it.get(\"en_text\", \"\"),  # if you stored English\n",
    "        })\n",
    "    slug = json.dumps(payload, ensure_ascii=False)\n",
    "    strict_prompt = localizer._generate_qc_prompt(lang,slug)\n",
    "    out_str, usage = localizer._call_model_batch(strict_prompt)\n",
    "    fixed_list =localizer._parse_model_json_block(out_str)\n",
    "\n",
    "    lang_cd = localizer.lang_map[lang]\n",
    "    fix_df = pd.DataFrame(fixed_list)\n",
    "    if \"row_idx\" in fix_df.columns and lang_cd in fix_df.columns:\n",
    "        fix_df = fix_df[[\"row_idx\", lang_cd]].rename(columns={lang_cd: \"translation\"})\n",
    "        fix_df[\"language\"] = lang\n",
    "        fix_df[\"language_cd\"] = lang_cd\n",
    "        new_rows.append(fix_df)\n",
    "\n",
    "if new_rows:\n",
    "    fixes = pd.concat(new_rows, axis=0, ignore_index=True)\n"
   ]
  },
  {
   "cell_type": "code",
   "execution_count": 0,
   "metadata": {
    "application/vnd.databricks.v1+cell": {
     "cellMetadata": {
      "byteLimit": 2048000,
      "rowLimit": 10000
     },
     "inputWidgets": {},
     "nuid": "a16fcbde-5d80-4c42-a230-807356f7fedb",
     "showTitle": false,
     "tableResultSettingsMap": {},
     "title": ""
    }
   },
   "outputs": [],
   "source": [
    "formatted"
   ]
  },
  {
   "cell_type": "code",
   "execution_count": 0,
   "metadata": {
    "application/vnd.databricks.v1+cell": {
     "cellMetadata": {
      "byteLimit": 2048000,
      "rowLimit": 10000
     },
     "inputWidgets": {},
     "nuid": "53a60925-8870-4cee-92cf-8fbdf9782009",
     "showTitle": false,
     "tableResultSettingsMap": {},
     "title": ""
    }
   },
   "outputs": [],
   "source": [
    "fixes"
   ]
  },
  {
   "cell_type": "code",
   "execution_count": 0,
   "metadata": {
    "application/vnd.databricks.v1+cell": {
     "cellMetadata": {
      "byteLimit": 2048000,
      "rowLimit": 10000
     },
     "inputWidgets": {},
     "nuid": "94f3cd66-4f55-4dfe-ad19-1d4d78137c97",
     "showTitle": false,
     "tableResultSettingsMap": {},
     "title": ""
    }
   },
   "outputs": [],
   "source": [
    "fixes = fixes.rename(columns={\"translation\": \"translation_fix\",})"
   ]
  },
  {
   "cell_type": "code",
   "execution_count": 0,
   "metadata": {
    "application/vnd.databricks.v1+cell": {
     "cellMetadata": {
      "byteLimit": 2048000,
      "rowLimit": 10000
     },
     "inputWidgets": {},
     "nuid": "c9cb8ccb-c0ae-490c-81cd-565ef89c4f20",
     "showTitle": false,
     "tableResultSettingsMap": {},
     "title": ""
    }
   },
   "outputs": [],
   "source": [
    "fixes"
   ]
  },
  {
   "cell_type": "code",
   "execution_count": 0,
   "metadata": {
    "application/vnd.databricks.v1+cell": {
     "cellMetadata": {
      "byteLimit": 2048000,
      "rowLimit": 10000
     },
     "inputWidgets": {},
     "nuid": "001ed95e-d7f4-43ad-b988-7405009acc06",
     "showTitle": false,
     "tableResultSettingsMap": {},
     "title": ""
    }
   },
   "outputs": [],
   "source": [
    "key_cols = [\"row_idx\", \"language_cd\",'language']\n",
    "updated = (\n",
    "    formatted.drop(columns=[\"translation\"], errors=\"ignore\")\n",
    "    .merge(fixes, on=key_cols, how=\"left\", suffixes=(\"\", \"_fix\"))\n",
    ")\n",
    "# prefer the fix where present\n",
    "#updated[\"translation\"] = updated[\"translation\"].where(updated[\"translation_fix\"].isna(),\n",
    "                                                        #updated[\"translation_fix\"])\n",
    "#updated = updated.drop(columns=[\"translation_fix\"])"
   ]
  },
  {
   "cell_type": "code",
   "execution_count": 0,
   "metadata": {
    "application/vnd.databricks.v1+cell": {
     "cellMetadata": {
      "byteLimit": 2048000,
      "rowLimit": 10000
     },
     "inputWidgets": {},
     "nuid": "26ab5add-ba0b-45f3-b5e4-963ef6da11a7",
     "showTitle": false,
     "tableResultSettingsMap": {},
     "title": ""
    }
   },
   "outputs": [],
   "source": [
    "import pandas as pd\n",
    "import numpy as np\n",
    "\n",
    "def _normalize_lang_col(df: pd.DataFrame) -> pd.DataFrame:\n",
    "    # tolerate either language_cd or target_lang_cd\n",
    "    if \"language_cd\" in df.columns:\n",
    "        return df\n",
    "    if \"target_lang_cd\" in df.columns:\n",
    "        return df.rename(columns={\"target_lang_cd\": \"language_cd\"})\n",
    "    return df\n",
    "\n",
    "# formatted: long DF with ['row_idx','language_cd','translation',...]\n",
    "# fixes: DF with new translations for subset rows; must end up as\n",
    "#        ['row_idx','language_cd','translation_fix']\n",
    "def apply_translation_fixes(formatted: pd.DataFrame, fixes: pd.DataFrame) -> pd.DataFrame:\n",
    "    formatted = _normalize_lang_col(formatted.copy())\n",
    "    fixes = fixes.copy()\n",
    "\n",
    "    # Ensure fixes has language_cd and a translation_fix column\n",
    "    if \"language_cd\" not in fixes.columns and \"target_lang_cd\" in fixes.columns:\n",
    "        fixes = fixes.rename(columns={\"target_lang_cd\": \"language_cd\"})\n",
    "\n",
    "    # If fixes still lacks language_cd but has a single language, you can inject it:\n",
    "    # if \"language_cd\" not in fixes.columns and \"language\" in fixes.columns:\n",
    "    #     fixes = fixes.rename(columns={\"language\": \"language_cd\"})\n",
    "\n",
    "    # Normalize fix col name\n",
    "    if \"translation_fix\" not in fixes.columns:\n",
    "        # typical case: fixes has 'translation' (from parsed model output)\n",
    "        if \"translation\" in fixes.columns:\n",
    "            fixes = fixes.rename(columns={\"translation\": \"translation_fix\"})\n",
    "        elif \"translation_fixed\" in fixes.columns:   # earlier variant\n",
    "            fixes = fixes.rename(columns={\"translation_fixed\": \"translation_fix\"})\n",
    "        else:\n",
    "            # nothing to apply\n",
    "            return formatted\n",
    "\n",
    "    key_cols = [\"row_idx\", \"language_cd\"]\n",
    "\n",
    "    # Sanity: ensure keys exist\n",
    "    for k in key_cols:\n",
    "        if k not in formatted.columns or k not in fixes.columns:\n",
    "            # Nothing to merge if keys missing\n",
    "            return formatted\n",
    "\n",
    "    # DO NOT drop 'translation' before merge; merge fixes to the right\n",
    "    updated = formatted.merge(fixes[key_cols + [\"translation_fix\"]],\n",
    "                              on=key_cols, how=\"left\")\n",
    "\n",
    "    # Prefer fixed where present\n",
    "    if \"translation_fix\" in updated.columns:\n",
    "        updated[\"translation\"] = np.where(\n",
    "            updated[\"translation_fix\"].notna(),\n",
    "            updated[\"translation_fix\"],\n",
    "            updated[\"translation\"]\n",
    "        )\n",
    "        updated = updated.drop(columns=[\"translation_fix\"])\n",
    "\n",
    "    return updated"
   ]
  },
  {
   "cell_type": "code",
   "execution_count": 0,
   "metadata": {
    "application/vnd.databricks.v1+cell": {
     "cellMetadata": {
      "byteLimit": 2048000,
      "rowLimit": 10000
     },
     "inputWidgets": {},
     "nuid": "8a40113b-af4b-4e4b-b55d-5ea3af67218a",
     "showTitle": false,
     "tableResultSettingsMap": {},
     "title": ""
    }
   },
   "outputs": [],
   "source": [
    "test_updated = apply_translation_fixes(formatted,fixes)"
   ]
  },
  {
   "cell_type": "code",
   "execution_count": 0,
   "metadata": {
    "application/vnd.databricks.v1+cell": {
     "cellMetadata": {
      "byteLimit": 2048000,
      "rowLimit": 10000
     },
     "inputWidgets": {},
     "nuid": "533563d2-f119-43d0-85d8-0d7d6d90132f",
     "showTitle": false,
     "tableResultSettingsMap": {},
     "title": ""
    }
   },
   "outputs": [],
   "source": [
    "test_updated"
   ]
  },
  {
   "cell_type": "code",
   "execution_count": 0,
   "metadata": {
    "application/vnd.databricks.v1+cell": {
     "cellMetadata": {},
     "inputWidgets": {},
     "nuid": "ce356c68-7a89-4536-8f43-c0fc90156677",
     "showTitle": false,
     "tableResultSettingsMap": {},
     "title": ""
    }
   },
   "outputs": [],
   "source": [
    "updated_translation_fi"
   ]
  },
  {
   "cell_type": "code",
   "execution_count": 0,
   "metadata": {
    "application/vnd.databricks.v1+cell": {
     "cellMetadata": {
      "byteLimit": 2048000,
      "rowLimit": 10000
     },
     "inputWidgets": {},
     "nuid": "b7408d69-8bcc-4760-83fc-3e92ddd94300",
     "showTitle": false,
     "tableResultSettingsMap": {},
     "title": ""
    }
   },
   "outputs": [],
   "source": [
    "updated['translation_fix'] = updated['translation_fix'].where(updated['translation_fix'].notna())"
   ]
  },
  {
   "cell_type": "code",
   "execution_count": 0,
   "metadata": {
    "application/vnd.databricks.v1+cell": {
     "cellMetadata": {
      "byteLimit": 2048000,
      "rowLimit": 10000
     },
     "inputWidgets": {},
     "nuid": "29027c3f-90b9-416c-903f-6b11ffbe41a1",
     "showTitle": false,
     "tableResultSettingsMap": {},
     "title": ""
    }
   },
   "outputs": [],
   "source": [
    "fixes"
   ]
  },
  {
   "cell_type": "code",
   "execution_count": 0,
   "metadata": {
    "application/vnd.databricks.v1+cell": {
     "cellMetadata": {
      "byteLimit": 2048000,
      "rowLimit": 10000
     },
     "inputWidgets": {},
     "nuid": "f3d71a7c-d39e-4fb6-aa77-bbb5d876fd1f",
     "showTitle": false,
     "tableResultSettingsMap": {},
     "title": ""
    }
   },
   "outputs": [],
   "source": [
    "slug"
   ]
  },
  {
   "cell_type": "code",
   "execution_count": 0,
   "metadata": {
    "application/vnd.databricks.v1+cell": {
     "cellMetadata": {
      "byteLimit": 2048000,
      "rowLimit": 10000
     },
     "inputWidgets": {},
     "nuid": "557bdf44-b286-4a30-8529-9291d82e5f67",
     "showTitle": false,
     "tableResultSettingsMap": {},
     "title": ""
    }
   },
   "outputs": [],
   "source": [
    "#strict_prompt = localizer._generate_qc_prompt('Portuguese (Brazil)',slug)"
   ]
  },
  {
   "cell_type": "code",
   "execution_count": 0,
   "metadata": {
    "application/vnd.databricks.v1+cell": {
     "cellMetadata": {
      "byteLimit": 2048000,
      "rowLimit": 10000
     },
     "inputWidgets": {},
     "nuid": "0c6fd3cd-f3a9-4efb-86c4-7fad080c4221",
     "showTitle": false,
     "tableResultSettingsMap": {},
     "title": ""
    }
   },
   "outputs": [],
   "source": [
    "strict_prompt\n",
    "\n",
    "out_str, usage = localizer._call_model_batch(strict_prompt)"
   ]
  },
  {
   "cell_type": "code",
   "execution_count": 0,
   "metadata": {
    "application/vnd.databricks.v1+cell": {
     "cellMetadata": {
      "byteLimit": 2048000,
      "rowLimit": 10000
     },
     "inputWidgets": {},
     "nuid": "0fccd4ad-a8ba-4ace-bf25-75b65100edb6",
     "showTitle": false,
     "tableResultSettingsMap": {},
     "title": ""
    }
   },
   "outputs": [],
   "source": [
    "fixed_list = localizer._parse_model_json_block(out_str)\n",
    "lang = 'Portuguese (Brazil)'\n",
    "\n",
    "lang_cd = localizer.lang_map[lang]\n",
    "fix_df = pd.DataFrame(fixed_list)\n",
    "if \"row_idx\" in fix_df.columns and lang_cd in fix_df.columns:\n",
    "    fix_df = fix_df[[\"row_idx\", lang_cd]].rename(columns={lang_cd: \"translation\"})\n",
    "    fix_df[\"language\"] = lang\n",
    "    fix_df[\"language_cd\"] = lang_cd\n",
    "    new_rows.append(fix_df)\n"
   ]
  },
  {
   "cell_type": "code",
   "execution_count": 0,
   "metadata": {
    "application/vnd.databricks.v1+cell": {
     "cellMetadata": {
      "byteLimit": 2048000,
      "rowLimit": 10000
     },
     "inputWidgets": {},
     "nuid": "815512c7-af11-4cc5-972d-433430ec5d3f",
     "showTitle": false,
     "tableResultSettingsMap": {},
     "title": ""
    }
   },
   "outputs": [],
   "source": [
    "fix_df"
   ]
  },
  {
   "cell_type": "code",
   "execution_count": 0,
   "metadata": {
    "application/vnd.databricks.v1+cell": {
     "cellMetadata": {
      "byteLimit": 2048000,
      "rowLimit": 10000
     },
     "inputWidgets": {},
     "nuid": "db2d6aef-a9ce-4bb6-8588-8991fe541399",
     "showTitle": false,
     "tableResultSettingsMap": {},
     "title": ""
    }
   },
   "outputs": [],
   "source": [
    "#mlflow.end_run(\"3739efa5a69945e09c0e817f98137087\")\n",
    "run = mlflow.active_run()\n",
    "mlflow.end_run()"
   ]
  },
  {
   "cell_type": "markdown",
   "metadata": {
    "application/vnd.databricks.v1+cell": {
     "cellMetadata": {
      "byteLimit": 2048000,
      "rowLimit": 10000
     },
     "inputWidgets": {},
     "nuid": "56e159de-1ca4-40d7-87b1-69bafb39e1e1",
     "showTitle": false,
     "tableResultSettingsMap": {},
     "title": ""
    }
   },
   "source": []
  },
  {
   "cell_type": "code",
   "execution_count": 0,
   "metadata": {
    "application/vnd.databricks.v1+cell": {
     "cellMetadata": {
      "byteLimit": 2048000,
      "rowLimit": 10000
     },
     "inputWidgets": {},
     "nuid": "2ae645c5-eab9-48ea-b7f0-1a3035a0b1c2",
     "showTitle": false,
     "tableResultSettingsMap": {},
     "title": ""
    }
   },
   "outputs": [],
   "source": [
    "print(mlflow.active_run())\n",
    "mlflow.end_run()"
   ]
  },
  {
   "cell_type": "code",
   "execution_count": 0,
   "metadata": {
    "application/vnd.databricks.v1+cell": {
     "cellMetadata": {
      "byteLimit": 2048000,
      "rowLimit": 10000
     },
     "inputWidgets": {},
     "nuid": "e17cf0d9-8579-4e2c-9335-55a741484ef1",
     "showTitle": false,
     "tableResultSettingsMap": {},
     "title": ""
    }
   },
   "outputs": [],
   "source": [
    "results"
   ]
  },
  {
   "cell_type": "code",
   "execution_count": 0,
   "metadata": {
    "application/vnd.databricks.v1+cell": {
     "cellMetadata": {
      "byteLimit": 2048000,
      "rowLimit": 10000
     },
     "inputWidgets": {},
     "nuid": "c68c2b8b-8da6-4b1c-b9d0-354c9ec354b0",
     "showTitle": false,
     "tableResultSettingsMap": {},
     "title": ""
    }
   },
   "outputs": [],
   "source": [
    "results = []\n",
    "for loc in localizers:\n",
    "    print(f\"Running for {loc.request['Game']}\")\n",
    "    results.append(loc.run())\n",
    "    #postprocessed = loc.postprocess(results)\n",
    "    #print(loc.write_outputs(postprocessed))"
   ]
  },
  {
   "cell_type": "code",
   "execution_count": 0,
   "metadata": {
    "application/vnd.databricks.v1+cell": {
     "cellMetadata": {
      "byteLimit": 2048000,
      "rowLimit": 10000
     },
     "inputWidgets": {},
     "nuid": "d50dded8-2608-417d-a64b-b4d6a179423d",
     "showTitle": false,
     "tableResultSettingsMap": {},
     "title": ""
    }
   },
   "outputs": [],
   "source": [
    "results"
   ]
  },
  {
   "cell_type": "code",
   "execution_count": 0,
   "metadata": {
    "application/vnd.databricks.v1+cell": {
     "cellMetadata": {
      "byteLimit": 2048000,
      "rowLimit": 10000
     },
     "inputWidgets": {},
     "nuid": "b1b5fdd5-dc78-400a-a7b1-a91356ea32f1",
     "showTitle": false,
     "tableResultSettingsMap": {},
     "title": ""
    }
   },
   "outputs": [],
   "source": [
    "\"\"\"\n",
    "request =  {\"RowFingerprint\":\"testing_aso_run_v2\",\n",
    "                    \"Timestamp\":datetime.datetime.now().strftime(\"%Y-%m-%d %H:%M:%S\"),\n",
    "                    \"SubmitterEmail\":\"krista@jamcity.com\",\n",
    "                    \"DueDate\":\"8/29/25\",\n",
    "                    'LocType':\"ASO\", \n",
    "                    'Game':\"Panda Pop\", \n",
    "                    'TargetLanguages':\"\",\n",
    "                    \"URL\":\"https://docs.google.com/spreadsheets/d/1QsZqlJ_vZC5fYIKnSFdhkUxi-UAIRNzTB24DDyoZMhU/edit?gid=980819314#gid=980819314\",\n",
    "                    \"QAFlag\":\"\"}\n",
    "\n",
    "\n",
    "cfg = {\n",
    "    \"input\": \n",
    "        {\n",
    "            \"required_tabs\": [\"ios\",\"android\"],\n",
    "            \"ios_header_rows\": 3, \n",
    "            \"android_header_rows\": 3\n",
    "        },\n",
    "    ##add more formatting data for header rows\n",
    "    \"char_limit_policy\": \"strict\",\n",
    "    \"output_sheets\":\n",
    "        [\"formatted ios\", \"formatted android\", \"long results\",'wide results'],\n",
    "    ##add more formatting info for output sheets\n",
    "    }\"\"\""
   ]
  },
  {
   "cell_type": "code",
   "execution_count": 0,
   "metadata": {
    "application/vnd.databricks.v1+cell": {
     "cellMetadata": {
      "byteLimit": 2048000,
      "rowLimit": 10000
     },
     "inputWidgets": {},
     "nuid": "92eb69e8-2b7d-4da4-a181-7d73546a0a4e",
     "showTitle": false,
     "tableResultSettingsMap": {},
     "title": ""
    }
   },
   "outputs": [],
   "source": [
    "localizer = ASOLocalizer(request = request, gsheet_client =gsheet_client, gpt_client = gpt_client, cfg=cfg)"
   ]
  },
  {
   "cell_type": "code",
   "execution_count": 0,
   "metadata": {
    "application/vnd.databricks.v1+cell": {
     "cellMetadata": {
      "byteLimit": 2048000,
      "rowLimit": 10000
     },
     "inputWidgets": {},
     "nuid": "b45a4fee-8256-4f4e-be54-75d37199c796",
     "showTitle": false,
     "tableResultSettingsMap": {},
     "title": ""
    }
   },
   "outputs": [],
   "source": [
    "#localizer.run()"
   ]
  },
  {
   "cell_type": "code",
   "execution_count": 0,
   "metadata": {
    "application/vnd.databricks.v1+cell": {
     "cellMetadata": {},
     "inputWidgets": {},
     "nuid": "db2bc74e-c28e-48a4-ad08-c9da02c067a5",
     "showTitle": false,
     "tableResultSettingsMap": {},
     "title": ""
    }
   },
   "outputs": [],
   "source": []
  }
 ],
 "metadata": {
  "application/vnd.databricks.v1+notebook": {
   "computePreferences": null,
   "dashboards": [],
   "environmentMetadata": {
    "base_environment": "",
    "environment_version": "3"
   },
   "inputWidgetPreferences": null,
   "language": "python",
   "notebookMetadata": {
    "pythonIndentUnit": 4
   },
   "notebookName": "9-5-ASO- Test Localizer - RUN - UPDATED",
   "widgets": {}
  },
  "language_info": {
   "name": "python"
  }
 },
 "nbformat": 4,
 "nbformat_minor": 0
}
