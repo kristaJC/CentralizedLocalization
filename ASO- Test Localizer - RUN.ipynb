{
 "cells": [
  {
   "cell_type": "code",
   "execution_count": 0,
   "metadata": {
    "application/vnd.databricks.v1+cell": {
     "cellMetadata": {
      "byteLimit": 2048000,
      "rowLimit": 10000
     },
     "inputWidgets": {},
     "nuid": "3e679078-7fbc-461b-ad86-2355a428ff49",
     "showTitle": false,
     "tableResultSettingsMap": {},
     "title": ""
    }
   },
   "outputs": [],
   "source": [
    "%pip install openai unidecode gspread==5.12.4 tiktoken mlflow\n",
    "%restart_python\n",
    "%load_ext autoreload\n",
    "%autoreload 2 "
   ]
  },
  {
   "cell_type": "code",
   "execution_count": 0,
   "metadata": {
    "application/vnd.databricks.v1+cell": {
     "cellMetadata": {
      "byteLimit": 2048000,
      "rowLimit": 10000
     },
     "inputWidgets": {},
     "nuid": "0e4a9783-8bd4-48c1-aa9b-6b8eb165b2cb",
     "showTitle": false,
     "tableResultSettingsMap": {},
     "title": ""
    }
   },
   "outputs": [],
   "source": [
    "%restart_python\n",
    "%load_ext autoreload\n",
    "%autoreload 2 "
   ]
  },
  {
   "cell_type": "code",
   "execution_count": 0,
   "metadata": {
    "application/vnd.databricks.v1+cell": {
     "cellMetadata": {
      "byteLimit": 2048000,
      "rowLimit": 10000
     },
     "inputWidgets": {},
     "nuid": "1077ecb0-4ac8-4e58-9f37-a5875012903d",
     "showTitle": false,
     "tableResultSettingsMap": {},
     "title": ""
    }
   },
   "outputs": [],
   "source": [
    "from abc import ABC, abstractmethod\n",
    "import time\n",
    "import mlflow\n",
    "from contextlib import contextmanager\n",
    "import json\n",
    "import pandas as pd\n",
    "import datetime\n",
    "import re\n",
    "import openai\n",
    "from openai import OpenAI\n",
    "import gspread\n",
    "import random\n",
    "import logging\n",
    "import os\n",
    "from unidecode import unidecode\n",
    "from pathlib import Path\n",
    "import pyspark\n",
    "from pyspark.sql.functions import *\n",
    "from pyspark.sql.types import *\n",
    "from functools import reduce\n",
    "from typing import *\n",
    "import tiktoken\n",
    "import io\n",
    "\n",
    "\n",
    "from general_config import *\n",
    "from ml_tracker import MLTracker\n",
    "from aso_config import *\n",
    "from aso_localizer import *\n",
    "#from in_game_localizer import InGameLocalizer\n",
    "#from InGame_Config import * "
   ]
  },
  {
   "cell_type": "code",
   "execution_count": 0,
   "metadata": {
    "application/vnd.databricks.v1+cell": {
     "cellMetadata": {
      "byteLimit": 2048000,
      "rowLimit": 10000
     },
     "inputWidgets": {},
     "nuid": "2238e9c8-cfba-49fc-b523-a2290043f567",
     "showTitle": false,
     "tableResultSettingsMap": {},
     "title": ""
    }
   },
   "outputs": [],
   "source": [
    "%run \"./authenticationScript\""
   ]
  },
  {
   "cell_type": "code",
   "execution_count": 0,
   "metadata": {
    "application/vnd.databricks.v1+cell": {
     "cellMetadata": {
      "byteLimit": 2048000,
      "rowLimit": 10000
     },
     "inputWidgets": {},
     "nuid": "0a8bc068-fdbf-43cd-a097-ab2c56746c91",
     "showTitle": false,
     "tableResultSettingsMap": {},
     "title": ""
    }
   },
   "outputs": [],
   "source": [
    "#TODO update authenticatinon script and secrets!!\n",
    "gsheet_client = get_gspread_client_from_secret_old()\n",
    "gpt_client = get_model_client() "
   ]
  },
  {
   "cell_type": "code",
   "execution_count": 0,
   "metadata": {
    "application/vnd.databricks.v1+cell": {
     "cellMetadata": {
      "byteLimit": 2048000,
      "rowLimit": 10000
     },
     "inputWidgets": {},
     "nuid": "06141072-9f84-43df-a7e1-9218b3fec233",
     "showTitle": false,
     "tableResultSettingsMap": {},
     "title": ""
    }
   },
   "outputs": [],
   "source": [
    "#DONE\n",
    "#{'Game':\"Panda Pop\",'URL':\"https://docs.google.com/spreadsheets/d/1WYl_MiwawlGcgRrXxLNN9WVYgWqqwu393n-9uO7aPhY/edit?gid=980819314#gid=980819314\"},{'Game':\"Disney Magic Match\",'URL':\"https://docs.google.com/spreadsheets/d/1r8jIynEvuHz9rz_Gu90dvOj7AcTCSz6A727gTP9DRbY/edit?gid=980819314#gid=980819314\"},{'Game':\"Cookie Jam\",'URL':\"https://docs.google.com/spreadsheets/d/1zXG3nuxrfHtKRw98COt1kwjecAIjQ4iGl0b3NDMes1w/edit?gid=980819314#gid=980819314\"},\n",
    "#{'Game':\"Harry Potter: Hogwarts Mystery\",'URL':\"https://docs.google.com/spreadsheets/d/1PRIm4_HOVjmLz3Sm6gIpRO8jJDEc60eG21WcX7t9jwg/edit?gid=980819314#gid=980819314\"}"
   ]
  },
  {
   "cell_type": "code",
   "execution_count": 0,
   "metadata": {
    "application/vnd.databricks.v1+cell": {
     "cellMetadata": {
      "byteLimit": 2048000,
      "rowLimit": 10000
     },
     "inputWidgets": {},
     "nuid": "39a6ef6c-6dc5-48e5-91e2-b0c10bd8630b",
     "showTitle": false,
     "tableResultSettingsMap": {},
     "title": ""
    }
   },
   "outputs": [],
   "source": [
    "##{'Game':\"Disney Emoji Blitz\",'URL':\"https://docs.google.com/spreadsheets/d/1rRS6jnCX16tpWpXxknvGmui6KAwLO8-l7Qxsj6j6f98/edit?gid=980819314#gid=980819314\""
   ]
  },
  {
   "cell_type": "code",
   "execution_count": 0,
   "metadata": {
    "application/vnd.databricks.v1+cell": {
     "cellMetadata": {
      "byteLimit": 2048000,
      "rowLimit": 10000
     },
     "inputWidgets": {},
     "nuid": "9ce87465-3eee-4861-992b-c88f68a772c3",
     "showTitle": false,
     "tableResultSettingsMap": {},
     "title": ""
    }
   },
   "outputs": [],
   "source": [
    "#october_urls = [{'Game':\"Disney Emoji Blitz\",'URL':\"https://docs.google.com/spreadsheets/d/1rRS6jnCX16tpWpXxknvGmui6KAwLO8-l7Qxsj6j6f98/edit?gid=980819314#gid=980819314\"},]"
   ]
  },
  {
   "cell_type": "code",
   "execution_count": 0,
   "metadata": {
    "application/vnd.databricks.v1+cell": {
     "cellMetadata": {
      "byteLimit": 2048000,
      "rowLimit": 10000
     },
     "inputWidgets": {},
     "nuid": "b076b05c-c765-4096-997b-d25172063ac4",
     "showTitle": false,
     "tableResultSettingsMap": {},
     "title": ""
    }
   },
   "outputs": [],
   "source": [
    "october_urls = [{'Game':'Cookie Jam', \"URL\": \"https://docs.google.com/spreadsheets/d/1zXG3nuxrfHtKRw98COt1kwjecAIjQ4iGl0b3NDMes1w/edit?usp=sharing\"}]"
   ]
  },
  {
   "cell_type": "code",
   "execution_count": 0,
   "metadata": {
    "application/vnd.databricks.v1+cell": {
     "cellMetadata": {
      "byteLimit": 2048000,
      "rowLimit": 10000
     },
     "inputWidgets": {},
     "nuid": "e95a7698-83e9-4f37-95a7-ff2c13e53b3f",
     "showTitle": false,
     "tableResultSettingsMap": {},
     "title": ""
    }
   },
   "outputs": [],
   "source": [
    "base_request = {\"RowFingerprint\":\"aso_october_cj\",\n",
    "                    \"Timestamp\":datetime.datetime.now().strftime(\"%Y-%m-%d %H:%M:%S\"),\n",
    "                    \"SubmitterEmail\":\"krista@jamcity.com\",\n",
    "                    \"DueDate\":\"9/4/25\",\n",
    "                    'LocType':\"ASO\", \n",
    "                    'TargetLanguages':\"\",\n",
    "                    \"QAFlag\":\"\"}\n",
    "\n",
    "cfg = {\n",
    "    \"input\": \n",
    "        {\n",
    "            \"required_tabs\": [\"ios\",\"android\"],\n",
    "            \"ios_header_rows\": 3, \n",
    "            \"android_header_rows\": 3\n",
    "        },\n",
    "    ##add more formatting data for header rows\n",
    "    \"char_limit_policy\": \"strict\",\n",
    "    \"output_sheets\":\n",
    "        [\"formatted ios\", \"formatted android\", \"long results\",'wide results'],\n",
    "    ##add more formatting info for output sheets\n",
    "    \"log_full_artifacts\":True}\n",
    "\n",
    "localizers= []\n",
    "for i in october_urls:\n",
    "    i = {**base_request, **i}\n",
    "    localizer = ASOLocalizer(request = i, gsheet_client =gsheet_client, gpt_client = gpt_client, cfg=cfg)\n",
    "    localizers.append(localizer)"
   ]
  },
  {
   "cell_type": "code",
   "execution_count": 0,
   "metadata": {
    "application/vnd.databricks.v1+cell": {
     "cellMetadata": {
      "byteLimit": 2048000,
      "rowLimit": 10000
     },
     "inputWidgets": {},
     "nuid": "e05f349b-ff2c-4ef6-8514-1caf3caf6146",
     "showTitle": false,
     "tableResultSettingsMap": {},
     "title": ""
    }
   },
   "outputs": [],
   "source": [
    "localizers[0].run()"
   ]
  },
  {
   "cell_type": "code",
   "execution_count": 0,
   "metadata": {
    "application/vnd.databricks.v1+cell": {
     "cellMetadata": {},
     "inputWidgets": {},
     "nuid": "5b36670b-1511-420a-97e2-39ed21d6f482",
     "showTitle": false,
     "tableResultSettingsMap": {},
     "title": ""
    }
   },
   "outputs": [],
   "source": []
  },
  {
   "cell_type": "code",
   "execution_count": 0,
   "metadata": {
    "application/vnd.databricks.v1+cell": {
     "cellMetadata": {
      "byteLimit": 2048000,
      "rowLimit": 10000
     },
     "inputWidgets": {},
     "nuid": "db2d6aef-a9ce-4bb6-8588-8991fe541399",
     "showTitle": false,
     "tableResultSettingsMap": {},
     "title": ""
    }
   },
   "outputs": [],
   "source": [
    "#mlflow.end_run(\"3739efa5a69945e09c0e817f98137087\")\n",
    "run = mlflow.active_run()\n",
    "mlflow.end_run()"
   ]
  },
  {
   "cell_type": "markdown",
   "metadata": {
    "application/vnd.databricks.v1+cell": {
     "cellMetadata": {
      "byteLimit": 2048000,
      "rowLimit": 10000
     },
     "inputWidgets": {},
     "nuid": "56e159de-1ca4-40d7-87b1-69bafb39e1e1",
     "showTitle": false,
     "tableResultSettingsMap": {},
     "title": ""
    }
   },
   "source": []
  },
  {
   "cell_type": "code",
   "execution_count": 0,
   "metadata": {
    "application/vnd.databricks.v1+cell": {
     "cellMetadata": {
      "byteLimit": 2048000,
      "rowLimit": 10000
     },
     "inputWidgets": {},
     "nuid": "2ae645c5-eab9-48ea-b7f0-1a3035a0b1c2",
     "showTitle": false,
     "tableResultSettingsMap": {},
     "title": ""
    }
   },
   "outputs": [],
   "source": [
    "print(mlflow.active_run())\n",
    "mlflow.end_run()"
   ]
  },
  {
   "cell_type": "code",
   "execution_count": 0,
   "metadata": {
    "application/vnd.databricks.v1+cell": {
     "cellMetadata": {
      "byteLimit": 2048000,
      "rowLimit": 10000
     },
     "inputWidgets": {},
     "nuid": "e17cf0d9-8579-4e2c-9335-55a741484ef1",
     "showTitle": false,
     "tableResultSettingsMap": {},
     "title": ""
    }
   },
   "outputs": [],
   "source": [
    "results"
   ]
  },
  {
   "cell_type": "code",
   "execution_count": 0,
   "metadata": {
    "application/vnd.databricks.v1+cell": {
     "cellMetadata": {
      "byteLimit": 2048000,
      "rowLimit": 10000
     },
     "inputWidgets": {},
     "nuid": "c68c2b8b-8da6-4b1c-b9d0-354c9ec354b0",
     "showTitle": false,
     "tableResultSettingsMap": {},
     "title": ""
    }
   },
   "outputs": [],
   "source": [
    "results = []\n",
    "for loc in localizers:\n",
    "    print(f\"Running for {loc.request['Game']}\")\n",
    "    results.append(loc.run())\n",
    "    #postprocessed = loc.postprocess(results)\n",
    "    #print(loc.write_outputs(postprocessed))"
   ]
  },
  {
   "cell_type": "code",
   "execution_count": 0,
   "metadata": {
    "application/vnd.databricks.v1+cell": {
     "cellMetadata": {
      "byteLimit": 2048000,
      "rowLimit": 10000
     },
     "inputWidgets": {},
     "nuid": "d50dded8-2608-417d-a64b-b4d6a179423d",
     "showTitle": false,
     "tableResultSettingsMap": {},
     "title": ""
    }
   },
   "outputs": [],
   "source": [
    "results"
   ]
  },
  {
   "cell_type": "code",
   "execution_count": 0,
   "metadata": {
    "application/vnd.databricks.v1+cell": {
     "cellMetadata": {
      "byteLimit": 2048000,
      "rowLimit": 10000
     },
     "inputWidgets": {},
     "nuid": "b1b5fdd5-dc78-400a-a7b1-a91356ea32f1",
     "showTitle": false,
     "tableResultSettingsMap": {},
     "title": ""
    }
   },
   "outputs": [],
   "source": [
    "\"\"\"\n",
    "request =  {\"RowFingerprint\":\"testing_aso_run_v2\",\n",
    "                    \"Timestamp\":datetime.datetime.now().strftime(\"%Y-%m-%d %H:%M:%S\"),\n",
    "                    \"SubmitterEmail\":\"krista@jamcity.com\",\n",
    "                    \"DueDate\":\"8/29/25\",\n",
    "                    'LocType':\"ASO\", \n",
    "                    'Game':\"Panda Pop\", \n",
    "                    'TargetLanguages':\"\",\n",
    "                    \"URL\":\"https://docs.google.com/spreadsheets/d/1QsZqlJ_vZC5fYIKnSFdhkUxi-UAIRNzTB24DDyoZMhU/edit?gid=980819314#gid=980819314\",\n",
    "                    \"QAFlag\":\"\"}\n",
    "\n",
    "\n",
    "cfg = {\n",
    "    \"input\": \n",
    "        {\n",
    "            \"required_tabs\": [\"ios\",\"android\"],\n",
    "            \"ios_header_rows\": 3, \n",
    "            \"android_header_rows\": 3\n",
    "        },\n",
    "    ##add more formatting data for header rows\n",
    "    \"char_limit_policy\": \"strict\",\n",
    "    \"output_sheets\":\n",
    "        [\"formatted ios\", \"formatted android\", \"long results\",'wide results'],\n",
    "    ##add more formatting info for output sheets\n",
    "    }\"\"\""
   ]
  },
  {
   "cell_type": "code",
   "execution_count": 0,
   "metadata": {
    "application/vnd.databricks.v1+cell": {
     "cellMetadata": {
      "byteLimit": 2048000,
      "rowLimit": 10000
     },
     "inputWidgets": {},
     "nuid": "92eb69e8-2b7d-4da4-a181-7d73546a0a4e",
     "showTitle": false,
     "tableResultSettingsMap": {},
     "title": ""
    }
   },
   "outputs": [],
   "source": [
    "localizer = ASOLocalizer(request = request, gsheet_client =gsheet_client, gpt_client = gpt_client, cfg=cfg)"
   ]
  },
  {
   "cell_type": "code",
   "execution_count": 0,
   "metadata": {
    "application/vnd.databricks.v1+cell": {
     "cellMetadata": {
      "byteLimit": 2048000,
      "rowLimit": 10000
     },
     "inputWidgets": {},
     "nuid": "b45a4fee-8256-4f4e-be54-75d37199c796",
     "showTitle": false,
     "tableResultSettingsMap": {},
     "title": ""
    }
   },
   "outputs": [],
   "source": [
    "#localizer.run()"
   ]
  },
  {
   "cell_type": "code",
   "execution_count": 0,
   "metadata": {
    "application/vnd.databricks.v1+cell": {
     "cellMetadata": {},
     "inputWidgets": {},
     "nuid": "db2bc74e-c28e-48a4-ad08-c9da02c067a5",
     "showTitle": false,
     "tableResultSettingsMap": {},
     "title": ""
    }
   },
   "outputs": [],
   "source": []
  }
 ],
 "metadata": {
  "application/vnd.databricks.v1+notebook": {
   "computePreferences": null,
   "dashboards": [],
   "environmentMetadata": {
    "base_environment": "",
    "environment_version": "3"
   },
   "inputWidgetPreferences": null,
   "language": "python",
   "notebookMetadata": {
    "pythonIndentUnit": 4
   },
   "notebookName": "ASO- Test Localizer - RUN",
   "widgets": {}
  },
  "language_info": {
   "name": "python"
  }
 },
 "nbformat": 4,
 "nbformat_minor": 0
}
