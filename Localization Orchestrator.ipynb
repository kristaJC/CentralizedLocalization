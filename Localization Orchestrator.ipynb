{
 "cells": [
  {
   "cell_type": "code",
   "execution_count": 0,
   "metadata": {
    "application/vnd.databricks.v1+cell": {
     "cellMetadata": {
      "byteLimit": 2048000,
      "rowLimit": 10000
     },
     "inputWidgets": {},
     "nuid": "b2bd8d2d-a3ca-4474-9efc-6eda276d820f",
     "showTitle": false,
     "tableResultSettingsMap": {},
     "title": ""
    }
   },
   "outputs": [],
   "source": [
    "%pip install unidecode gspread==5.12.4\n",
    "%restart_python\n",
    "%load_ext autoreload\n",
    "%autoreload 2 "
   ]
  },
  {
   "cell_type": "code",
   "execution_count": 0,
   "metadata": {
    "application/vnd.databricks.v1+cell": {
     "cellMetadata": {
      "byteLimit": 2048000,
      "rowLimit": 10000
     },
     "inputWidgets": {},
     "nuid": "a6c748e3-7d59-4443-b61c-169d15637f64",
     "showTitle": false,
     "tableResultSettingsMap": {},
     "title": ""
    }
   },
   "outputs": [],
   "source": [
    "from abc import ABC, abstractmethod\n",
    "import time\n",
    "import mlflow\n",
    "from contextlib import contextmanager\n",
    "import json\n",
    "import pandas as pd\n",
    "import datetime\n",
    "import re\n",
    "import openai\n",
    "from openai import OpenAI\n",
    "import gspread\n",
    "import random\n",
    "import logging\n",
    "import os\n",
    "from unidecode import unidecode\n",
    "from pathlib import Path\n",
    "import pyspark\n",
    "from pyspark.sql.functions import *\n",
    "from pyspark.sql.types import *\n",
    "from functools import reduce\n",
    "from typing import *\n",
    "import tiktoken\n",
    "import io\n",
    "\n",
    "\n",
    "from localizers.general_config import CENTRALIZED_SHEET_URL, DIR"
   ]
  },
  {
   "cell_type": "code",
   "execution_count": 0,
   "metadata": {
    "application/vnd.databricks.v1+cell": {
     "cellMetadata": {
      "byteLimit": 2048000,
      "rowLimit": 10000
     },
     "inputWidgets": {},
     "nuid": "43b53182-28d0-45ba-a6cd-824b353a5a65",
     "showTitle": false,
     "tableResultSettingsMap": {},
     "title": ""
    }
   },
   "outputs": [],
   "source": [
    "#Orchestrator"
   ]
  },
  {
   "cell_type": "code",
   "execution_count": 0,
   "metadata": {
    "application/vnd.databricks.v1+cell": {
     "cellMetadata": {
      "byteLimit": 2048000,
      "rowLimit": 10000
     },
     "inputWidgets": {},
     "nuid": "82d3056d-0369-433b-9e60-072a10bed038",
     "showTitle": false,
     "tableResultSettingsMap": {},
     "title": ""
    }
   },
   "outputs": [],
   "source": [
    "%run \"./authenticationScript\""
   ]
  },
  {
   "cell_type": "code",
   "execution_count": 0,
   "metadata": {
    "application/vnd.databricks.v1+cell": {
     "cellMetadata": {
      "byteLimit": 2048000,
      "rowLimit": 10000
     },
     "inputWidgets": {},
     "nuid": "e982d0f4-0ae6-420f-b90d-10d4e34a714e",
     "showTitle": false,
     "tableResultSettingsMap": {},
     "title": ""
    }
   },
   "outputs": [],
   "source": [
    "gc = get_gspread_client_from_secret_old()\n"
   ]
  },
  {
   "cell_type": "markdown",
   "metadata": {
    "application/vnd.databricks.v1+cell": {
     "cellMetadata": {
      "batchId": -8124137557435314,
      "byteLimit": 2048000,
      "rowLimit": 10000
     },
     "inputWidgets": {},
     "nuid": "7278ae36-3df8-4046-8221-57ccd965ea33",
     "showTitle": false,
     "tableResultSettingsMap": {},
     "title": ""
    }
   },
   "source": [
    "# Check for any new requests"
   ]
  },
  {
   "cell_type": "code",
   "execution_count": 0,
   "metadata": {
    "application/vnd.databricks.v1+cell": {
     "cellMetadata": {
      "byteLimit": 2048000,
      "rowLimit": 10000
     },
     "inputWidgets": {},
     "nuid": "13979b9c-88ae-4be3-834d-799fa17c4714",
     "showTitle": false,
     "tableResultSettingsMap": {},
     "title": ""
    }
   },
   "outputs": [],
   "source": [
    "### OPEN THE CENTRALIZED SHEET\n",
    "sh = gc.open_by_url(CENTRALIZED_SHEET_URL)\n",
    "tab = sh.worksheet(\"Sheet1\")\n",
    "\n",
    "all_rows = tab.get_all_values()\n",
    "headers = all_rows[0]\n",
    "vals = all_rows[1:]\n",
    "\n",
    "\n",
    "# ONLY LOOK FOR REQUESTS THAT WERE JUST SUBMITTED\n",
    "requests = spark.createDataFrame(vals, schema=headers).filter(col(\"Status\") == \"SUBMITTED\")\n"
   ]
  },
  {
   "cell_type": "code",
   "execution_count": 0,
   "metadata": {
    "application/vnd.databricks.v1+cell": {
     "cellMetadata": {
      "byteLimit": 2048000,
      "rowLimit": 10000
     },
     "inputWidgets": {},
     "nuid": "2bbb3aec-94d5-4e45-885c-0cc148a12188",
     "showTitle": false,
     "tableResultSettingsMap": {
      "0": {
       "dataGridStateBlob": "{\"version\":1,\"tableState\":{\"columnPinning\":{\"left\":[\"#row_number#\"],\"right\":[]},\"columnSizing\":{},\"columnVisibility\":{}},\"settings\":{\"columns\":{\"URL\":{\"format\":{\"preset\":\"string-preset-url\"}}}},\"syncTimestamp\":1758058211951}",
       "filterBlob": null,
       "queryPlanFiltersBlob": null,
       "tableResultIndex": 0
      }
     },
     "title": ""
    }
   },
   "outputs": [],
   "source": [
    "requests.display()"
   ]
  },
  {
   "cell_type": "code",
   "execution_count": 0,
   "metadata": {
    "application/vnd.databricks.v1+cell": {
     "cellMetadata": {
      "byteLimit": 2048000,
      "rowLimit": 10000
     },
     "inputWidgets": {},
     "nuid": "099954b1-7693-4b5c-817e-2fc87a84f539",
     "showTitle": false,
     "tableResultSettingsMap": {},
     "title": ""
    }
   },
   "outputs": [],
   "source": [
    "if requests.count()<1:\n",
    "    dbutils.notebook.exit(\"Nothing to update here...\")"
   ]
  },
  {
   "cell_type": "markdown",
   "metadata": {
    "application/vnd.databricks.v1+cell": {
     "cellMetadata": {
      "batchId": -8124137557435314,
      "byteLimit": 2048000,
      "rowLimit": 10000
     },
     "inputWidgets": {},
     "nuid": "4f2cb0aa-52ac-4d74-a5e7-a8ab9eacbfab",
     "showTitle": false,
     "tableResultSettingsMap": {},
     "title": ""
    }
   },
   "source": [
    "## Filter each to different categories based on use case"
   ]
  },
  {
   "cell_type": "code",
   "execution_count": 0,
   "metadata": {
    "application/vnd.databricks.v1+cell": {
     "cellMetadata": {
      "byteLimit": 2048000,
      "rowLimit": 10000
     },
     "inputWidgets": {},
     "nuid": "5d95b995-a1bd-46b7-96e6-97a3635c24b1",
     "showTitle": false,
     "tableResultSettingsMap": {},
     "title": ""
    }
   },
   "outputs": [],
   "source": [
    "publishing = requests.filter(col(\"LocType\") == \"Publishing\").toPandas()\n",
    "ingame = requests.filter(col(\"LocType\") == \"InGame\").toPandas()\n",
    "\n",
    "# we are gonna do we need to further generalize the\n",
    "marketing = requests.filter(col(\"LocType\") == \"Marketing\").toPandas()\n",
    "\n",
    "#generic = requests.filter(col(\"LocType\")!= \"Publishing\" or col(\"LocType\") != \"InGame\").toPandas()"
   ]
  },
  {
   "cell_type": "markdown",
   "metadata": {
    "application/vnd.databricks.v1+cell": {
     "cellMetadata": {
      "byteLimit": 2048000,
      "rowLimit": 10000
     },
     "inputWidgets": {},
     "nuid": "26a9a582-900a-4c71-8e57-459a21a6e10e",
     "showTitle": false,
     "tableResultSettingsMap": {},
     "title": ""
    }
   },
   "source": [
    "#### Run for Publishing"
   ]
  },
  {
   "cell_type": "code",
   "execution_count": 0,
   "metadata": {
    "application/vnd.databricks.v1+cell": {
     "cellMetadata": {
      "byteLimit": 2048000,
      "rowLimit": 10000
     },
     "inputWidgets": {},
     "nuid": "46677674-1e76-439f-bc51-1204c0765f12",
     "showTitle": false,
     "tableResultSettingsMap": {},
     "title": ""
    }
   },
   "outputs": [],
   "source": [
    "\n",
    "# Run publishing\n",
    "\n",
    "#TODO: Test this for recent submission (9/18/25)\n",
    "pub_outputs = []\n",
    "\"\"\"\n",
    "for idx, row in publishing.iterrows():\n",
    "    pub_output = dbutils.notebook.run(DIR+\"Publishing\",10000, row.to_dict())\n",
    "    output = json.loads(output)\n",
    "    row['Status'] = output['status']\n",
    "    row['RunID'] = output['run_id']\n",
    "    row['LastStatusUpdate'] = datetime.datetime.now().strftime(\"%Y-%m-%d %H:%M:%S\")\n",
    "\n",
    "    pub_outputs.append(row)\n",
    "\"\"\""
   ]
  },
  {
   "cell_type": "markdown",
   "metadata": {
    "application/vnd.databricks.v1+cell": {
     "cellMetadata": {
      "byteLimit": 2048000,
      "rowLimit": 10000
     },
     "inputWidgets": {},
     "nuid": "3661e3b8-afe7-4841-a947-1b3c5dc87d16",
     "showTitle": false,
     "tableResultSettingsMap": {},
     "title": ""
    }
   },
   "source": [
    "#### Run for InGame"
   ]
  },
  {
   "cell_type": "code",
   "execution_count": 0,
   "metadata": {
    "application/vnd.databricks.v1+cell": {
     "cellMetadata": {
      "byteLimit": 2048000,
      "rowLimit": 10000
     },
     "inputWidgets": {},
     "nuid": "cfa5f799-fdb1-45f3-95c6-516611a476cc",
     "showTitle": false,
     "tableResultSettingsMap": {},
     "title": ""
    }
   },
   "outputs": [],
   "source": [
    "# Run ingame\n",
    "\n",
    "in_game_outputs = []\n",
    "for idx, row in ingame.iterrows():\n",
    "   #print(row)\n",
    "    output = dbutils.notebook.run(DIR+\"InGame Localizer\",10000, row.to_dict()))\n",
    "    output = json.loads(output)\n",
    "\n",
    "    row['Status'] = output['status']\n",
    "    row['RunID'] = output['run_id']\n",
    "    row['LastStatusUpdate'] = datetime.datetime.now().strftime(\"%Y-%m-%d %H:%M:%S\")\n",
    "\n",
    "    in_game_outputs.append(row)\n"
   ]
  },
  {
   "cell_type": "markdown",
   "metadata": {
    "application/vnd.databricks.v1+cell": {
     "cellMetadata": {
      "byteLimit": 2048000,
      "rowLimit": 10000
     },
     "inputWidgets": {},
     "nuid": "34b8a46d-1d6c-4a4a-a277-4c982fdecd79",
     "showTitle": false,
     "tableResultSettingsMap": {},
     "title": ""
    }
   },
   "source": [
    "#### Run for marketing"
   ]
  },
  {
   "cell_type": "code",
   "execution_count": 0,
   "metadata": {
    "application/vnd.databricks.v1+cell": {
     "cellMetadata": {
      "byteLimit": 2048000,
      "rowLimit": 10000
     },
     "inputWidgets": {},
     "nuid": "2c3e23cb-0368-4c65-b128-e90aea3a04dc",
     "showTitle": false,
     "tableResultSettingsMap": {},
     "title": ""
    }
   },
   "outputs": [],
   "source": [
    "# Run marketing\n",
    "marketing_outputs = []\n",
    "for idx, row in marketing.iterrows():\n",
    "   \n",
    "    # run the marketing notebook for each row\n",
    "    output = dbutils.notebook.run(DIR+\"Generic Localizer\", 10000,row.to_dict())\n",
    "\n",
    "    output = json.loads(output)\n",
    "    row['Status'] = output['status']\n",
    "    row['RunID'] = output['run_id']\n",
    "    row['LastStatusUpdate'] = datetime.datetime.now().strftime(\"%Y-%m-%d %H:%M:%S\")\n",
    "\n",
    "    marketing_outputs.append(row)"
   ]
  },
  {
   "cell_type": "code",
   "execution_count": 0,
   "metadata": {
    "application/vnd.databricks.v1+cell": {
     "cellMetadata": {
      "byteLimit": 2048000,
      "rowLimit": 10000
     },
     "inputWidgets": {},
     "nuid": "978759f4-5fbd-4aba-a65e-6fcad8d94f67",
     "showTitle": false,
     "tableResultSettingsMap": {},
     "title": ""
    }
   },
   "outputs": [],
   "source": [
    "# Run generic\n",
    "generic_outputs = []\n",
    "\"\"\"\n",
    "for idx, row in marketing.iterrows():\n",
    "   \n",
    "    output = dbutils.notebook.run(DIR+\"Generic Localizer\", 10000,row.to_dict())\n",
    "\n",
    "    output = json.loads(output)\n",
    "    row['Status'] = output['status']\n",
    "    row['RunID'] = output['run_id']\n",
    "    row['LastStatusUpdate'] = datetime.datetime.now().strftime(\"%Y-%m-%d %H:%M:%S\")\n",
    "\n",
    "    generic_outputs.append(row)\"\"\""
   ]
  },
  {
   "cell_type": "code",
   "execution_count": 0,
   "metadata": {
    "application/vnd.databricks.v1+cell": {
     "cellMetadata": {
      "byteLimit": 2048000,
      "rowLimit": 10000
     },
     "inputWidgets": {},
     "nuid": "cb26f4d1-4210-4c19-9f79-062d0a31de7f",
     "showTitle": false,
     "tableResultSettingsMap": {},
     "title": ""
    }
   },
   "outputs": [],
   "source": [
    "## Ok, write all together.\n",
    "\n",
    "updates = []\n",
    "if len(pub_outputs)>0:\n",
    "    updates.append(pd.DataFrame(pub_outputs))\n",
    "if len(in_game_outputs)>0:\n",
    "    updates.append(pd.DataFrame(in_game_outputs))   \n",
    "if len(marketing_outputs)>0:\n",
    "    updates.append(pd.DataFrame(marketing_outputs))\n",
    "if len(generic_outputs)>0:\n",
    "    updates.append(pd.DataFrame(generic_outputs))\n",
    "\n",
    "if len(updates)>1:\n",
    "    updates = pd.concat(updates)\n",
    "if len(updates)==1:\n",
    "    updates = updates[0] \n",
    "if len(updates)==0:\n",
    "    print(\"nothing to update!!\")\n",
    "    dbutils.notebook.exit(\"Nothing to see here\")"
   ]
  },
  {
   "cell_type": "markdown",
   "metadata": {
    "application/vnd.databricks.v1+cell": {
     "cellMetadata": {
      "byteLimit": 2048000,
      "rowLimit": 10000
     },
     "inputWidgets": {},
     "nuid": "8e4ef0f0-ece4-4396-b703-9d997cf71e8e",
     "showTitle": false,
     "tableResultSettingsMap": {},
     "title": ""
    }
   },
   "source": [
    "## Update the cells in the centralized tracking sheet"
   ]
  },
  {
   "cell_type": "code",
   "execution_count": 0,
   "metadata": {
    "application/vnd.databricks.v1+cell": {
     "cellMetadata": {
      "byteLimit": 2048000,
      "rowLimit": 10000
     },
     "inputWidgets": {},
     "nuid": "7ec8b7fd-052b-4680-abd6-56cf7fddded1",
     "showTitle": false,
     "tableResultSettingsMap": {},
     "title": ""
    }
   },
   "outputs": [],
   "source": [
    "updates"
   ]
  },
  {
   "cell_type": "code",
   "execution_count": 0,
   "metadata": {
    "application/vnd.databricks.v1+cell": {
     "cellMetadata": {
      "byteLimit": 2048000,
      "rowLimit": 10000
     },
     "inputWidgets": {},
     "nuid": "6dc7ea34-3466-4085-81e1-c692f5d55240",
     "showTitle": false,
     "tableResultSettingsMap": {},
     "title": ""
    }
   },
   "outputs": [],
   "source": [
    "for i, row in updates.iterrows():\n",
    "    cell = tab.find(row['RowFingerprint'])\n",
    "    status_range = f\"I{cell.row}\" # status\n",
    "    last_updated = f\"J{cell.row}\" # last updated\n",
    "    run_id = f\"L{cell.row}\" # run_id \n",
    "\n",
    "\n",
    "    tab.update_acell(status_range,row['Status'])\n",
    "    tab.update_acell(last_updated,row['LastStatusUpdate'])\n",
    "    tab.update_acell(run_id,row['RunID'])\n",
    "\n"
   ]
  },
  {
   "cell_type": "code",
   "execution_count": 0,
   "metadata": {
    "application/vnd.databricks.v1+cell": {
     "cellMetadata": {
      "byteLimit": 2048000,
      "rowLimit": 10000
     },
     "inputWidgets": {},
     "nuid": "54a5131c-83f4-4b00-92e5-d29161671582",
     "showTitle": false,
     "tableResultSettingsMap": {},
     "title": ""
    }
   },
   "outputs": [],
   "source": []
  }
 ],
 "metadata": {
  "application/vnd.databricks.v1+notebook": {
   "computePreferences": null,
   "dashboards": [],
   "environmentMetadata": {
    "base_environment": "",
    "environment_version": "3"
   },
   "inputWidgetPreferences": null,
   "language": "python",
   "notebookMetadata": {
    "pythonIndentUnit": 4
   },
   "notebookName": "Localization Orchestrator",
   "widgets": {}
  },
  "language_info": {
   "name": "python"
  }
 },
 "nbformat": 4,
 "nbformat_minor": 0
}
