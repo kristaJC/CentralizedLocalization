{
 "cells": [
  {
   "cell_type": "code",
   "execution_count": 0,
   "metadata": {
    "application/vnd.databricks.v1+cell": {
     "cellMetadata": {
      "byteLimit": 2048000,
      "rowLimit": 10000
     },
     "inputWidgets": {},
     "nuid": "3e679078-7fbc-461b-ad86-2355a428ff49",
     "showTitle": false,
     "tableResultSettingsMap": {},
     "title": ""
    }
   },
   "outputs": [],
   "source": [
    "%pip install openai unidecode gspread==5.12.4 tiktoken mlflow\n",
    "%restart_python\n",
    "%load_ext autoreload\n",
    "%autoreload 2 "
   ]
  },
  {
   "cell_type": "code",
   "execution_count": 0,
   "metadata": {
    "application/vnd.databricks.v1+cell": {
     "cellMetadata": {
      "byteLimit": 2048000,
      "rowLimit": 10000
     },
     "inputWidgets": {},
     "nuid": "0e4a9783-8bd4-48c1-aa9b-6b8eb165b2cb",
     "showTitle": false,
     "tableResultSettingsMap": {},
     "title": ""
    }
   },
   "outputs": [],
   "source": [
    "%restart_python\n",
    "%load_ext autoreload\n",
    "%autoreload 2 "
   ]
  },
  {
   "cell_type": "code",
   "execution_count": 0,
   "metadata": {
    "application/vnd.databricks.v1+cell": {
     "cellMetadata": {
      "byteLimit": 2048000,
      "rowLimit": 10000
     },
     "inputWidgets": {},
     "nuid": "1077ecb0-4ac8-4e58-9f37-a5875012903d",
     "showTitle": false,
     "tableResultSettingsMap": {},
     "title": ""
    }
   },
   "outputs": [],
   "source": [
    "from abc import ABC, abstractmethod\n",
    "import time\n",
    "import mlflow\n",
    "from contextlib import contextmanager\n",
    "import json\n",
    "import pandas as pd\n",
    "import datetime\n",
    "import re\n",
    "import openai\n",
    "from openai import OpenAI\n",
    "import gspread\n",
    "import random\n",
    "import logging\n",
    "import os\n",
    "from unidecode import unidecode\n",
    "from pathlib import Path\n",
    "import pyspark\n",
    "from pyspark.sql.functions import *\n",
    "from functools import reduce\n",
    "from typing import *\n",
    "import tiktoken\n",
    "\n",
    "\n",
    "from localizers.general_config import *\n",
    "from localizers.ml_tracker import MLTracker\n",
    "from localizers.generic_localizer import *\n",
    "#from InGame_Config import * "
   ]
  },
  {
   "cell_type": "code",
   "execution_count": 0,
   "metadata": {
    "application/vnd.databricks.v1+cell": {
     "cellMetadata": {
      "byteLimit": 2048000,
      "rowLimit": 10000
     },
     "inputWidgets": {},
     "nuid": "2238e9c8-cfba-49fc-b523-a2290043f567",
     "showTitle": false,
     "tableResultSettingsMap": {},
     "title": ""
    }
   },
   "outputs": [],
   "source": [
    "%run \"./authenticationScript\""
   ]
  },
  {
   "cell_type": "code",
   "execution_count": 0,
   "metadata": {
    "application/vnd.databricks.v1+cell": {
     "cellMetadata": {},
     "inputWidgets": {},
     "nuid": "64f1bbc9-dc48-4f1a-a6d5-e49f834eb88e",
     "showTitle": false,
     "tableResultSettingsMap": {},
     "title": ""
    }
   },
   "outputs": [],
   "source": [
    "def setup_widgets():\n",
    "    dbutils.widgets.text('RowFingerprint',\"\")\n",
    "    dbutils.widgets.text(\"Timestamp\",\"\")\n",
    "    dbutils.widgets.text(\"SubmitterEmail\",\"\")\n",
    "    dbutils.widgets.text(\"DueDate\",\"\")\n",
    "    dbutils.widgets.text('LocType',\"\")\n",
    "    dbutils.widgets.text(\"Game\",\"\")\n",
    "    dbutils.widgets.text(\"TargetLanguages\",\"\")\n",
    "    dbutils.widgets.text(\"URL\",\"\")\n",
    "    dbutils.widgets.text(\"QAFlag\",\"\")\n",
    "    dbutils.widgets.text(\"Status\",\"\")\n",
    "    dbutils.widgets.text(\"LastStatusUpdate\",\"\")\n",
    "\n",
    "def get_request():\n",
    "    return {'Timestamp':dbutils.widgets.get('Timestamp'), \n",
    "       'SubmitterEmail':dbutils.widgets.get('SubmitterEmail'),\n",
    "       'DueDate': dbutils.widgets.get(\"DueDate\"), \n",
    "       'Game':  dbutils.widgets.get(\"Game\"),\n",
    "       'TargetLanguages':  dbutils.widgets.get(\"TargetLanguages\"), \n",
    "       'URL': dbutils.widgets.get(\"URL\"), \n",
    "       'LocType': dbutils.widgets.get(\"LocType\"), \n",
    "       'RowFingerprint': dbutils.widgets.get(\"RowFingerprint\")}\n",
    "    \n",
    "setup_widgets()"
   ]
  },
  {
   "cell_type": "code",
   "execution_count": 0,
   "metadata": {
    "application/vnd.databricks.v1+cell": {
     "cellMetadata": {
      "byteLimit": 2048000,
      "rowLimit": 10000
     },
     "inputWidgets": {},
     "nuid": "0a8bc068-fdbf-43cd-a097-ab2c56746c91",
     "showTitle": false,
     "tableResultSettingsMap": {},
     "title": ""
    }
   },
   "outputs": [],
   "source": [
    "#TODO update authenticatinon script and secrets!!\n",
    "gsheet_client = get_gspread_client_from_secret_old()\n",
    "gpt_client = get_model_client() "
   ]
  },
  {
   "cell_type": "code",
   "execution_count": 0,
   "metadata": {
    "application/vnd.databricks.v1+cell": {
     "cellMetadata": {
      "byteLimit": 2048000,
      "rowLimit": 10000
     },
     "inputWidgets": {},
     "nuid": "b1b5fdd5-dc78-400a-a7b1-a91356ea32f1",
     "showTitle": false,
     "tableResultSettingsMap": {},
     "title": ""
    }
   },
   "outputs": [],
   "source": [
    "request = get_request()\n",
    "\n",
    "# PP cfg\n",
    "cfg = {\n",
    "    \"input\": {\"required_tabs\": [\"input\",\"output\"], \n",
    "              \"input_headers\": ['token', 'context', 'en_US'], \n",
    "              \"output_headers\": ['token','en_US','ja','fr',\n",
    "                'it','de','es','ko','da','sv','no','zh-TW',\n",
    "                'zh-CN','pt-BR','ru','ar','tr']\n",
    "    },\n",
    "    \"char_limit_policy\": \"loose\",\n",
    "    \"tracking_sheet_url\": \"\",\n",
    "}"
   ]
  },
  {
   "cell_type": "code",
   "execution_count": 0,
   "metadata": {
    "application/vnd.databricks.v1+cell": {
     "cellMetadata": {
      "byteLimit": 2048000,
      "rowLimit": 10000
     },
     "inputWidgets": {},
     "nuid": "1500d175-5441-4c28-8438-ff1cbcc35c27",
     "showTitle": false,
     "tableResultSettingsMap": {},
     "title": ""
    }
   },
   "outputs": [],
   "source": [
    "localizer = GenericLocalizer(request = request, \n",
    "                             gsheet_client =gsheet_client, \n",
    "                             gpt_client = gpt_client, \n",
    "                             cfg=cfg)\n",
    "\n",
    "# This should be able to handle any localization request that is NOT pubishing or in game, with varying input structures"
   ]
  },
  {
   "cell_type": "code",
   "execution_count": 0,
   "metadata": {
    "application/vnd.databricks.v1+cell": {
     "cellMetadata": {
      "byteLimit": 2048000,
      "rowLimit": 10000
     },
     "inputWidgets": {},
     "nuid": "125d32c5-21fe-4d7f-9309-8a7dff18e8e9",
     "showTitle": false,
     "tableResultSettingsMap": {},
     "title": ""
    }
   },
   "outputs": [],
   "source": [
    "results = localizer.run()"
   ]
  },
  {
   "cell_type": "code",
   "execution_count": 0,
   "metadata": {
    "application/vnd.databricks.v1+cell": {
     "cellMetadata": {},
     "inputWidgets": {},
     "nuid": "33ec32d0-9c33-455d-aa09-43c6e6d038d7",
     "showTitle": false,
     "tableResultSettingsMap": {},
     "title": ""
    }
   },
   "outputs": [],
   "source": [
    "dbutils.notebook.exit(json.dumps(results))"
   ]
  }
 ],
 "metadata": {
  "application/vnd.databricks.v1+notebook": {
   "computePreferences": null,
   "dashboards": [],
   "environmentMetadata": {
    "base_environment": "",
    "environment_version": "3"
   },
   "inputWidgetPreferences": null,
   "language": "python",
   "notebookMetadata": {
    "pythonIndentUnit": 4
   },
   "notebookName": "InGame Localizer",
   "widgets": {}
  },
  "language_info": {
   "name": "python"
  }
 },
 "nbformat": 4,
 "nbformat_minor": 0
}
