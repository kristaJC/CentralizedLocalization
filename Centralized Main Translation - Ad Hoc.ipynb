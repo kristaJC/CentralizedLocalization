{
 "cells": [
  {
   "cell_type": "code",
   "execution_count": 0,
   "metadata": {
    "application/vnd.databricks.v1+cell": {
     "cellMetadata": {
      "byteLimit": 2048000,
      "rowLimit": 10000
     },
     "inputWidgets": {},
     "nuid": "642cd1db-58b0-4032-9e06-61b32609d47f",
     "showTitle": false,
     "tableResultSettingsMap": {},
     "title": ""
    }
   },
   "outputs": [],
   "source": [
    "%pip install -r requirements_base.txt\n",
    "\n",
    "%restart_python"
   ]
  },
  {
   "cell_type": "code",
   "execution_count": 0,
   "metadata": {
    "application/vnd.databricks.v1+cell": {
     "cellMetadata": {
      "byteLimit": 2048000,
      "rowLimit": 10000
     },
     "inputWidgets": {},
     "nuid": "62f50229-29a5-4ddc-9565-337807cafc7a",
     "showTitle": false,
     "tableResultSettingsMap": {},
     "title": ""
    }
   },
   "outputs": [],
   "source": [
    "%restart_python"
   ]
  },
  {
   "cell_type": "code",
   "execution_count": 0,
   "metadata": {
    "application/vnd.databricks.v1+cell": {
     "cellMetadata": {},
     "inputWidgets": {},
     "nuid": "e74b7d5d-6a39-44f6-8fbd-07e8e5c731ac",
     "showTitle": false,
     "tableResultSettingsMap": {},
     "title": ""
    }
   },
   "outputs": [],
   "source": [
    "%load_ext autoreload\n",
    "%autoreload 2 "
   ]
  },
  {
   "cell_type": "code",
   "execution_count": 0,
   "metadata": {
    "application/vnd.databricks.v1+cell": {
     "cellMetadata": {},
     "inputWidgets": {},
     "nuid": "329924f4-df9a-4540-a46f-9e9967cc1e61",
     "showTitle": false,
     "tableResultSettingsMap": {},
     "title": ""
    }
   },
   "outputs": [],
   "source": [
    "def setup_widgets():\n",
    "    dbutils.widgets.text('WorkbookID',\"\") #OR just the WorkbookURL...\n",
    "    dbutils.widgets.text(\"SubmitterEmail\",\"\")\n",
    "    dbutils.widgets.text(\"SubmittedDate\",\"\")\n",
    "    dbutils.widgets.text(\"DueDate\",\"\")\n",
    "    dbutils.widgets.text(\"WorkbookURL\",\"\")\n",
    "    dbutils.widgets.text(\"RowFingerprint\",\"\")\n",
    "    dbutils.widgets.text(\"SourceCD\",\"\")\n",
    "    dbutils.widgets.text(\"Languages\",\"\")\n",
    "    dbutils.widgets.text(\"QAFlag\",\"\")\n",
    "    dbutils.widgets.text(\"JsonJobSlug\",\"\")\n"
   ]
  },
  {
   "cell_type": "code",
   "execution_count": 0,
   "metadata": {
    "application/vnd.databricks.v1+cell": {
     "cellMetadata": {},
     "inputWidgets": {},
     "nuid": "bd8a3fe7-cda0-4f36-b927-6016c132ccdb",
     "showTitle": false,
     "tableResultSettingsMap": {},
     "title": ""
    }
   },
   "outputs": [],
   "source": [
    "def get_widgets():\n",
    "\n",
    "    workbook_id = dbutils.widgets.get(\"WorkbookID\") #\"1PK2eEqNqX276YBgOOWz7MHWpWXAyKo5J1Bil7BgmsCs\"\n",
    "    submitter_email=dbutils.widgets.get('SubmitterEmail')\n",
    "    submitted_date = dbutils.widgets.get(\"SubmittedDate\")\n",
    "    workbook_url = dbutils.widgets.get(\"WorkbookURL\")\n",
    "    row_fingerprint = dbutils.widgets.get(\"RowFingerprint\")\n",
    "    json_job_slug = dbutils.widgets.get(\"JsonJobSlug\")\n",
    "    source_cd = dbutils.widgets.get(\"SourceCD\")\n",
    "\n",
    "    ### maybe not\n",
    "    languages = dbutils.widgets.get(\"Languages\")"
   ]
  },
  {
   "cell_type": "code",
   "execution_count": 0,
   "metadata": {
    "application/vnd.databricks.v1+cell": {
     "cellMetadata": {},
     "inputWidgets": {},
     "nuid": "72710a06-50df-4220-bc36-2a9debe817f4",
     "showTitle": false,
     "tableResultSettingsMap": {},
     "title": ""
    }
   },
   "outputs": [],
   "source": [
    "setup_widgets()"
   ]
  },
  {
   "cell_type": "code",
   "execution_count": 0,
   "metadata": {
    "application/vnd.databricks.v1+cell": {
     "cellMetadata": {},
     "inputWidgets": {},
     "nuid": "a588fbbf-7821-4083-9990-b758ded9859c",
     "showTitle": false,
     "tableResultSettingsMap": {},
     "title": ""
    }
   },
   "outputs": [],
   "source": [
    "workbook_id = dbutils.widgets.get(\"WorkbookID\") #\"1PK2eEqNqX276YBgOOWz7MHWpWXAyKo5J1Bil7BgmsCs\"\n",
    "submitter_email=dbutils.widgets.get('SubmitterEmail')\n",
    "submitted_date = dbutils.widgets.get(\"SubmittedDate\")\n",
    "workbook_url = dbutils.widgets.get(\"WorkbookURL\")\n",
    "row_fingerprint = dbutils.widgets.get(\"RowFingerprint\")\n",
    "json_job_slug = dbutils.widgets.get(\"JsonJobSlug\")\n",
    "source_cd = dbutils.widgets.get(\"SourceCD\")\n",
    "\n",
    "### maybe not\n",
    "languages = dbutils.widgets.get(\"Languages\")"
   ]
  }
 ],
 "metadata": {
  "application/vnd.databricks.v1+notebook": {
   "computePreferences": null,
   "dashboards": [],
   "environmentMetadata": {
    "base_environment": "",
    "environment_version": "2"
   },
   "inputWidgetPreferences": null,
   "language": "python",
   "notebookMetadata": {
    "pythonIndentUnit": 4
   },
   "notebookName": "Centralized Main Translation - Ad Hoc",
   "widgets": {}
  },
  "language_info": {
   "name": "python"
  }
 },
 "nbformat": 4,
 "nbformat_minor": 0
}
